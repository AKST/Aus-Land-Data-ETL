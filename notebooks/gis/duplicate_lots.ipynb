{
 "cells": [
  {
   "cell_type": "code",
   "execution_count": 1,
   "id": "e6d59554-50d6-4e08-9ebd-75da8c337742",
   "metadata": {},
   "outputs": [
    {
     "name": "stdout",
     "output_type": "stream",
     "text": [
      "/Users/angus/code/jupyter/notebooks/20240907, vg\n"
     ]
    },
    {
     "name": "stderr",
     "output_type": "stream",
     "text": [
      "/Users/angus/code/jupyter/env/lib/python3.12/site-packages/IPython/core/magics/osm.py:417: UserWarning: This is now an optional IPython functionality, setting dhist requires you to install the `pickleshare` library.\n",
      "  self.shell.db['dhist'] = compress_dhist(dhist)[-100:]\n"
     ]
    }
   ],
   "source": [
    "# put this in it's own codeblock because it'll keep \n",
    "# running otherwise and eventually move to the root dir lol\n",
    "%cd ../.."
   ]
  },
  {
   "cell_type": "code",
   "execution_count": 2,
   "id": "5348a748-adc0-4055-a97f-bc2f11d07f49",
   "metadata": {},
   "outputs": [
    {
     "name": "stdout",
     "output_type": "stream",
     "text": [
      "dbname=au_land_db_3 port=5431 user=postgres host=localhost password=throwAwayPassword3\n"
     ]
    }
   ],
   "source": [
    "from lib.service.database import DatabaseService\n",
    "from lib.defaults import INSTANCE_CFG\n",
    "import os\n",
    "\n",
    "os.makedirs('_out_img', exist_ok=True)\n",
    "\n",
    "db = DatabaseService.create(INSTANCE_CFG[3].database, 1)\n",
    "await db.wait_till_running()"
   ]
  },
  {
   "cell_type": "code",
   "execution_count": null,
   "id": "986df766-e3a3-4b47-88e7-2668a61bcba6",
   "metadata": {},
   "outputs": [],
   "source": [
    "import geopandas as gpd\n",
    "import matplotlib.pyplot as plt\n",
    "from matplotlib.patches import Patch\n",
    "\n",
    "\n",
    "df = gpd.read_postgis(\"\"\"\n",
    "select l.*, ROUND(v.area_variance::numeric, 2) as area_variance\n",
    "  from (\n",
    "    select lot_id_string, (MAX(shape_area) - MIN(shape_area)) AS area_variance\n",
    "      from nsw_spatial_lppt_raw.lot_feature_layer\n",
    "      group by lot_id_string\n",
    "      order by 2 DESC) v\n",
    "  left join nsw_spatial_lppt_raw.lot_feature_layer l using (lot_id_string)\n",
    "  where area_variance > 0\n",
    "  order by area_variance DESC, l.last_update DESC\n",
    "\"\"\", db.engine(), geom_col='geometry')\n",
    "\n",
    "lot_id_strings = df['lot_id_string'].unique().tolist()\n",
    "resolution = 8\n",
    "plot_cols, plot_rows = 12, 9\n",
    "\n",
    "for offset in range(0, len(lot_id_strings), plot_cols * plot_rows):\n",
    "    figsize = (plot_cols * resolution, plot_rows * resolution)\n",
    "    fig, ax = plt.subplots(plot_cols, plot_rows, figsize=figsize)\n",
    "    for subplot in range(0, min(plot_cols * plot_rows, len(lot_id_strings) - offset)):\n",
    "        ax_col = subplot % plot_cols\n",
    "        ax_row = subplot // plot_rows\n",
    "        sub_ax = ax[ax_row][ax_col]\n",
    "        lot_id = lot_id_strings[offset + subplot]\n",
    "        sub_df = df[df['lot_id_string'] == lot_id].reset_index(drop=True)\n",
    "\n",
    "        sub_df.iloc[[1]].plot(ax=sub_ax, color='none', edgecolor='blue', hatch='\\\\\\\\\\\\')\n",
    "        sub_df.iloc[[0]].plot(ax=sub_ax, color='none', edgecolor='red', hatch='///')\n",
    "        sub_ax.set_title(lot_id)\n",
    "        sub_ax.set_xlabel(f\"Variance {sub_df.loc[0, 'area_variance']}\", loc='left')\n",
    "        sub_ax.legend(handles=[\n",
    "            Patch(facecolor='white', edgecolor='red', label=sub_df.loc[0, 'start_date']),\n",
    "            Patch(facecolor='white', edgecolor='blue', label=sub_df.loc[1, 'start_date']),\n",
    "        ], loc='lower right')\n",
    "    plt.show()\n"
   ]
  },
  {
   "cell_type": "code",
   "execution_count": null,
   "id": "1263740a-1655-4c5c-a65c-1a066fa69bff",
   "metadata": {},
   "outputs": [],
   "source": []
  }
 ],
 "metadata": {
  "kernelspec": {
   "display_name": "Python 3 (ipykernel)",
   "language": "python",
   "name": "python3"
  },
  "language_info": {
   "codemirror_mode": {
    "name": "ipython",
    "version": 3
   },
   "file_extension": ".py",
   "mimetype": "text/x-python",
   "name": "python",
   "nbconvert_exporter": "python",
   "pygments_lexer": "ipython3",
   "version": "3.12.5"
  }
 },
 "nbformat": 4,
 "nbformat_minor": 5
}
