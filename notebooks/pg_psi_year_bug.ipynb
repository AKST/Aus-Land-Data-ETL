{
 "cells": [
  {
   "cell_type": "markdown",
   "id": "6077d28a-4340-4793-abd2-90226de82eb3",
   "metadata": {},
   "source": [
    "# Diagonising the source of an issue with ingesting PSI data\n",
    "\n",
    "At the time of writing this there seem to be an issue with the effective_date in property sales data."
   ]
  },
  {
   "cell_type": "code",
   "execution_count": 25,
   "id": "7d46c3ec-67cb-4043-9bf8-0b547ea08078",
   "metadata": {},
   "outputs": [
    {
     "name": "stdout",
     "output_type": "stream",
     "text": [
      "/\n",
      "dbname=gnaf_db port=5434 user=postgres host=localhost password=throwAwayPassword\n"
     ]
    },
    {
     "name": "stderr",
     "output_type": "stream",
     "text": [
      "Task was destroyed but it is pending!\n",
      "task: <Task pending name='pool-23-worker-0' coro=<AsyncConnectionPool.worker() running at /Users/angus/code/jupyter/env/lib/python3.12/site-packages/psycopg_pool/pool_async.py:623> wait_for=<Future pending cb=[Task.task_wakeup()]>>\n",
      "Task was destroyed but it is pending!\n",
      "task: <Task pending name='pool-23-worker-1' coro=<AsyncConnectionPool.worker() running at /Users/angus/code/jupyter/env/lib/python3.12/site-packages/psycopg_pool/pool_async.py:623> wait_for=<Future pending cb=[Task.task_wakeup()]>>\n",
      "Task was destroyed but it is pending!\n",
      "task: <Task pending name='pool-23-worker-2' coro=<AsyncConnectionPool.worker() running at /Users/angus/code/jupyter/env/lib/python3.12/site-packages/psycopg_pool/pool_async.py:623> wait_for=<Future pending cb=[Task.task_wakeup()]>>\n",
      "Task was destroyed but it is pending!\n",
      "task: <Task pending name='pool-24-worker-0' coro=<AsyncConnectionPool.worker() running at /Users/angus/code/jupyter/env/lib/python3.12/site-packages/psycopg_pool/pool_async.py:623> wait_for=<Future pending cb=[Task.task_wakeup()]>>\n",
      "Task was destroyed but it is pending!\n",
      "task: <Task pending name='pool-24-worker-2' coro=<AsyncConnectionPool.worker() running at /Users/angus/code/jupyter/env/lib/python3.12/site-packages/psycopg_pool/pool_async.py:623> wait_for=<Future pending cb=[Task.task_wakeup()]>>\n",
      "Task was destroyed but it is pending!\n",
      "task: <Task pending name='pool-24-worker-1' coro=<AsyncConnectionPool.worker() running at /Users/angus/code/jupyter/env/lib/python3.12/site-packages/psycopg_pool/pool_async.py:623> wait_for=<Future pending cb=[Task.task_wakeup()]>>\n"
     ]
    },
    {
     "ename": "FileNotFoundError",
     "evalue": "[Errno 2] No such file or directory: './_out_zip/nswvg_aps_2017/20171030/224_SALES_DATA_NNME_30102017.DAT'",
     "output_type": "error",
     "traceback": [
      "\u001b[0;31m---------------------------------------------------------------------------\u001b[0m",
      "\u001b[0;31mFileNotFoundError\u001b[0m                         Traceback (most recent call last)",
      "Cell \u001b[0;32mIn[25], line 21\u001b[0m\n\u001b[1;32m     19\u001b[0m \u001b[38;5;28;01mfor\u001b[39;00m i, row \u001b[38;5;129;01min\u001b[39;00m df\u001b[38;5;241m.\u001b[39miterrows():\n\u001b[1;32m     20\u001b[0m     file_path, position \u001b[38;5;241m=\u001b[39m row[\u001b[38;5;124m'\u001b[39m\u001b[38;5;124mfile_path\u001b[39m\u001b[38;5;124m'\u001b[39m], row[\u001b[38;5;124m'\u001b[39m\u001b[38;5;124mposition\u001b[39m\u001b[38;5;124m'\u001b[39m]\n\u001b[0;32m---> 21\u001b[0m     \u001b[38;5;28;01mwith\u001b[39;00m \u001b[38;5;28;43mopen\u001b[39;49m\u001b[43m(\u001b[49m\u001b[38;5;124;43mf\u001b[39;49m\u001b[38;5;124;43m'\u001b[39;49m\u001b[38;5;124;43m./\u001b[39;49m\u001b[38;5;132;43;01m{\u001b[39;49;00m\u001b[43mfile_path\u001b[49m\u001b[38;5;132;43;01m}\u001b[39;49;00m\u001b[38;5;124;43m'\u001b[39;49m\u001b[43m,\u001b[49m\u001b[43m \u001b[49m\u001b[38;5;124;43m'\u001b[39;49m\u001b[38;5;124;43mr\u001b[39;49m\u001b[38;5;124;43m'\u001b[39;49m\u001b[43m)\u001b[49m \u001b[38;5;28;01mas\u001b[39;00m f:\n\u001b[1;32m     22\u001b[0m         f\u001b[38;5;241m.\u001b[39mseek(position)\n\u001b[1;32m     23\u001b[0m         line \u001b[38;5;241m=\u001b[39m \u001b[38;5;28mnext\u001b[39m(f\u001b[38;5;241m.\u001b[39mreadlines())\n",
      "File \u001b[0;32m~/code/jupyter/env/lib/python3.12/site-packages/IPython/core/interactiveshell.py:324\u001b[0m, in \u001b[0;36m_modified_open\u001b[0;34m(file, *args, **kwargs)\u001b[0m\n\u001b[1;32m    317\u001b[0m \u001b[38;5;28;01mif\u001b[39;00m file \u001b[38;5;129;01min\u001b[39;00m {\u001b[38;5;241m0\u001b[39m, \u001b[38;5;241m1\u001b[39m, \u001b[38;5;241m2\u001b[39m}:\n\u001b[1;32m    318\u001b[0m     \u001b[38;5;28;01mraise\u001b[39;00m \u001b[38;5;167;01mValueError\u001b[39;00m(\n\u001b[1;32m    319\u001b[0m         \u001b[38;5;124mf\u001b[39m\u001b[38;5;124m\"\u001b[39m\u001b[38;5;124mIPython won\u001b[39m\u001b[38;5;124m'\u001b[39m\u001b[38;5;124mt let you open fd=\u001b[39m\u001b[38;5;132;01m{\u001b[39;00mfile\u001b[38;5;132;01m}\u001b[39;00m\u001b[38;5;124m by default \u001b[39m\u001b[38;5;124m\"\u001b[39m\n\u001b[1;32m    320\u001b[0m         \u001b[38;5;124m\"\u001b[39m\u001b[38;5;124mas it is likely to crash IPython. If you know what you are doing, \u001b[39m\u001b[38;5;124m\"\u001b[39m\n\u001b[1;32m    321\u001b[0m         \u001b[38;5;124m\"\u001b[39m\u001b[38;5;124myou can use builtins\u001b[39m\u001b[38;5;124m'\u001b[39m\u001b[38;5;124m open.\u001b[39m\u001b[38;5;124m\"\u001b[39m\n\u001b[1;32m    322\u001b[0m     )\n\u001b[0;32m--> 324\u001b[0m \u001b[38;5;28;01mreturn\u001b[39;00m \u001b[43mio_open\u001b[49m\u001b[43m(\u001b[49m\u001b[43mfile\u001b[49m\u001b[43m,\u001b[49m\u001b[43m \u001b[49m\u001b[38;5;241;43m*\u001b[39;49m\u001b[43margs\u001b[49m\u001b[43m,\u001b[49m\u001b[43m \u001b[49m\u001b[38;5;241;43m*\u001b[39;49m\u001b[38;5;241;43m*\u001b[39;49m\u001b[43mkwargs\u001b[49m\u001b[43m)\u001b[49m\n",
      "\u001b[0;31mFileNotFoundError\u001b[0m: [Errno 2] No such file or directory: './_out_zip/nswvg_aps_2017/20171030/224_SALES_DATA_NNME_30102017.DAT'"
     ]
    }
   ],
   "source": [
    "%cd ..\n",
    "\n",
    "import pandas as pd\n",
    "\n",
    "from lib.service.database import DatabaseService\n",
    "from lib.service.database.defaults import DB_INSTANCE_MAP\n",
    "\n",
    "db = DatabaseService.create(DB_INSTANCE_MAP[1], 1)\n",
    "await db.wait_till_running()\n",
    "engine = db.engine()\n",
    "\n",
    "df = pd.read_sql(\"\"\"\n",
    "select contract_date, * from nsw_vg_raw.ps_row_b\n",
    "order by contract_date\n",
    "limit 385\n",
    "\"\"\", engine)\n",
    "\n",
    "\n",
    "for i, row in df.iterrows():\n",
    "    file_path, position = row['file_path'], row['position']\n",
    "    with open(f'./{file_path}', 'r') as f:\n",
    "        f.seek(position)\n",
    "        line = next(f.readlines())\n",
    "        print(line)"
   ]
  }
 ],
 "metadata": {
  "kernelspec": {
   "display_name": "Python 3 (ipykernel)",
   "language": "python",
   "name": "python3"
  },
  "language_info": {
   "codemirror_mode": {
    "name": "ipython",
    "version": 3
   },
   "file_extension": ".py",
   "mimetype": "text/x-python",
   "name": "python",
   "nbconvert_exporter": "python",
   "pygments_lexer": "ipython3",
   "version": "3.12.5"
  }
 },
 "nbformat": 4,
 "nbformat_minor": 5
}
