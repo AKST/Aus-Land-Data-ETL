{
 "cells": [
  {
   "cell_type": "code",
   "execution_count": 1,
   "id": "e54cb203-fe8a-4600-8360-58f9c182ce0d",
   "metadata": {},
   "outputs": [
    {
     "name": "stdout",
     "output_type": "stream",
     "text": [
      "/Users/angus/code/jupyter/notebooks/20240907, vg\n"
     ]
    },
    {
     "name": "stderr",
     "output_type": "stream",
     "text": [
      "/Users/angus/code/jupyter/env/lib/python3.12/site-packages/IPython/core/magics/osm.py:417: UserWarning: This is now an optional IPython functionality, setting dhist requires you to install the `pickleshare` library.\n",
      "  self.shell.db['dhist'] = compress_dhist(dhist)[-100:]\n"
     ]
    }
   ],
   "source": [
    "%cd .."
   ]
  },
  {
   "cell_type": "markdown",
   "id": "6da3b19f-d9aa-4eff-a067-1bea931a02e1",
   "metadata": {},
   "source": [
    "# Lets figure out GIS\n",
    "\n",
    "## Todo\n",
    "\n",
    "- [ ] Get property boundaries loaded\n",
    "- [ ] Get planning layers loaded\n",
    "- [ ] Get heritage overlays loaded\n",
    "- [ ] Delete earlier notebook"
   ]
  },
  {
   "cell_type": "markdown",
   "id": "5bab50c8-e659-404e-a584-36ab02dfd82b",
   "metadata": {},
   "source": [
    "# Scrapping\n",
    "\n",
    "Here I'm testing different configurations for scrapping.\n",
    "\n",
    "## Different APIs to test\n",
    "\n",
    "- [NSW Spatial][portal-nsw-spatial] `https://portal.spatial.nsw.gov.au`\n",
    "  - **NSW Property feature layer**: this is of interest because it has NSW property id which can be used to link against the value general stuff.\n",
    "  - **NSW Lot feature layer**: This is interesting as it has lot numbers.\n",
    "- [Environment NSW][portal-nsw-environment]\n",
    "\n",
    "[portal-nsw-environment]: https://mapprod3.environment.nsw.gov.au/arcgis/rest/services/Planning/EPI_Primary_Planning_Layers/MapServer\n",
    "[portal-nsw-spatial]: https://portal.spatial.nsw.gov.au/server/rest/services/NSW_Land_Parcel_Property_Theme/FeatureServer\n",
    "\n",
    "## Request Times\n",
    "\n",
    "- Querying NSW Address field\n",
    "  - Filtering by `lastupdated` field\n",
    "    - Jan 2023 to Jun 2024, 0h 3m 55s\n",
    "    - Jan 2020 to Oct 2024, 0h 10m 39s \n",
    "    - Jan 2010 to Oct 2024, **4**h **16**m **29**s (`2410766` items)\n",
    "      - Interestingly when I saw the finished result the last result was `April 2013`. At the time I thought that was the earlier it went back, but I think that must have been a timeframe with some of the most updates.\n",
    "    - Feb 2013 to Apr 2013, **36**m **40**s (12 concurrent workers)\n",
    "      - I checked this to see `April 2013` is really the last period\n",
    "      - The first 2 months takes **2**m **27**s to run @ `25703` items\n",
    "      - There must be a lot of stuff here\n",
    "    - Jan 1990 to Feb 2013\n",
    "      - `143600` items in it's at **35**m **24**s\n",
    "      - got to `290100` items at **1**h **17**m **55**s and crashed on `2008-04-01`\n",
    "    - Apr 2008 to May 2008\n",
    "      - got to `249574` items at **1**h **1**m **4**s, still going\n",
    "      - got to `422941` items at **1**h **53**m **42**s, then crashed"
   ]
  },
  {
   "cell_type": "code",
   "execution_count": null,
   "id": "dd30e1cf-c3d0-4057-827e-5ae2831b4826",
   "metadata": {},
   "outputs": [
    {
     "name": "stdout",
     "output_type": "stream",
     "text": [
      "2024-12-28 18:24:40 #595: 59216 items via @ 0h 0m 38s\n",
      "https://portal.spatial.nsw.gov.au/server/rest/services/NSW_Land_Parcel_Property_Theme/FeatureServer/12\n",
      "(9900/11277) 87% progress for lastupdate >= DATE '2023-10-1' AND lastupdate < DATE '2023-11-1'\n"
     ]
    },
    {
     "data": {
      "image/png": "[encoded data removed]",
      "text/plain": [
       "<Figure size 200x400 with 1 Axes>"
      ]
     },
     "metadata": {},
     "output_type": "display_data"
    },
    {
     "data": {
      "text/html": [
       "<div>\n",
       "<style scoped>\n",
       "    .dataframe tbody tr th:only-of-type {\n",
       "        vertical-align: middle;\n",
       "    }\n",
       "\n",
       "    .dataframe tbody tr th {\n",
       "        vertical-align: top;\n",
       "    }\n",
       "\n",
       "    .dataframe thead th {\n",
       "        text-align: right;\n",
       "    }\n",
       "</style>\n",
       "<table border=\"1\" class=\"dataframe\">\n",
       "  <thead>\n",
       "    <tr style=\"text-align: right;\">\n",
       "      <th></th>\n",
       "      <th>rid</th>\n",
       "      <th>property_id</th>\n",
       "      <th>principal_address_site_oid</th>\n",
       "      <th>addresss_string_oid</th>\n",
       "      <th>property_type</th>\n",
       "      <th>super_lot</th>\n",
       "      <th>address</th>\n",
       "      <th>principle_addresss_type</th>\n",
       "      <th>created_date</th>\n",
       "      <th>start_date</th>\n",
       "      <th>end_date</th>\n",
       "      <th>last_update</th>\n",
       "      <th>shape_uuid</th>\n",
       "      <th>change_type</th>\n",
       "      <th>shape_length</th>\n",
       "      <th>shape_area</th>\n",
       "      <th>geometry</th>\n",
       "    </tr>\n",
       "  </thead>\n",
       "  <tbody>\n",
       "    <tr>\n",
       "      <th>0</th>\n",
       "      <td>6741812</td>\n",
       "      <td>4512424</td>\n",
       "      <td>4790651</td>\n",
       "      <td>8974883</td>\n",
       "      <td>1</td>\n",
       "      <td>Y</td>\n",
       "      <td>102/16 MIDDLETON AVENUE CASTLE HILL</td>\n",
       "      <td>2</td>\n",
       "      <td>1698621333000</td>\n",
       "      <td>1698624178000</td>\n",
       "      <td>32503680000000</td>\n",
       "      <td>1698662336200</td>\n",
       "      <td>d0dee271-e6e7-3e6c-a462-46f47184b85c</td>\n",
       "      <td>M</td>\n",
       "      <td>518.350109</td>\n",
       "      <td>15187.436344</td>\n",
       "      <td>POLYGON ((150.99001 -33.72971, 150.98923 -33.7...</td>\n",
       "    </tr>\n",
       "  </tbody>\n",
       "</table>\n",
       "</div>"
      ],
      "text/plain": [
       "       rid  property_id  principal_address_site_oid  addresss_string_oid  \\\n",
       "0  6741812      4512424                     4790651              8974883   \n",
       "\n",
       "   property_type super_lot                              address  \\\n",
       "0              1         Y  102/16 MIDDLETON AVENUE CASTLE HILL   \n",
       "\n",
       "   principle_addresss_type   created_date     start_date        end_date  \\\n",
       "0                        2  1698621333000  1698624178000  32503680000000   \n",
       "\n",
       "     last_update                            shape_uuid change_type  \\\n",
       "0  1698662336200  d0dee271-e6e7-3e6c-a462-46f47184b85c           M   \n",
       "\n",
       "   shape_length    shape_area  \\\n",
       "0    518.350109  15187.436344   \n",
       "\n",
       "                                            geometry  \n",
       "0  POLYGON ((150.99001 -33.72971, 150.98923 -33.7...  "
      ]
     },
     "metadata": {},
     "output_type": "display_data"
    }
   ],
   "source": [
    "from lib.tasks.gis_scrapper import run_in_notebook\n",
    "\n",
    "await run_in_notebook()"
   ]
  },
  {
   "cell_type": "code",
   "execution_count": null,
   "id": "fe15282a-e294-47b6-88ee-2d35336be740",
   "metadata": {},
   "outputs": [],
   "source": []
  }
 ],
 "metadata": {
  "kernelspec": {
   "display_name": "Python 3 (ipykernel)",
   "language": "python",
   "name": "python3"
  },
  "language_info": {
   "codemirror_mode": {
    "name": "ipython",
    "version": 3
   },
   "file_extension": ".py",
   "mimetype": "text/x-python",
   "name": "python",
   "nbconvert_exporter": "python",
   "pygments_lexer": "ipython3",
   "version": "3.12.5"
  }
 },
 "nbformat": 4,
 "nbformat_minor": 5
}
