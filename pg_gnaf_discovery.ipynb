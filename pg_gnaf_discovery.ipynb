{
 "cells": [
  {
   "cell_type": "code",
   "execution_count": 1,
   "id": "f437bebe-a902-4ea8-85db-afedf5ed50b5",
   "metadata": {},
   "outputs": [
    {
     "name": "stdout",
     "output_type": "stream",
     "text": [
      "Checking gnaf-2020.zip\n",
      "Checking non_abs_shape.zip\n",
      "Checking cities.zip\n",
      "Checking g-naf_aug24_allstates_gda2020_psv_1016.zip\n"
     ]
    }
   ],
   "source": [
    "from lib.gnaf_db import GnafDb\n",
    "from lib import notebook_constants as nc\n",
    "from lib.remote_resources import StaticFileInitialiser\n",
    "from lib.gnaf.discovery import GnafPublicationDiscovery, GnafPublicationTarget\n",
    "\n",
    "initialiser = StaticFileInitialiser.create()\n",
    "gnaf_dis = GnafPublicationDiscovery.create()\n",
    "gnaf_pub = gnaf_dis.get_publication()\n",
    "\n",
    "if gnaf_pub:\n",
    "    initialiser.add_target(gnaf_pub)\n",
    "    \n",
    "initialiser.setup_dirs()\n",
    "initialiser.fetch_remote_resources()\n",
    "\n",
    "gnaf = GnafDb.create()\n",
    "gnaf.wait_till_running()"
   ]
  },
  {
   "cell_type": "code",
   "execution_count": 2,
   "id": "85d94325-ea2b-4bf4-9067-1d2a35bdd843",
   "metadata": {},
   "outputs": [
    {
     "data": {
      "text/plain": [
       "'./zip-out/g-naf_aug24_allstates_gda2020_psv_1016/G-NAF/Extras/GNAF_TableCreation_Scripts/add_fk_constraints.sql'"
      ]
     },
     "execution_count": 2,
     "metadata": {},
     "output_type": "execute_result"
    }
   ],
   "source": [
    "gnaf_pub.fk_constraints_sql"
   ]
  },
  {
   "cell_type": "code",
   "execution_count": 3,
   "id": "aaa10a23-5452-4f02-b0bd-8fa92a2e6db0",
   "metadata": {},
   "outputs": [
    {
     "data": {
      "text/plain": [
       "'./zip-out/g-naf_aug24_allstates_gda2020_psv_1016/G-NAF/Extras/GNAF_TableCreation_Scripts/create_tables_ansi.sql'"
      ]
     },
     "execution_count": 3,
     "metadata": {},
     "output_type": "execute_result"
    }
   ],
   "source": [
    "gnaf_pub.create_tables_sql"
   ]
  },
  {
   "cell_type": "code",
   "execution_count": 4,
   "id": "f2e8b7fe-7bf1-409c-9100-24711296bfdd",
   "metadata": {},
   "outputs": [
    {
     "data": {
      "text/plain": [
       "'zip-out/g-naf_aug24_allstates_gda2020_psv_1016/G-NAF/G-NAF AUGUST 2024'"
      ]
     },
     "execution_count": 4,
     "metadata": {},
     "output_type": "execute_result"
    }
   ],
   "source": [
    "gnaf_pub.psv_dir"
   ]
  }
 ],
 "metadata": {
  "kernelspec": {
   "display_name": "Python 3 (ipykernel)",
   "language": "python",
   "name": "python3"
  },
  "language_info": {
   "codemirror_mode": {
    "name": "ipython",
    "version": 3
   },
   "file_extension": ".py",
   "mimetype": "text/x-python",
   "name": "python",
   "nbconvert_exporter": "python",
   "pygments_lexer": "ipython3",
   "version": "3.11.4"
  }
 },
 "nbformat": 4,
 "nbformat_minor": 5
}
