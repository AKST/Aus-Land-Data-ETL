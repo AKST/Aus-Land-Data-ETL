{
 "cells": [
  {
   "cell_type": "markdown",
   "id": "e64a6769-685f-4029-8daa-4780d096ef81",
   "metadata": {},
   "source": [
    "# Dataset ingestion\n",
    "\n",
    "This jupyter noteebook ingests the [Geocoded National Address File][gnaf] ([GNAF][gnaf]) from [data.gov.au](data.gov.au). It also downloads the [land values for NSW][nswlv], and ABS shapefiles \n",
    "\n",
    "It loads it all this data into a PostgreSQL database in a docker container, treating it like a disposable sqlite data store. It also downloads the ABS shape files as well as the \n",
    "\n",
    "Here we are going to ingest all the data necessary in order to assess land by land values, and filter them by address information. \n",
    "\n",
    "### The Steps\n",
    "\n",
    "1. Download static assets and datasets\n",
    "2. Setup a docker container with postgresql with GIS capabilities.\n",
    "3. Ingest the [ABS shape files][abssf]\n",
    "4. Ingest the latest [NSW valuer general land values][nswlv].\n",
    "5. Ingest the [Geocoded National Address File][gnaf] ([GNAF][gnaf]) dataset\n",
    "6. Link NSW Valuer General data with GNAF dataset\n",
    "\n",
    "[gnaf]: https://data.gov.au/data/dataset/geocoded-national-address-file-g-naf\n",
    "[nswlv]: https://www.valuergeneral.nsw.gov.au/land_value_summaries/lv.php\n",
    "[abssf]: https://www.abs.gov.au/statistics/standards/australian-statistical-geography-standard-asgs-edition-3/jul2021-jun2026/access-and-downloads/digital-boundary-files\n",
    "\n",
    "### Note\n",
    "\n",
    "- Make sure docker is running first.\n",
    "\n",
    "### Warning\n",
    "\n",
    "Do not connect this to another database unless you've taken the time to update this, as it'll drop the existing database. I suggest instead take what you need from this script and disregard the rest. DO NOT USE DATABASE CREDENTIALS HERE FOR ANY OTHER STORE (especailly anything with drop permissions).\n",
    "\n",
    "It also executes sql from a zip file downloaded from an external source.\n"
   ]
  },
  {
   "cell_type": "markdown",
   "id": "2a77f1d8-22ff-4aa2-8740-58dd6b05c461",
   "metadata": {},
   "source": [
    "## Configuration\n",
    "\n",
    "These are some fields to configure if you wish to configure how the data is injected."
   ]
  },
  {
   "cell_type": "code",
   "execution_count": null,
   "id": "ab987146-dde7-4ddc-bd9c-916596d4badb",
   "metadata": {},
   "outputs": [],
   "source": [
    "from lib import notebook_constants as nc\n",
    "from lib.service.database.defaults import instance_1_config\n",
    "\n",
    "GLOBAL_FLAGS = {\n",
    "    # If you mark this as true, the table `nsw_valuer_general.raw_entries`\n",
    "    # will be dropped. If you have space limitations and no desire to debug\n",
    "    # the data than dropping this makes sense. If you wish to debug some values\n",
    "    # then keeping this around may make some sense.\n",
    "    'drop_raw_nsw_valuer_general_entries': True,\n",
    "    'reinitialise_container': True,\n",
    "}\n",
    "\n",
    "db_service_config = instance_1_config\n",
    "\n",
    "docker_container_name = 'gnaf_db_prod'\n",
    "docker_image_tag = \"20240908_19_53\""
   ]
  },
  {
   "cell_type": "markdown",
   "id": "48db8607-3ea8-43c1-9b87-3af22555c2b4",
   "metadata": {},
   "source": [
    "## Download Static Files\n",
    "\n",
    "Here we are downloading static files, as well as fetching the most recently published land values from the valuer generals website."
   ]
  },
  {
   "cell_type": "code",
   "execution_count": null,
   "id": "320cd7fe-f03d-4230-9e0f-a2ef302a91b2",
   "metadata": {
    "scrolled": true
   },
   "outputs": [],
   "source": [
    "import logging\n",
    "from lib.service.io import IoService\n",
    "from lib.tasks.fetch_static_files import initialise, get_session\n",
    "\n",
    "logging.basicConfig(level=logging.INFO, format='%(asctime)s - %(levelname)s - %(message)s')\n",
    "\n",
    "io_service = IoService.create(None)\n",
    "async with get_session(io_service) as session:\n",
    "    environment = await initialise(io_service, session)\n",
    "\n",
    "land_value_dis = environment.land_value\n",
    "w_sale_price = environment.sale_price_weekly\n",
    "a_sale_price = environment.sale_price_annual\n",
    "gnaf_dis = environment.gnaf"
   ]
  },
  {
   "cell_type": "markdown",
   "id": "46bec1a4-8640-40ca-8c07-aafd1dd3a8e8",
   "metadata": {},
   "source": [
    "## Create Container with Database\n",
    "\n",
    "Here we are creating a container in docker from an image that uses the postgres image, which also installs a few extensions.\n",
    "\n",
    "### Note\n",
    "\n",
    "This notebook this is designed to be run more than once, so it'll throw away any existing container and database before creating a new one. After getting rid of any container using the same identifer, it'll create a new one and pull the relevant image if it's not already installed. It'll wait till the postgres instance is live then create the database. "
   ]
  },
  {
   "cell_type": "code",
   "execution_count": null,
   "id": "4f709233-e243-468b-971e-df23bfcc0113",
   "metadata": {},
   "outputs": [],
   "source": [
    "from lib.gnaf_db import GnafContainer, GnafImage\n",
    "from lib.gnaf.init_schema import init_target_schema\n",
    "from lib.service.database import DatabaseService\n",
    "\n",
    "if GLOBAL_FLAGS['reinitialise_container']:\n",
    "    image = GnafImage.create(tag=docker_image_tag)\n",
    "    image.prepare()\n",
    "    \n",
    "    container = GnafContainer.create(container_name=docker_container_name, image=image)\n",
    "    container.clean()\n",
    "    container.prepare(db_service_config)\n",
    "    container.start()\n",
    "else:\n",
    "    print('skipping container initialisation')\n",
    "\n",
    "db_service = DatabaseService(db_service_config)\n",
    "await db_service.wait_till_running()\n",
    "\n",
    "if GLOBAL_FLAGS['reinitialise_container']:\n",
    "    await init_target_schema(gnaf_dis.publication, io_service, db_service)\n",
    "else:\n",
    "    print('skipping DB initialisation')\n",
    "    raise Exception()"
   ]
  },
  {
   "cell_type": "markdown",
   "id": "e62a40af-2d87-4519-9240-7adb1f58170e",
   "metadata": {},
   "source": [
    "## Create Schema\n",
    "\n",
    "This initialises the schema used by the different tables."
   ]
  },
  {
   "cell_type": "code",
   "execution_count": null,
   "id": "9b634add-1e0b-4459-bfef-1abe5e12538d",
   "metadata": {},
   "outputs": [],
   "source": [
    "from lib.tasks.update_schema import update_schema, UpdateSchemaConfig\n",
    "\n",
    "await update_schema(\n",
    "    UpdateSchemaConfig(apply=True),\n",
    "    db_service,\n",
    "    io_service,\n",
    ")"
   ]
  },
  {
   "cell_type": "markdown",
   "id": "1fdd42a1-6d1e-4fe2-a3d3-20e7526dc021",
   "metadata": {},
   "source": [
    "## Consume the ABS Shapefiles\n",
    "\n",
    "The [ABS provides a number of shape files][all abs shape files], we're going focus on 2 main sets of shapes. The **ABS Main Structures** which is stuff like SA1, 2, 3 & 4 along with greater cities, meshblocks, and states. As well as **Non ABS Main Structures** which is stuff like electoral divisions, suburbs post codes etc.\n",
    "\n",
    "[all abs shape files]: https://www.abs.gov.au/statistics/standards/australian-statistical-geography-standard-asgs-edition-3/jul2021-jun2026/access-and-downloads/digital-boundary-files\n",
    "\n",
    "### ABS Main Structures \n",
    "\n",
    "Any address or region we look up in the GNAF dataset, we want to visualise. The ABS has a few different geographic groups which we can visualise the data against, but each address in the GNAF dataset has a meshblock id, which is the smaller block the ABS breaks addresses up into for SA1, SA2, SA3 and SA4's.\n",
    "\n",
    "This dataset is pretty useful for visualising the GNAF data for that reason.\n",
    "\n",
    "### Non Abs Main Structures \n",
    "\n",
    "We are mostly ingesting these to make it simpler to narrow data of interest. Typically if you're looking at this data, you're probably doing it some scope of relevance, such as a local government area, an electorate division, or whatever."
   ]
  },
  {
   "cell_type": "code",
   "execution_count": null,
   "id": "32aad15d-4c08-4bdd-adb3-0030e9d822a7",
   "metadata": {},
   "outputs": [],
   "source": [
    "from lib.tasks.ingest_abs import ingest_all\n",
    "\n",
    "await ingest_all(db_service)"
   ]
  },
  {
   "cell_type": "markdown",
   "id": "e98810d8-9626-4ed5-bd95-1ebf2fc45455",
   "metadata": {},
   "source": [
    "## Ingesting NSW Land Values\n",
    "\n",
    "First lets just get the CSV's into the database, then we'll break it up into seperates tables, then we'll form links with the GNAF dataset.\n",
    "\n",
    "#### Documentation on this dataset\n",
    "\n",
    "The valuer general website has a link to documentation on interpretting that data on [this page](https://www.nsw.gov.au/housing-and-construction/land-values-nsw/resource-library/land-value-information-user-guide). I didn't link to the PDF directly as it occasionally updated and a direct link is at risk of going stale.\n",
    "\n",
    "It's useful getting the meaning behind the codes and terms used in the bulk data.\n",
    "\n",
    "### Steps\n",
    "\n",
    "1. **Build the `nsw_valuer_general.raw_entries_lv` table**: Here we are\n",
    "   just loading the each file from the latest land value publication\n",
    "   with minimal changes, and a bit of sanitisizing.\n",
    "2. **Break CSV data into sepreate relations**, Just to break up the data\n",
    "   into more efficent representations of the data, and data that will be\n",
    "   easier to query, we're going to perform a series of queries against\n",
    "   the GNAF data before using it populate the tables we care about.\n",
    "3. **Parse contents of the property description**, The `property_description`\n",
    "   from the original valuer general data constains alot of information. The\n",
    "   most important of which is the land parcel or `lot/plan` information.\n",
    "   There is other information in there as well.\n",
    "4. If specified drop the raw entries consumed in step (tho the default is\n",
    "   to do exactly that. \n"
   ]
  },
  {
   "cell_type": "code",
   "execution_count": null,
   "id": "34a7cd26-b31a-43da-af78-83284cf39c81",
   "metadata": {},
   "outputs": [],
   "source": [
    "from lib.tasks.nsw_vg.ingest_land_values import ingest_land_values, NswVgLandValueIngestionConfig\n",
    "\n",
    "await ingest_land_values(\n",
    "    NswVgLandValueIngestionConfig(\n",
    "        keep_raw=not GLOBAL_FLAGS['drop_raw_nsw_valuer_general_entries'],\n",
    "    ),\n",
    "    db_service,\n",
    "    environment.land_value.latest,\n",
    ")"
   ]
  },
  {
   "cell_type": "markdown",
   "id": "7205dcf6-90ba-4ddd-9a64-dd04b7d14cf9",
   "metadata": {},
   "source": [
    "## Gnaf Ingestion\n",
    "\n",
    "Here we ingest the GNAF dataset, this will take awhile."
   ]
  },
  {
   "cell_type": "code",
   "execution_count": null,
   "id": "37cc6440-562d-4468-b5d9-d3d53c925ae6",
   "metadata": {},
   "outputs": [],
   "source": [
    "from lib.tasks.ingest_gnaf import ingest_gnaf\n",
    "await ingest_gnaf(gnaf_dis.publication, db_service)"
   ]
  },
  {
   "cell_type": "markdown",
   "id": "5c2ce4e7-4133-492f-beb7-5920ed34835f",
   "metadata": {},
   "source": [
    "## Done\n",
    "\n",
    "We've now built up the dataset, lets analysis what we got and show the contents of the database."
   ]
  },
  {
   "cell_type": "code",
   "execution_count": null,
   "id": "23e887af-b30e-40da-ae8b-ae0c6d779816",
   "metadata": {},
   "outputs": [],
   "source": [
    "async with db_service.async_connect() as c, c.cursor() as cursor:\n",
    "    for schema in ['nsw_valuer_general', 'gnaf', 'abs_main_structures', 'non_abs_main_structures']:\n",
    "        # Get the list of all tables\n",
    "        cursor.execute(f\"\"\"\n",
    "            SELECT table_name\n",
    "            FROM information_schema.tables\n",
    "            WHERE table_schema = '{schema}'\n",
    "        \"\"\")\n",
    "        tables = cursor.fetchall()\n",
    "    \n",
    "        # Get row count for each table\n",
    "        for table in tables:\n",
    "            await cursor.execute(f'SELECT COUNT(*) FROM {schema}.{table[0]}')\n",
    "            count = cursor.fetchone()[0]\n",
    "            print(f\"Table {schema}.{table[0]} has {count} rows\")"
   ]
  }
 ],
 "metadata": {
  "kernelspec": {
   "display_name": "Python 3 (ipykernel)",
   "language": "python",
   "name": "python3"
  },
  "language_info": {
   "codemirror_mode": {
    "name": "ipython",
    "version": 3
   },
   "file_extension": ".py",
   "mimetype": "text/x-python",
   "name": "python",
   "nbconvert_exporter": "python",
   "pygments_lexer": "ipython3",
   "version": "3.12.5"
  }
 },
 "nbformat": 4,
 "nbformat_minor": 5
}
