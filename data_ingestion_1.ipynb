{
 "cells": [
  {
   "cell_type": "markdown",
   "id": "e64a6769-685f-4029-8daa-4780d096ef81",
   "metadata": {},
   "source": [
    "# Dataset ingestion\n",
    "\n",
    "This jupyter noteebook ingests the [Geocoded National Address File][gnaf] ([GNAF][gnaf]) from [data.gov.au](data.gov.au). It also downloads the [land values for NSW][nswlv], and ABS shapefiles \n",
    "\n",
    "It loads it all this data into a PostgreSQL database in a docker container, treating it like a disposable sqlite data store. It also downloads the ABS shape files as well as the \n",
    "\n",
    "Here we are going to ingest all the data necessary in order to assess land by land values, and filter them by address information. \n",
    "\n",
    "### The Steps\n",
    "\n",
    "1. Download static assets and datasets\n",
    "2. Setup a docker container with postgresql with GIS capabilities.\n",
    "3. Ingest the [ABS shape files][abssf]\n",
    "4. Ingest the latest [NSW valuer general land values][nswlv].\n",
    "5. Ingest the [Geocoded National Address File][gnaf] ([GNAF][gnaf]) dataset\n",
    "6. Link NSW Valuer General data with GNAF dataset\n",
    "\n",
    "[gnaf]: https://data.gov.au/data/dataset/geocoded-national-address-file-g-naf\n",
    "[nswlv]: https://www.valuergeneral.nsw.gov.au/land_value_summaries/lv.php\n",
    "[abssf]: https://www.abs.gov.au/statistics/standards/australian-statistical-geography-standard-asgs-edition-3/jul2021-jun2026/access-and-downloads/digital-boundary-files\n",
    "\n",
    "### Note\n",
    "\n",
    "- Make sure docker is running first.\n",
    "\n",
    "### Warning\n",
    "\n",
    "Do not connect this to another database unless you've taken the time to update this, as it'll drop the existing database. I suggest instead take what you need from this script and disregard the rest. DO NOT USE DATABASE CREDENTIALS HERE FOR ANY OTHER STORE (especailly anything with drop permissions).\n",
    "\n",
    "It also executes sql from a zip file downloaded from an external source.\n"
   ]
  },
  {
   "cell_type": "markdown",
   "id": "2a77f1d8-22ff-4aa2-8740-58dd6b05c461",
   "metadata": {},
   "source": [
    "## Configuration\n",
    "\n",
    "These are some fields to configure if you wish to configure how the data is injected."
   ]
  },
  {
   "cell_type": "code",
   "execution_count": 1,
   "id": "ab987146-dde7-4ddc-bd9c-916596d4badb",
   "metadata": {},
   "outputs": [],
   "source": [
    "from lib.service.docker.defaults import INSTANCE_1_IMAGE_CONF, INSTANCE_1_CONTAINER_CONF\n",
    "from lib.service.database.defaults import DB_INSTANCE_1_CONFIG\n",
    "\n",
    "GLOBAL_FLAGS = {\n",
    "    # If you mark this as true, the table `nsw_valuer_general.raw_entries`\n",
    "    # will be dropped. If you have space limitations and no desire to debug\n",
    "    # the data than dropping this makes sense. If you wish to debug some values\n",
    "    # then keeping this around may make some sense.\n",
    "    'drop_raw_nsw_valuer_general_entries': True,\n",
    "    'reinitialise_container': True,\n",
    "}\n",
    "\n",
    "db_service_config = DB_INSTANCE_1_CONFIG\n",
    "docker_image_conf = INSTANCE_1_IMAGE_CONF\n",
    "docker_container_conf = INSTANCE_1_CONTAINER_CONF"
   ]
  },
  {
   "cell_type": "markdown",
   "id": "48db8607-3ea8-43c1-9b87-3af22555c2b4",
   "metadata": {},
   "source": [
    "## Download Static Files\n",
    "\n",
    "Here we are downloading static files, as well as fetching the most recently published land values from the valuer generals website."
   ]
  },
  {
   "cell_type": "code",
   "execution_count": 2,
   "id": "320cd7fe-f03d-4230-9e0f-a2ef302a91b2",
   "metadata": {
    "scrolled": true
   },
   "outputs": [
    {
     "name": "stderr",
     "output_type": "stream",
     "text": [
      "2024-10-16 02:49:35,903 - INFO - Checking Target \"abs_main_structures.zip\"\n",
      "2024-10-16 02:49:35,903 - INFO - Checking Target \"non_abs_shape.zip\"\n",
      "2024-10-16 02:49:35,903 - INFO - Checking Target \"g-naf_aug24_allstates_gda2020_psv_1016.zip\"\n",
      "2024-10-16 02:49:35,904 - INFO - Checking Target \"nswvg_lv_01_Oct_2024.zip\"\n",
      "2024-10-16 02:49:35,904 - INFO - Checking Target \"nswvg_wps_01_Jan_2024.zip\"\n",
      "2024-10-16 02:49:35,905 - INFO - Checking Target \"nswvg_wps_08_Jan_2024.zip\"\n",
      "2024-10-16 02:49:35,905 - INFO - Checking Target \"nswvg_wps_15_Jan_2024.zip\"\n",
      "2024-10-16 02:49:35,906 - INFO - Checking Target \"nswvg_wps_22_Jan_2024.zip\"\n",
      "2024-10-16 02:49:35,906 - INFO - Checking Target \"nswvg_wps_29_Jan_2024.zip\"\n",
      "2024-10-16 02:49:35,906 - INFO - Checking Target \"nswvg_wps_05_Feb_2024.zip\"\n",
      "2024-10-16 02:49:35,906 - INFO - Checking Target \"nswvg_wps_12_Feb_2024.zip\"\n",
      "2024-10-16 02:49:35,907 - INFO - Checking Target \"nswvg_wps_19_Feb_2024.zip\"\n",
      "2024-10-16 02:49:35,907 - INFO - Checking Target \"nswvg_wps_26_Feb_2024.zip\"\n",
      "2024-10-16 02:49:35,907 - INFO - Checking Target \"nswvg_wps_04_Mar_2024.zip\"\n",
      "2024-10-16 02:49:35,908 - INFO - Checking Target \"nswvg_wps_11_Mar_2024.zip\"\n",
      "2024-10-16 02:49:35,908 - INFO - Checking Target \"nswvg_wps_18_Mar_2024.zip\"\n",
      "2024-10-16 02:49:35,908 - INFO - Checking Target \"nswvg_wps_25_Mar_2024.zip\"\n",
      "2024-10-16 02:49:35,908 - INFO - Checking Target \"nswvg_wps_01_Apr_2024.zip\"\n",
      "2024-10-16 02:49:35,909 - INFO - Checking Target \"nswvg_wps_08_Apr_2024.zip\"\n",
      "2024-10-16 02:49:35,909 - INFO - Checking Target \"nswvg_wps_15_Apr_2024.zip\"\n",
      "2024-10-16 02:49:35,909 - INFO - Checking Target \"nswvg_wps_22_Apr_2024.zip\"\n",
      "2024-10-16 02:49:35,910 - INFO - Checking Target \"nswvg_wps_29_Apr_2024.zip\"\n",
      "2024-10-16 02:49:35,910 - INFO - Checking Target \"nswvg_wps_06_May_2024.zip\"\n",
      "2024-10-16 02:49:35,911 - INFO - Checking Target \"nswvg_wps_13_May_2024.zip\"\n",
      "2024-10-16 02:49:35,911 - INFO - Checking Target \"nswvg_wps_20_May_2024.zip\"\n",
      "2024-10-16 02:49:35,912 - INFO - Checking Target \"nswvg_wps_27_May_2024.zip\"\n",
      "2024-10-16 02:49:35,912 - INFO - Checking Target \"nswvg_wps_03_Jun_2024.zip\"\n",
      "2024-10-16 02:49:35,912 - INFO - Checking Target \"nswvg_wps_10_Jun_2024.zip\"\n",
      "2024-10-16 02:49:35,913 - INFO - Checking Target \"nswvg_wps_17_Jun_2024.zip\"\n",
      "2024-10-16 02:49:35,913 - INFO - Checking Target \"nswvg_wps_24_Jun_2024.zip\"\n",
      "2024-10-16 02:49:35,913 - INFO - Checking Target \"nswvg_wps_01_Jul_2024.zip\"\n",
      "2024-10-16 02:49:35,914 - INFO - Checking Target \"nswvg_wps_08_Jul_2024.zip\"\n",
      "2024-10-16 02:49:35,914 - INFO - Checking Target \"nswvg_wps_15_Jul_2024.zip\"\n",
      "2024-10-16 02:49:35,915 - INFO - Checking Target \"nswvg_wps_22_Jul_2024.zip\"\n",
      "2024-10-16 02:49:35,915 - INFO - Checking Target \"nswvg_wps_29_Jul_2024.zip\"\n",
      "2024-10-16 02:49:35,916 - INFO - Checking Target \"nswvg_wps_05_Aug_2024.zip\"\n",
      "2024-10-16 02:49:35,916 - INFO - Checking Target \"nswvg_wps_12_Aug_2024.zip\"\n",
      "2024-10-16 02:49:35,917 - INFO - Checking Target \"nswvg_wps_19_Aug_2024.zip\"\n",
      "2024-10-16 02:49:35,917 - INFO - Checking Target \"nswvg_wps_26_Aug_2024.zip\"\n",
      "2024-10-16 02:49:35,918 - INFO - Checking Target \"nswvg_wps_02_Sep_2024.zip\"\n",
      "2024-10-16 02:49:35,918 - INFO - Checking Target \"nswvg_wps_09_Sep_2024.zip\"\n",
      "2024-10-16 02:49:35,918 - INFO - Checking Target \"nswvg_wps_16_Sep_2024.zip\"\n",
      "2024-10-16 02:49:35,919 - INFO - Checking Target \"nswvg_wps_23_Sep_2024.zip\"\n",
      "2024-10-16 02:49:35,919 - INFO - Checking Target \"nswvg_wps_30_Sep_2024.zip\"\n",
      "2024-10-16 02:49:35,919 - INFO - Checking Target \"nswvg_wps_07_Oct_2024.zip\"\n",
      "2024-10-16 02:49:35,919 - INFO - Checking Target \"nswvg_wps_14_Oct_2024.zip\"\n",
      "2024-10-16 02:49:35,920 - INFO - Checking Target \"nswvg_aps_1990.zip\"\n",
      "2024-10-16 02:49:35,920 - INFO - Checking Target \"nswvg_aps_1991.zip\"\n",
      "2024-10-16 02:49:35,920 - INFO - Checking Target \"nswvg_aps_1992.zip\"\n",
      "2024-10-16 02:49:35,921 - INFO - Checking Target \"nswvg_aps_1993.zip\"\n",
      "2024-10-16 02:49:35,921 - INFO - Checking Target \"nswvg_aps_1994.zip\"\n",
      "2024-10-16 02:49:35,921 - INFO - Checking Target \"nswvg_aps_1995.zip\"\n",
      "2024-10-16 02:49:35,921 - INFO - Checking Target \"nswvg_aps_1996.zip\"\n",
      "2024-10-16 02:49:35,922 - INFO - Checking Target \"nswvg_aps_1997.zip\"\n",
      "2024-10-16 02:49:35,922 - INFO - Checking Target \"nswvg_aps_1998.zip\"\n",
      "2024-10-16 02:49:35,922 - INFO - Checking Target \"nswvg_aps_1999.zip\"\n",
      "2024-10-16 02:49:35,923 - INFO - Checking Target \"nswvg_aps_2000.zip\"\n",
      "2024-10-16 02:49:35,923 - INFO - Checking Target \"nswvg_aps_2001.zip\"\n",
      "2024-10-16 02:49:35,923 - INFO - Checking Target \"nswvg_aps_2002.zip\"\n",
      "2024-10-16 02:49:35,924 - INFO - Checking Target \"nswvg_aps_2003.zip\"\n",
      "2024-10-16 02:49:35,924 - INFO - Checking Target \"nswvg_aps_2004.zip\"\n",
      "2024-10-16 02:49:35,924 - INFO - Checking Target \"nswvg_aps_2005.zip\"\n",
      "2024-10-16 02:49:35,925 - INFO - Checking Target \"nswvg_aps_2006.zip\"\n",
      "2024-10-16 02:49:35,925 - INFO - Checking Target \"nswvg_aps_2007.zip\"\n",
      "2024-10-16 02:49:35,925 - INFO - Checking Target \"nswvg_aps_2008.zip\"\n",
      "2024-10-16 02:49:35,926 - INFO - Checking Target \"nswvg_aps_2009.zip\"\n",
      "2024-10-16 02:49:35,926 - INFO - Checking Target \"nswvg_aps_2010.zip\"\n",
      "2024-10-16 02:49:35,927 - INFO - Checking Target \"nswvg_aps_2011.zip\"\n",
      "2024-10-16 02:49:35,927 - INFO - Checking Target \"nswvg_aps_2012.zip\"\n",
      "2024-10-16 02:49:35,927 - INFO - Checking Target \"nswvg_aps_2013.zip\"\n",
      "2024-10-16 02:49:35,928 - INFO - Checking Target \"nswvg_aps_2014.zip\"\n",
      "2024-10-16 02:49:35,928 - INFO - Checking Target \"nswvg_aps_2015.zip\"\n",
      "2024-10-16 02:49:35,928 - INFO - Checking Target \"nswvg_aps_2016.zip\"\n",
      "2024-10-16 02:49:35,928 - INFO - Checking Target \"nswvg_aps_2017.zip\"\n",
      "2024-10-16 02:49:35,929 - INFO - Checking Target \"nswvg_aps_2018.zip\"\n",
      "2024-10-16 02:49:35,929 - INFO - Checking Target \"nswvg_aps_2019.zip\"\n",
      "2024-10-16 02:49:35,929 - INFO - Checking Target \"nswvg_aps_2020.zip\"\n",
      "2024-10-16 02:49:35,930 - INFO - Checking Target \"nswvg_aps_2021.zip\"\n",
      "2024-10-16 02:49:35,930 - INFO - Checking Target \"nswvg_aps_2022.zip\"\n",
      "2024-10-16 02:49:35,930 - INFO - Checking Target \"nswvg_aps_2023.zip\"\n"
     ]
    }
   ],
   "source": [
    "import logging\n",
    "from lib.service.io import IoService\n",
    "from lib.tasks.fetch_static_files import initialise, get_session\n",
    "\n",
    "logging.basicConfig(level=logging.INFO, format='%(asctime)s - %(levelname)s - %(message)s')\n",
    "\n",
    "io_service = IoService.create(None)\n",
    "async with get_session(io_service) as session:\n",
    "    environment = await initialise(io_service, session)\n",
    "\n",
    "land_value_dis = environment.land_value\n",
    "w_sale_price = environment.sale_price_weekly\n",
    "a_sale_price = environment.sale_price_annual\n",
    "gnaf_dis = environment.gnaf"
   ]
  },
  {
   "cell_type": "markdown",
   "id": "46bec1a4-8640-40ca-8c07-aafd1dd3a8e8",
   "metadata": {},
   "source": [
    "## Create Container with Database\n",
    "\n",
    "Here we are creating a container in docker from an image that uses the postgres image, which also installs a few extensions.\n",
    "\n",
    "### Note\n",
    "\n",
    "This notebook this is designed to be run more than once, so it'll throw away any existing container and database before creating a new one. After getting rid of any container using the same identifer, it'll create a new one and pull the relevant image if it's not already installed. It'll wait till the postgres instance is live then create the database. "
   ]
  },
  {
   "cell_type": "code",
   "execution_count": 3,
   "id": "4f709233-e243-468b-971e-df23bfcc0113",
   "metadata": {},
   "outputs": [
    {
     "name": "stderr",
     "output_type": "stream",
     "text": [
      "2024-10-16 02:49:36,855 - WARNING - error connecting in 'pool-1': connection failed: connection to server at \"127.0.0.1\", port 5432 failed: server closed the connection unexpectedly\n",
      "\tThis probably means the server terminated abnormally\n",
      "\tbefore or while processing the request.\n",
      "2024-10-16 02:49:36,856 - WARNING - error connecting in 'pool-1': connection failed: connection to server at \"127.0.0.1\", port 5432 failed: server closed the connection unexpectedly\n",
      "\tThis probably means the server terminated abnormally\n",
      "\tbefore or while processing the request.\n",
      "2024-10-16 02:49:36,857 - WARNING - error connecting in 'pool-1': connection failed: connection to server at \"127.0.0.1\", port 5432 failed: server closed the connection unexpectedly\n",
      "\tThis probably means the server terminated abnormally\n",
      "\tbefore or while processing the request.\n",
      "2024-10-16 02:49:36,862 - WARNING - error connecting in 'pool-1': connection failed: connection to server at \"127.0.0.1\", port 5432 failed: server closed the connection unexpectedly\n",
      "\tThis probably means the server terminated abnormally\n",
      "\tbefore or while processing the request.\n",
      "2024-10-16 02:49:36,864 - WARNING - error connecting in 'pool-1': connection failed: connection to server at \"127.0.0.1\", port 5432 failed: server closed the connection unexpectedly\n",
      "\tThis probably means the server terminated abnormally\n",
      "\tbefore or while processing the request.\n",
      "2024-10-16 02:49:36,864 - WARNING - error connecting in 'pool-1': connection failed: connection to server at \"127.0.0.1\", port 5432 failed: server closed the connection unexpectedly\n",
      "\tThis probably means the server terminated abnormally\n",
      "\tbefore or while processing the request.\n",
      "2024-10-16 02:49:36,869 - WARNING - error connecting in 'pool-1': connection failed: connection to server at \"127.0.0.1\", port 5432 failed: server closed the connection unexpectedly\n",
      "\tThis probably means the server terminated abnormally\n",
      "\tbefore or while processing the request.\n",
      "2024-10-16 02:49:36,871 - WARNING - error connecting in 'pool-1': connection failed: connection to server at \"127.0.0.1\", port 5432 failed: server closed the connection unexpectedly\n",
      "\tThis probably means the server terminated abnormally\n",
      "\tbefore or while processing the request.\n",
      "2024-10-16 02:49:36,871 - WARNING - error connecting in 'pool-1': connection failed: connection to server at \"127.0.0.1\", port 5432 failed: server closed the connection unexpectedly\n",
      "\tThis probably means the server terminated abnormally\n",
      "\tbefore or while processing the request.\n",
      "2024-10-16 02:49:36,874 - WARNING - error connecting in 'pool-1': connection failed: connection to server at \"127.0.0.1\", port 5432 failed: server closed the connection unexpectedly\n",
      "\tThis probably means the server terminated abnormally\n",
      "\tbefore or while processing the request.\n",
      "2024-10-16 02:49:36,877 - WARNING - error connecting in 'pool-1': connection failed: connection to server at \"127.0.0.1\", port 5432 failed: server closed the connection unexpectedly\n",
      "\tThis probably means the server terminated abnormally\n",
      "\tbefore or while processing the request.\n",
      "2024-10-16 02:49:36,878 - WARNING - error connecting in 'pool-1': connection failed: connection to server at \"127.0.0.1\", port 5432 failed: server closed the connection unexpectedly\n",
      "\tThis probably means the server terminated abnormally\n",
      "\tbefore or while processing the request.\n",
      "2024-10-16 02:49:36,880 - WARNING - error connecting in 'pool-1': connection failed: connection to server at \"127.0.0.1\", port 5432 failed: server closed the connection unexpectedly\n",
      "\tThis probably means the server terminated abnormally\n",
      "\tbefore or while processing the request.\n",
      "2024-10-16 02:49:36,884 - WARNING - error connecting in 'pool-1': connection failed: connection to server at \"127.0.0.1\", port 5432 failed: server closed the connection unexpectedly\n",
      "\tThis probably means the server terminated abnormally\n",
      "\tbefore or while processing the request.\n",
      "2024-10-16 02:49:36,885 - WARNING - error connecting in 'pool-1': connection failed: connection to server at \"127.0.0.1\", port 5432 failed: server closed the connection unexpectedly\n",
      "\tThis probably means the server terminated abnormally\n",
      "\tbefore or while processing the request.\n",
      "2024-10-16 02:49:36,886 - WARNING - error connecting in 'pool-1': connection failed: connection to server at \"127.0.0.1\", port 5432 failed: server closed the connection unexpectedly\n",
      "\tThis probably means the server terminated abnormally\n",
      "\tbefore or while processing the request.\n",
      "2024-10-16 02:49:36,890 - WARNING - error connecting in 'pool-1': connection failed: connection to server at \"127.0.0.1\", port 5432 failed: server closed the connection unexpectedly\n",
      "\tThis probably means the server terminated abnormally\n",
      "\tbefore or while processing the request.\n",
      "2024-10-16 02:49:36,891 - WARNING - error connecting in 'pool-1': connection failed: connection to server at \"127.0.0.1\", port 5432 failed: server closed the connection unexpectedly\n",
      "\tThis probably means the server terminated abnormally\n",
      "\tbefore or while processing the request.\n",
      "2024-10-16 02:49:36,893 - WARNING - error connecting in 'pool-1': connection failed: connection to server at \"127.0.0.1\", port 5432 failed: server closed the connection unexpectedly\n",
      "\tThis probably means the server terminated abnormally\n",
      "\tbefore or while processing the request.\n",
      "2024-10-16 02:49:36,896 - WARNING - error connecting in 'pool-1': connection failed: connection to server at \"127.0.0.1\", port 5432 failed: server closed the connection unexpectedly\n",
      "\tThis probably means the server terminated abnormally\n",
      "\tbefore or while processing the request.\n",
      "2024-10-16 02:49:36,898 - WARNING - error connecting in 'pool-1': connection failed: connection to server at \"127.0.0.1\", port 5432 failed: server closed the connection unexpectedly\n",
      "\tThis probably means the server terminated abnormally\n",
      "\tbefore or while processing the request.\n",
      "2024-10-16 02:49:36,899 - WARNING - error connecting in 'pool-1': connection failed: connection to server at \"127.0.0.1\", port 5432 failed: server closed the connection unexpectedly\n",
      "\tThis probably means the server terminated abnormally\n",
      "\tbefore or while processing the request.\n",
      "2024-10-16 02:49:36,902 - WARNING - error connecting in 'pool-1': connection failed: connection to server at \"127.0.0.1\", port 5432 failed: server closed the connection unexpectedly\n",
      "\tThis probably means the server terminated abnormally\n",
      "\tbefore or while processing the request.\n",
      "2024-10-16 02:49:36,904 - WARNING - error connecting in 'pool-1': connection failed: connection to server at \"127.0.0.1\", port 5432 failed: server closed the connection unexpectedly\n",
      "\tThis probably means the server terminated abnormally\n",
      "\tbefore or while processing the request.\n",
      "2024-10-16 02:49:36,905 - WARNING - error connecting in 'pool-1': connection failed: connection to server at \"127.0.0.1\", port 5432 failed: server closed the connection unexpectedly\n",
      "\tThis probably means the server terminated abnormally\n",
      "\tbefore or while processing the request.\n",
      "2024-10-16 02:49:36,910 - WARNING - error connecting in 'pool-1': connection failed: connection to server at \"127.0.0.1\", port 5432 failed: server closed the connection unexpectedly\n",
      "\tThis probably means the server terminated abnormally\n",
      "\tbefore or while processing the request.\n",
      "2024-10-16 02:49:36,911 - WARNING - error connecting in 'pool-1': connection failed: connection to server at \"127.0.0.1\", port 5432 failed: server closed the connection unexpectedly\n",
      "\tThis probably means the server terminated abnormally\n",
      "\tbefore or while processing the request.\n",
      "2024-10-16 02:49:36,914 - WARNING - error connecting in 'pool-1': connection failed: connection to server at \"127.0.0.1\", port 5432 failed: server closed the connection unexpectedly\n",
      "\tThis probably means the server terminated abnormally\n",
      "\tbefore or while processing the request.\n",
      "2024-10-16 02:49:36,915 - WARNING - error connecting in 'pool-1': connection failed: connection to server at \"127.0.0.1\", port 5432 failed: server closed the connection unexpectedly\n",
      "\tThis probably means the server terminated abnormally\n",
      "\tbefore or while processing the request.\n",
      "2024-10-16 02:49:36,919 - WARNING - error connecting in 'pool-1': connection failed: connection to server at \"127.0.0.1\", port 5432 failed: server closed the connection unexpectedly\n",
      "\tThis probably means the server terminated abnormally\n",
      "\tbefore or while processing the request.\n",
      "2024-10-16 02:49:36,920 - WARNING - error connecting in 'pool-1': connection failed: connection to server at \"127.0.0.1\", port 5432 failed: server closed the connection unexpectedly\n",
      "\tThis probably means the server terminated abnormally\n",
      "\tbefore or while processing the request.\n",
      "2024-10-16 02:49:36,921 - WARNING - error connecting in 'pool-1': connection failed: connection to server at \"127.0.0.1\", port 5432 failed: server closed the connection unexpectedly\n",
      "\tThis probably means the server terminated abnormally\n",
      "\tbefore or while processing the request.\n"
     ]
    },
    {
     "name": "stdout",
     "output_type": "stream",
     "text": [
      "dbname=gnaf_db port=5432 user=postgres host=localhost password=throwAwayPassword\n"
     ]
    },
    {
     "name": "stderr",
     "output_type": "stream",
     "text": [
      "2024-10-16 02:49:41,874 - INFO - running ./_out_zip/g-naf_aug24_allstates_gda2020_psv_1016/G-NAF/Extras/GNAF_TableCreation_Scripts/create_tables_ansi.sql\n",
      "/Users/angus/code/jupyter/env/lib/python3.12/site-packages/psycopg_pool/pool_async.py:138: RuntimeWarning: opening the async pool AsyncConnectionPool in the constructor is deprecated and will not be supported anymore in a future release. Please use `await pool.open()`, or use the pool as context manager using: `async with AsyncConnectionPool(...) as pool: `...\n",
      "  warnings.warn(\n",
      "2024-10-16 02:49:41,899 - INFO - running ./_out_zip/g-naf_aug24_allstates_gda2020_psv_1016/G-NAF/Extras/GNAF_TableCreation_Scripts/add_fk_constraints.sql\n",
      "2024-10-16 02:49:41,945 - INFO - running sql/move_gnaf_to_schema.sql\n"
     ]
    }
   ],
   "source": [
    "from lib.pipeline.gnaf.init_schema import init_target_schema\n",
    "from lib.service.docker import DockerService\n",
    "from lib.service.database import DatabaseService\n",
    "\n",
    "docker_service = DockerService.create()\n",
    "\n",
    "if GLOBAL_FLAGS['reinitialise_container']:\n",
    "    image = docker_service.create_image(docker_image_conf)\n",
    "    image.prepare()\n",
    "\n",
    "    container = docker_service.create_container(image, docker_container_conf)\n",
    "    container.clean()\n",
    "    container.prepare(db_service_config)\n",
    "    container.start()\n",
    "else:\n",
    "    print('skipping container initialisation')\n",
    "\n",
    "db_service = DatabaseService.create(db_service_config, 32)\n",
    "await db_service.wait_till_running()\n",
    "await db_service.open()\n",
    "\n",
    "if GLOBAL_FLAGS['reinitialise_container']:\n",
    "    await init_target_schema(gnaf_dis.publication, io_service, db_service)\n",
    "else:\n",
    "    print('skipping DB initialisation')\n",
    "    raise Exception()"
   ]
  },
  {
   "cell_type": "markdown",
   "id": "e62a40af-2d87-4519-9240-7adb1f58170e",
   "metadata": {},
   "source": [
    "## Create Schema\n",
    "\n",
    "This initialises the schema used by the different tables."
   ]
  },
  {
   "cell_type": "code",
   "execution_count": 5,
   "id": "9b634add-1e0b-4459-bfef-1abe5e12538d",
   "metadata": {},
   "outputs": [
    {
     "name": "stderr",
     "output_type": "stream",
     "text": [
      "2024-10-16 02:50:19,237 - INFO - initalising nsw_vg db schema\n",
      "2024-10-16 02:50:19,239 - INFO - Command.Create(ns='meta', range=None, dryrun=False, omit_foreign_keys=False)\n",
      "2024-10-16 02:50:19,278 - INFO - Command.Create(ns='abs', range=None, dryrun=False, omit_foreign_keys=False)\n",
      "2024-10-16 02:50:19,362 - INFO - Command.Create(ns='nsw_lrs', range=None, dryrun=False, omit_foreign_keys=False)\n",
      "2024-10-16 02:50:19,409 - INFO - Command.Create(ns='nsw_gnb', range=None, dryrun=False, omit_foreign_keys=False)\n",
      "2024-10-16 02:50:19,435 - INFO - Command.Create(ns='nsw_planning', range=None, dryrun=False, omit_foreign_keys=False)\n",
      "2024-10-16 02:50:19,443 - INFO - Command.Create(ns='nsw_vg', range=None, dryrun=False, omit_foreign_keys=False)\n",
      "2024-10-16 02:50:19,453 - WARNING - 'CREATE TYPE nsw_vg.zoning_standard AS ENUM (\n",
      "  'legacy_vg_2011',\n",
      "  'ep&a_2006',\n",
      "  'unknown'\n",
      ")' contains unsupported syntax. Falling back to parsing as a 'Command'.\n",
      "2024-10-16 02:50:19,454 - WARNING - 'CREATE TYPE nsw_vg.sale_participant AS ENUM ('V', 'P')' contains unsupported syntax. Falling back to parsing as a 'Command'.\n"
     ]
    }
   ],
   "source": [
    "from lib.tasks.update_schema import update_schema, UpdateSchemaConfig\n",
    "from lib.tooling.schema.config import ns_dependency_order\n",
    "\n",
    "await update_schema(\n",
    "    UpdateSchemaConfig(\n",
    "        packages=ns_dependency_order,\n",
    "        range=None,\n",
    "        apply=True,\n",
    "    ),\n",
    "    db_service,\n",
    "    io_service,\n",
    ")"
   ]
  },
  {
   "cell_type": "markdown",
   "id": "1fdd42a1-6d1e-4fe2-a3d3-20e7526dc021",
   "metadata": {},
   "source": [
    "## Consume the ABS Shapefiles\n",
    "\n",
    "The [ABS provides a number of shape files][all abs shape files], we're going focus on 2 main sets of shapes. The **ABS Main Structures** which is stuff like SA1, 2, 3 & 4 along with greater cities, meshblocks, and states. As well as **Non ABS Main Structures** which is stuff like electoral divisions, suburbs post codes etc.\n",
    "\n",
    "[all abs shape files]: https://www.abs.gov.au/statistics/standards/australian-statistical-geography-standard-asgs-edition-3/jul2021-jun2026/access-and-downloads/digital-boundary-files\n",
    "\n",
    "### ABS Main Structures \n",
    "\n",
    "Any address or region we look up in the GNAF dataset, we want to visualise. The ABS has a few different geographic groups which we can visualise the data against, but each address in the GNAF dataset has a meshblock id, which is the smaller block the ABS breaks addresses up into for SA1, SA2, SA3 and SA4's.\n",
    "\n",
    "This dataset is pretty useful for visualising the GNAF data for that reason.\n",
    "\n",
    "### Non Abs Main Structures \n",
    "\n",
    "We are mostly ingesting these to make it simpler to narrow data of interest. Typically if you're looking at this data, you're probably doing it some scope of relevance, such as a local government area, an electorate division, or whatever."
   ]
  },
  {
   "cell_type": "code",
   "execution_count": 6,
   "id": "32aad15d-4c08-4bdd-adb3-0030e9d822a7",
   "metadata": {},
   "outputs": [
    {
     "name": "stderr",
     "output_type": "stream",
     "text": [
      "2024-10-16 02:50:51,258 - INFO - Command.Drop(ns='abs', range=None, dryrun=False, cascade=False)\n",
      "2024-10-16 02:50:51,311 - INFO - Command.Create(ns='abs', range=None, dryrun=False, omit_foreign_keys=True)\n",
      "/Users/angus/code/jupyter/env/lib/python3.12/site-packages/psycopg_pool/pool_async.py:138: RuntimeWarning: opening the async pool AsyncConnectionPool in the constructor is deprecated and will not be supported anymore in a future release. Please use `await pool.open()`, or use the pool as context manager using: `async with AsyncConnectionPool(...) as pool: `...\n",
      "  warnings.warn(\n",
      "[2]2024-10-16 02:51:08,900 - INFO - Populated abs.federal_electoral_division_2021 with 170/170 rows.\n",
      "[2]2024-10-16 02:51:09,101 - INFO - Populated abs.state_electoral_division_2024 with 452/452 rows.\n",
      "[2]2024-10-16 02:51:09,271 - INFO - Populated abs.lga_2021 with 566/566 rows.\n",
      "[2]2024-10-16 02:51:09,489 - INFO - Populated abs.lga_2022 with 566/566 rows.\n"
     ]
    },
    {
     "name": "stdout",
     "output_type": "stream",
     "text": [
      "dbname=gnaf_db port=5432 user=postgres host=localhost password=throwAwayPassword\n"
     ]
    },
    {
     "name": "stderr",
     "output_type": "stream",
     "text": [
      "/Users/angus/code/jupyter/env/lib/python3.12/site-packages/psycopg_pool/pool_async.py:138: RuntimeWarning: opening the async pool AsyncConnectionPool in the constructor is deprecated and will not be supported anymore in a future release. Please use `await pool.open()`, or use the pool as context manager using: `async with AsyncConnectionPool(...) as pool: `...\n",
      "  warnings.warn(\n",
      "[0]2024-10-16 02:51:10,368 - INFO - Populated abs.state with 10/10 rows.\n",
      "[0]2024-10-16 02:51:10,507 - INFO - Populated abs.gccsa with 35/35 rows.\n",
      "[0]2024-10-16 02:51:10,537 - INFO - Populated abs.sa4 with 108/108 rows.\n",
      "[0]2024-10-16 02:51:10,960 - INFO - Populated abs.sa3 with 359/359 rows.\n",
      "[0]2024-10-16 02:51:11,379 - INFO - Populated abs.sa2 with 2473/2473 rows.\n"
     ]
    },
    {
     "name": "stdout",
     "output_type": "stream",
     "text": [
      "dbname=gnaf_db port=5432 user=postgres host=localhost password=throwAwayPassword\n"
     ]
    },
    {
     "name": "stderr",
     "output_type": "stream",
     "text": [
      "/Users/angus/code/jupyter/env/lib/python3.12/site-packages/psycopg_pool/pool_async.py:138: RuntimeWarning: opening the async pool AsyncConnectionPool in the constructor is deprecated and will not be supported anymore in a future release. Please use `await pool.open()`, or use the pool as context manager using: `async with AsyncConnectionPool(...) as pool: `...\n",
      "  warnings.warn(\n",
      "[3]2024-10-16 02:51:15,299 - INFO - Populated abs.lga_2023 with 566/566 rows.\n",
      "[3]2024-10-16 02:51:15,367 - INFO - Populated abs.lga_2024 with 566/566 rows.\n",
      "[3]2024-10-16 02:51:15,898 - INFO - Populated abs.post_code with 2644/2644 rows.\n",
      "[3]2024-10-16 02:51:16,027 - INFO - Populated abs.dzn with 9329/9329 rows.\n"
     ]
    },
    {
     "name": "stdout",
     "output_type": "stream",
     "text": [
      "dbname=gnaf_db port=5432 user=postgres host=localhost password=throwAwayPassword\n"
     ]
    },
    {
     "name": "stderr",
     "output_type": "stream",
     "text": [
      "/Users/angus/code/jupyter/env/lib/python3.12/site-packages/psycopg_pool/pool_async.py:138: RuntimeWarning: opening the async pool AsyncConnectionPool in the constructor is deprecated and will not be supported anymore in a future release. Please use `await pool.open()`, or use the pool as context manager using: `async with AsyncConnectionPool(...) as pool: `...\n",
      "  warnings.warn(\n",
      "[1]2024-10-16 02:51:53,601 - INFO - Populated abs.state_electoral_division_2022 with 452/452 rows.\n",
      "[1]2024-10-16 02:51:53,933 - INFO - Populated abs.state_electoral_division_2021 with 452/452 rows.\n",
      "[1]2024-10-16 02:51:55,777 - INFO - Populated abs.localities with 15353/15353 rows.\n",
      "[1]2024-10-16 02:51:56,456 - INFO - Populated abs.sa1 with 61845/61845 rows.\n",
      "[1]2024-10-16 02:52:03,872 - INFO - Populated abs.meshblock with 368286/368286 rows.\n"
     ]
    },
    {
     "name": "stdout",
     "output_type": "stream",
     "text": [
      "dbname=gnaf_db port=5432 user=postgres host=localhost password=throwAwayPassword\n"
     ]
    },
    {
     "name": "stderr",
     "output_type": "stream",
     "text": [
      "2024-10-16 02:52:04,098 - INFO - Command.AddForeignKeys(ns='abs', range=None, dryrun=False)\n"
     ]
    }
   ],
   "source": [
    "from lib.tasks.ingest_abs import ingest_all\n",
    "from lib.pipeline.abs.defaults import ABS_MAIN_STRUCTURES, NON_ABS_MAIN_STRUCTURES\n",
    "from lib.pipeline.abs.config import IngestionConfig, WorkerConfig, WorkerLogConfig\n",
    "\n",
    "await ingest_all(\n",
    "    IngestionConfig(\n",
    "        ingest_sources=[ABS_MAIN_STRUCTURES, NON_ABS_MAIN_STRUCTURES],\n",
    "        worker_count=4,\n",
    "        worker_config=WorkerConfig(\n",
    "            db_config=db_service_config,\n",
    "            db_connections=2,\n",
    "            log_config=WorkerLogConfig(\n",
    "                level=logging.INFO,\n",
    "                format='%(asctime)s - %(levelname)s - %(message)s',\n",
    "                datefmt=None,\n",
    "            ),\n",
    "        ),\n",
    "    ),\n",
    "    db_service,\n",
    "    io_service,\n",
    ")"
   ]
  },
  {
   "cell_type": "markdown",
   "id": "e98810d8-9626-4ed5-bd95-1ebf2fc45455",
   "metadata": {},
   "source": [
    "## Ingesting NSW Land Values\n",
    "\n",
    "First lets just get the CSV's into the database, then we'll break it up into seperates tables, then we'll form links with the GNAF dataset.\n",
    "\n",
    "#### Documentation on this dataset\n",
    "\n",
    "The valuer general website has a link to documentation on interpretting that data on [this page](https://www.nsw.gov.au/housing-and-construction/land-values-nsw/resource-library/land-value-information-user-guide). I didn't link to the PDF directly as it occasionally updated and a direct link is at risk of going stale.\n",
    "\n",
    "It's useful getting the meaning behind the codes and terms used in the bulk data.\n",
    "\n",
    "### Steps\n",
    "\n",
    "1. **Build the `nsw_valuer_general.raw_entries_lv` table**: Here we are\n",
    "   just loading the each file from the latest land value publication\n",
    "   with minimal changes, and a bit of sanitisizing.\n",
    "2. **Break CSV data into sepreate relations**, Just to break up the data\n",
    "   into more efficent representations of the data, and data that will be\n",
    "   easier to query, we're going to perform a series of queries against\n",
    "   the GNAF data before using it populate the tables we care about.\n",
    "3. **Parse contents of the property description**, The `property_description`\n",
    "   from the original valuer general data constains alot of information. The\n",
    "   most important of which is the land parcel or `lot/plan` information.\n",
    "   There is other information in there as well.\n",
    "4. If specified drop the raw entries consumed in step (tho the default is\n",
    "   to do exactly that. \n"
   ]
  },
  {
   "cell_type": "code",
   "execution_count": null,
   "id": "34a7cd26-b31a-43da-af78-83284cf39c81",
   "metadata": {},
   "outputs": [
    {
     "name": "stderr",
     "output_type": "stream",
     "text": [
      "2024-10-16 02:53:24,092 - INFO - Parsed ./_out_zip/nswvg_lv_01_Oct_2024/052_LAND_VALUE_DATA_20241001.csv\n",
      "2024-10-16 02:53:24,148 - INFO - Parsed ./_out_zip/nswvg_lv_01_Oct_2024/043_LAND_VALUE_DATA_20241001.csv\n",
      "2024-10-16 02:53:24,695 - INFO - Parsed ./_out_zip/nswvg_lv_01_Oct_2024/066_LAND_VALUE_DATA_20241001.csv\n",
      "2024-10-16 02:53:25,164 - INFO - Parsed ./_out_zip/nswvg_lv_01_Oct_2024/230_LAND_VALUE_DATA_20241001.csv\n",
      "2024-10-16 02:53:25,379 - INFO - Parsed ./_out_zip/nswvg_lv_01_Oct_2024/243_LAND_VALUE_DATA_20241001.csv\n",
      "2024-10-16 02:53:26,054 - INFO - Parsed ./_out_zip/nswvg_lv_01_Oct_2024/233_LAND_VALUE_DATA_20241001.csv\n",
      "2024-10-16 02:53:26,187 - INFO - Parsed ./_out_zip/nswvg_lv_01_Oct_2024/252_LAND_VALUE_DATA_20241001.csv\n",
      "2024-10-16 02:53:27,422 - INFO - Parsed ./_out_zip/nswvg_lv_01_Oct_2024/235_LAND_VALUE_DATA_20241001.csv\n"
     ]
    }
   ],
   "source": [
    "from lib.service.clock import ClockService\n",
    "from lib.pipeline.nsw_vg.property_sales.ingestion import NSW_VG_PS_INGESTION_CONFIG\n",
    "from lib.tasks.nsw_vg.ingest import ingest_nswvg\n",
    "from lib.tasks.nsw_vg.ingest import NswVgIngestionConfig, NswVgIngestionDedupConfig, NswVgLandValueIngestionConfig\n",
    "from lib.tasks.nsw_vg.ingest_property_sales import PropertySaleIngestionConfig, ChildConfig, ParentConfig\n",
    "\n",
    "await ingest_nswvg(\n",
    "    environment,\n",
    "    ClockService(),\n",
    "    db_service,\n",
    "    io_service,\n",
    "    NswVgIngestionConfig(\n",
    "        load_raw_land_values=NswVgLandValueIngestionConfig(\n",
    "            truncate_raw_earlier=False,\n",
    "        ),\n",
    "        load_raw_property_sales=PropertySaleIngestionConfig(\n",
    "            worker_count=6,\n",
    "            worker_config=ChildConfig(\n",
    "                db_config=db_service_config,\n",
    "                db_pool_size=4,\n",
    "                db_batch_size=1000,\n",
    "                file_limit=None,\n",
    "                ingestion_config=NSW_VG_PS_INGESTION_CONFIG,\n",
    "                parser_chunk_size=8 * 2 ** 10,\n",
    "                log_config=None,\n",
    "            ),\n",
    "            parent_config=ParentConfig(\n",
    "                target_root_dir='./_out_zip',\n",
    "                publish_min=None,\n",
    "                publish_max=None,\n",
    "                download_min=None,\n",
    "                download_max=None,\n",
    "            ),\n",
    "        ),\n",
    "        deduplicate=NswVgIngestionDedupConfig(\n",
    "            run_from=1,\n",
    "            run_till=6,\n",
    "        ),\n",
    "        load_parcels=False,\n",
    "    ),\n",
    ")"
   ]
  },
  {
   "cell_type": "markdown",
   "id": "7205dcf6-90ba-4ddd-9a64-dd04b7d14cf9",
   "metadata": {},
   "source": [
    "## Gnaf Ingestion\n",
    "\n",
    "Here we ingest the GNAF dataset, this will take awhile."
   ]
  },
  {
   "cell_type": "code",
   "execution_count": null,
   "id": "37cc6440-562d-4468-b5d9-d3d53c925ae6",
   "metadata": {},
   "outputs": [],
   "source": [
    "from lib.tasks.ingest_gnaf import ingest_gnaf\n",
    "\n",
    "async with db_service:\n",
    "    await ingest_gnaf(gnaf_dis.publication, db_service)"
   ]
  },
  {
   "cell_type": "markdown",
   "id": "5c2ce4e7-4133-492f-beb7-5920ed34835f",
   "metadata": {},
   "source": [
    "## Done\n",
    "\n",
    "We've now built up the dataset, lets analysis what we got and show the contents of the database."
   ]
  },
  {
   "cell_type": "code",
   "execution_count": null,
   "id": "23e887af-b30e-40da-ae8b-ae0c6d779816",
   "metadata": {},
   "outputs": [],
   "source": [
    "async with (\n",
    "    db_service,\n",
    "    await db_service.async_connect() as c,\n",
    "    c.cursor() as cursor\n",
    "):\n",
    "    for schema in ['nsw_valuer_general', 'gnaf', 'abs_main_structures', 'non_abs_main_structures']:\n",
    "        # Get the list of all tables\n",
    "        cursor.execute(f\"\"\"\n",
    "            SELECT table_name\n",
    "            FROM information_schema.tables\n",
    "            WHERE table_schema = '{schema}'\n",
    "        \"\"\")\n",
    "        tables = cursor.fetchall()\n",
    "    \n",
    "        # Get row count for each table\n",
    "        for table in tables:\n",
    "            await cursor.execute(f'SELECT COUNT(*) FROM {schema}.{table[0]}')\n",
    "            count = cursor.fetchone()[0]\n",
    "            print(f\"Table {schema}.{table[0]} has {count} rows\")"
   ]
  }
 ],
 "metadata": {
  "kernelspec": {
   "display_name": "Python 3 (ipykernel)",
   "language": "python",
   "name": "python3"
  },
  "language_info": {
   "codemirror_mode": {
    "name": "ipython",
    "version": 3
   },
   "file_extension": ".py",
   "mimetype": "text/x-python",
   "name": "python",
   "nbconvert_exporter": "python",
   "pygments_lexer": "ipython3",
   "version": "3.12.5"
  }
 },
 "nbformat": 4,
 "nbformat_minor": 5
}
