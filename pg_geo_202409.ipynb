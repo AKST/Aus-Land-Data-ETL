{
 "cells": [
  {
   "cell_type": "markdown",
   "id": "6da3b19f-d9aa-4eff-a067-1bea931a02e1",
   "metadata": {},
   "source": [
    "# Lets figure out GIS\n",
    "\n",
    "## Todo\n",
    "\n",
    "- [ ] Get property boundaries loaded\n",
    "- [ ] Get planning layers loaded\n",
    "- [ ] Get heritage overlays loaded\n",
    "- [ ] Delete earlier notebook"
   ]
  },
  {
   "cell_type": "markdown",
   "id": "5bab50c8-e659-404e-a584-36ab02dfd82b",
   "metadata": {},
   "source": [
    "# Scrapping\n",
    "\n",
    "Here I'm testing different configurations for scrapping.\n",
    "\n",
    "## Different APIs to test\n",
    "\n",
    "- [NSW Spatial][portal-nsw-spatial] `https://portal.spatial.nsw.gov.au`\n",
    "  - **NSW Property feature layer**: this is of interest because it has NSW property id which can be used to link against the value general stuff.\n",
    "  - **NSW Lot feature layer**: This is interesting as it has lot numbers.\n",
    "- [Environment NSW][portal-nsw-environment]\n",
    "\n",
    "[portal-nsw-environment]: https://mapprod3.environment.nsw.gov.au/arcgis/rest/services/Planning/EPI_Primary_Planning_Layers/MapServer\n",
    "[portal-nsw-spatial]: https://portal.spatial.nsw.gov.au/server/rest/services/NSW_Land_Parcel_Property_Theme/FeatureServer\n",
    "\n",
    "## Request Times\n",
    "\n",
    "- Querying NSW Address field\n",
    "  - Filtering by `lastupdated` field\n",
    "    - Jan 2023 to Jun 2024, 0h 3m 55s\n",
    "    - Jan 2020 to Oct 2024, 0h 10m 39s \n",
    "    - Jan 2010 to Oct 2024, **4**h **16**m **29**s (`2410766` items)\n",
    "      - Interestingly when I saw the finished result the last result was `April 2013`. At the time I thought that was the earlier it went back, but I think that must have been a timeframe with some of the most updates.\n",
    "    - Feb 2013 to Apr 2013, **36**m **40**s (12 concurrent workers)\n",
    "      - I checked this to see `April 2013` is really the last period\n",
    "      - The first 2 months takes **2**m **27**s to run @ `25703` items\n",
    "      - There must be a lot of stuff here\n",
    "    - Jan 1990 to Feb 2013\n",
    "      - `143600` items in it's at **35**m **24**s\n",
    "      - got to `290100` items at **1**h **17**m **55**s and crashed on `2008-04-01`\n",
    "    - Apr 2008 to May 2008\n",
    "      - got to `249574` items at **1**h **1**m **4**s, still going\n",
    "      - got to `422941` items at **1**h **53**m **42**s, then crashed"
   ]
  },
  {
   "cell_type": "code",
   "execution_count": 1,
   "id": "dd30e1cf-c3d0-4057-827e-5ae2831b4826",
   "metadata": {},
   "outputs": [
    {
     "name": "stdout",
     "output_type": "stream",
     "text": [
      "2024-09-21 07:13:27 #22: 2200 items via @ 0h 0m 1s\n",
      "https://portal.spatial.nsw.gov.au/server/rest/services/NSW_Land_Parcel_Property_Theme/FeatureServer/12\n",
      "(800/12344) 6% progress for lastupdate >= DATE '2020-5-1' AND lastupdate < DATE '2020-6-1'\n"
     ]
    },
    {
     "data": {
      "image/png": "[encoded data removed]",
      "text/plain": [
       "<Figure size 200x400 with 1 Axes>"
      ]
     },
     "metadata": {},
     "output_type": "display_data"
    },
    {
     "data": {
      "text/html": [
       "<div>\n",
       "<style scoped>\n",
       "    .dataframe tbody tr th:only-of-type {\n",
       "        vertical-align: middle;\n",
       "    }\n",
       "\n",
       "    .dataframe tbody tr th {\n",
       "        vertical-align: top;\n",
       "    }\n",
       "\n",
       "    .dataframe thead th {\n",
       "        text-align: right;\n",
       "    }\n",
       "</style>\n",
       "<table border=\"1\" class=\"dataframe\">\n",
       "  <thead>\n",
       "    <tr style=\"text-align: right;\">\n",
       "      <th></th>\n",
       "      <th>RID</th>\n",
       "      <th>propid</th>\n",
       "      <th>principaladdresssiteoid</th>\n",
       "      <th>addressstringoid</th>\n",
       "      <th>propertytype</th>\n",
       "      <th>superlot</th>\n",
       "      <th>housenumber</th>\n",
       "      <th>address</th>\n",
       "      <th>principaladdresstype</th>\n",
       "      <th>createdate</th>\n",
       "      <th>startdate</th>\n",
       "      <th>enddate</th>\n",
       "      <th>lastupdate</th>\n",
       "      <th>shapeuuid</th>\n",
       "      <th>changetype</th>\n",
       "      <th>Shape__Length</th>\n",
       "      <th>Shape__Area</th>\n",
       "      <th>geometry</th>\n",
       "    </tr>\n",
       "  </thead>\n",
       "  <tbody>\n",
       "    <tr>\n",
       "      <th>0</th>\n",
       "      <td>5105098</td>\n",
       "      <td>3647754</td>\n",
       "      <td>3417255</td>\n",
       "      <td>6377343</td>\n",
       "      <td>1</td>\n",
       "      <td>N</td>\n",
       "      <td>1B</td>\n",
       "      <td>1B OCEAN AVENUE STUARTS POINT</td>\n",
       "      <td>1</td>\n",
       "      <td>1588365761000</td>\n",
       "      <td>1588365773000</td>\n",
       "      <td>32503680000000</td>\n",
       "      <td>1588365800854</td>\n",
       "      <td>a627d0ea-e2d8-3c18-a16d-44552a73debb</td>\n",
       "      <td>I</td>\n",
       "      <td>2662.912856</td>\n",
       "      <td>62456.147254</td>\n",
       "      <td>POLYGON ((152.99398 -30.82801, 152.99404 -30.8...</td>\n",
       "    </tr>\n",
       "  </tbody>\n",
       "</table>\n",
       "</div>"
      ],
      "text/plain": [
       "       RID   propid  principaladdresssiteoid  addressstringoid  propertytype  \\\n",
       "0  5105098  3647754                  3417255           6377343             1   \n",
       "\n",
       "  superlot housenumber                        address  principaladdresstype  \\\n",
       "0        N          1B  1B OCEAN AVENUE STUARTS POINT                     1   \n",
       "\n",
       "      createdate      startdate         enddate     lastupdate  \\\n",
       "0  1588365761000  1588365773000  32503680000000  1588365800854   \n",
       "\n",
       "                              shapeuuid changetype  Shape__Length  \\\n",
       "0  a627d0ea-e2d8-3c18-a16d-44552a73debb          I    2662.912856   \n",
       "\n",
       "    Shape__Area                                           geometry  \n",
       "0  62456.147254  POLYGON ((152.99398 -30.82801, 152.99404 -30.8...  "
      ]
     },
     "metadata": {},
     "output_type": "display_data"
    },
    {
     "ename": "CancelledError",
     "evalue": "",
     "output_type": "error",
     "traceback": [
      "\u001b[0;31m---------------------------------------------------------------------------\u001b[0m",
      "\u001b[0;31mCancelledError\u001b[0m                            Traceback (most recent call last)",
      "Cell \u001b[0;32mIn[1], line 3\u001b[0m\n\u001b[1;32m      1\u001b[0m \u001b[38;5;28;01mfrom\u001b[39;00m \u001b[38;5;21;01mlib\u001b[39;00m\u001b[38;5;21;01m.\u001b[39;00m\u001b[38;5;21;01mtasks\u001b[39;00m\u001b[38;5;21;01m.\u001b[39;00m\u001b[38;5;21;01mgis_scrapper\u001b[39;00m \u001b[38;5;28;01mimport\u001b[39;00m run_in_notebook\n\u001b[0;32m----> 3\u001b[0m \u001b[38;5;28;01mawait\u001b[39;00m run_in_notebook()\n",
      "File \u001b[0;32m~/code/jupyter/notebooks/20240907, vg/lib/tasks/gis_scrapper.py:86\u001b[0m, in \u001b[0;36mrun_in_notebook\u001b[0;34m()\u001b[0m\n\u001b[1;32m     84\u001b[0m \u001b[38;5;28;01masync\u001b[39;00m \u001b[38;5;28;01mdef\u001b[39;00m \u001b[38;5;21mrun_in_notebook\u001b[39m():\n\u001b[1;32m     85\u001b[0m     ui \u001b[38;5;241m=\u001b[39m IPythonUi()\n\u001b[0;32m---> 86\u001b[0m     \u001b[38;5;28;01mawait\u001b[39;00m run(ui)\n",
      "File \u001b[0;32m~/code/jupyter/notebooks/20240907, vg/lib/tasks/gis_scrapper.py:77\u001b[0m, in \u001b[0;36mrun\u001b[0;34m(ui)\u001b[0m\n\u001b[1;32m     73\u001b[0m ui\u001b[38;5;241m.\u001b[39mproducer\u001b[38;5;241m.\u001b[39mqueue(SNSW_LOT_PROJECTION)\n\u001b[1;32m     74\u001b[0m \u001b[38;5;66;03m# reader.queue(ENSW_ZONE_PROJECTION)\u001b[39;00m\n\u001b[1;32m     75\u001b[0m \u001b[38;5;66;03m# reader.queue(ENSW_DA_PROJECTION)\u001b[39;00m\n\u001b[0;32m---> 77\u001b[0m \u001b[38;5;28;01masync\u001b[39;00m \u001b[38;5;28;01mfor\u001b[39;00m proj, task, page \u001b[38;5;129;01min\u001b[39;00m ui\u001b[38;5;241m.\u001b[39mproducer\u001b[38;5;241m.\u001b[39mproduce([]):\n\u001b[1;32m     78\u001b[0m     ui\u001b[38;5;241m.\u001b[39mon_loop(proj, task, page)\n\u001b[1;32m     80\u001b[0m \u001b[38;5;28mprint\u001b[39m(\u001b[38;5;124mf\u001b[39m\u001b[38;5;124m\"\u001b[39m\u001b[38;5;124mfinished loading GIS\u001b[39m\u001b[38;5;124m'\u001b[39m\u001b[38;5;124m\"\u001b[39m)\n",
      "File \u001b[0;32m~/code/jupyter/notebooks/20240907, vg/lib/gis/producer/producer.py:43\u001b[0m, in \u001b[0;36mGisProducer.produce\u001b[0;34m(self, params)\u001b[0m\n\u001b[1;32m     42\u001b[0m \u001b[38;5;28;01masync\u001b[39;00m \u001b[38;5;28;01mdef\u001b[39;00m \u001b[38;5;21mproduce\u001b[39m(\u001b[38;5;28mself\u001b[39m, params: List[PredicateParam]):\n\u001b[0;32m---> 43\u001b[0m     \u001b[38;5;28;01masync\u001b[39;00m \u001b[38;5;28;01mwith\u001b[39;00m asyncio\u001b[38;5;241m.\u001b[39mTaskGroup() \u001b[38;5;28;01mas\u001b[39;00m tg:\n\u001b[1;32m     44\u001b[0m         iters \u001b[38;5;241m=\u001b[39m [ss\u001b[38;5;241m.\u001b[39mrun_all(tg, params) \u001b[38;5;28;01mfor\u001b[39;00m ss \u001b[38;5;129;01min\u001b[39;00m \u001b[38;5;28mself\u001b[39m\u001b[38;5;241m.\u001b[39m_streams]\n\u001b[1;32m     45\u001b[0m         \u001b[38;5;28;01masync\u001b[39;00m \u001b[38;5;28;01mfor\u001b[39;00m result \u001b[38;5;129;01min\u001b[39;00m merge_async_iters(iters, tg):\n",
      "File \u001b[0;32m/usr/local/Caskroom/miniconda/base/lib/python3.11/asyncio/taskgroups.py:136\u001b[0m, in \u001b[0;36mTaskGroup.__aexit__\u001b[0;34m(self, et, exc, tb)\u001b[0m\n\u001b[1;32m    133\u001b[0m \u001b[38;5;66;03m# Propagate CancelledError if there is one, except if there\u001b[39;00m\n\u001b[1;32m    134\u001b[0m \u001b[38;5;66;03m# are other errors -- those have priority.\u001b[39;00m\n\u001b[1;32m    135\u001b[0m \u001b[38;5;28;01mif\u001b[39;00m propagate_cancellation_error \u001b[38;5;129;01mand\u001b[39;00m \u001b[38;5;129;01mnot\u001b[39;00m \u001b[38;5;28mself\u001b[39m\u001b[38;5;241m.\u001b[39m_errors:\n\u001b[0;32m--> 136\u001b[0m     \u001b[38;5;28;01mraise\u001b[39;00m propagate_cancellation_error\n\u001b[1;32m    138\u001b[0m \u001b[38;5;28;01mif\u001b[39;00m et \u001b[38;5;129;01mis\u001b[39;00m \u001b[38;5;129;01mnot\u001b[39;00m \u001b[38;5;28;01mNone\u001b[39;00m \u001b[38;5;129;01mand\u001b[39;00m et \u001b[38;5;129;01mis\u001b[39;00m \u001b[38;5;129;01mnot\u001b[39;00m exceptions\u001b[38;5;241m.\u001b[39mCancelledError:\n\u001b[1;32m    139\u001b[0m     \u001b[38;5;28mself\u001b[39m\u001b[38;5;241m.\u001b[39m_errors\u001b[38;5;241m.\u001b[39mappend(exc)\n",
      "File \u001b[0;32m~/code/jupyter/notebooks/20240907, vg/lib/gis/producer/producer.py:45\u001b[0m, in \u001b[0;36mGisProducer.produce\u001b[0;34m(self, params)\u001b[0m\n\u001b[1;32m     43\u001b[0m \u001b[38;5;28;01masync\u001b[39;00m \u001b[38;5;28;01mwith\u001b[39;00m asyncio\u001b[38;5;241m.\u001b[39mTaskGroup() \u001b[38;5;28;01mas\u001b[39;00m tg:\n\u001b[1;32m     44\u001b[0m     iters \u001b[38;5;241m=\u001b[39m [ss\u001b[38;5;241m.\u001b[39mrun_all(tg, params) \u001b[38;5;28;01mfor\u001b[39;00m ss \u001b[38;5;129;01min\u001b[39;00m \u001b[38;5;28mself\u001b[39m\u001b[38;5;241m.\u001b[39m_streams]\n\u001b[0;32m---> 45\u001b[0m     \u001b[38;5;28;01masync\u001b[39;00m \u001b[38;5;28;01mfor\u001b[39;00m result \u001b[38;5;129;01min\u001b[39;00m merge_async_iters(iters, tg):\n\u001b[1;32m     46\u001b[0m         \u001b[38;5;28;01myield\u001b[39;00m result\n",
      "File \u001b[0;32m~/code/jupyter/notebooks/20240907, vg/lib/async_util.py:85\u001b[0m, in \u001b[0;36mmerge_async_iters\u001b[0;34m(iters, tg)\u001b[0m\n\u001b[1;32m     82\u001b[0m tasks \u001b[38;5;241m=\u001b[39m {tg\u001b[38;5;241m.\u001b[39mcreate_task(it\u001b[38;5;241m.\u001b[39m\u001b[38;5;21m__anext__\u001b[39m()): it \u001b[38;5;28;01mfor\u001b[39;00m it \u001b[38;5;129;01min\u001b[39;00m iters}\n\u001b[1;32m     84\u001b[0m \u001b[38;5;28;01mwhile\u001b[39;00m tasks:\n\u001b[0;32m---> 85\u001b[0m     done, _ \u001b[38;5;241m=\u001b[39m \u001b[38;5;28;01mawait\u001b[39;00m wait(tasks, return_when\u001b[38;5;241m=\u001b[39masyncio\u001b[38;5;241m.\u001b[39mFIRST_COMPLETED)\n\u001b[1;32m     87\u001b[0m     \u001b[38;5;28;01mfor\u001b[39;00m task \u001b[38;5;129;01min\u001b[39;00m done:\n\u001b[1;32m     88\u001b[0m         iterator \u001b[38;5;241m=\u001b[39m tasks\u001b[38;5;241m.\u001b[39mpop(task)\n",
      "File \u001b[0;32m/usr/local/Caskroom/miniconda/base/lib/python3.11/asyncio/tasks.py:418\u001b[0m, in \u001b[0;36mwait\u001b[0;34m(fs, timeout, return_when)\u001b[0m\n\u001b[1;32m    415\u001b[0m     \u001b[38;5;28;01mraise\u001b[39;00m \u001b[38;5;167;01mTypeError\u001b[39;00m(\u001b[38;5;124m\"\u001b[39m\u001b[38;5;124mPassing coroutines is forbidden, use tasks explicitly.\u001b[39m\u001b[38;5;124m\"\u001b[39m)\n\u001b[1;32m    417\u001b[0m loop \u001b[38;5;241m=\u001b[39m events\u001b[38;5;241m.\u001b[39mget_running_loop()\n\u001b[0;32m--> 418\u001b[0m \u001b[38;5;28;01mreturn\u001b[39;00m \u001b[38;5;28;01mawait\u001b[39;00m _wait(fs, timeout, return_when, loop)\n",
      "File \u001b[0;32m/usr/local/Caskroom/miniconda/base/lib/python3.11/asyncio/tasks.py:525\u001b[0m, in \u001b[0;36m_wait\u001b[0;34m(fs, timeout, return_when, loop)\u001b[0m\n\u001b[1;32m    522\u001b[0m     f\u001b[38;5;241m.\u001b[39madd_done_callback(_on_completion)\n\u001b[1;32m    524\u001b[0m \u001b[38;5;28;01mtry\u001b[39;00m:\n\u001b[0;32m--> 525\u001b[0m     \u001b[38;5;28;01mawait\u001b[39;00m waiter\n\u001b[1;32m    526\u001b[0m \u001b[38;5;28;01mfinally\u001b[39;00m:\n\u001b[1;32m    527\u001b[0m     \u001b[38;5;28;01mif\u001b[39;00m timeout_handle \u001b[38;5;129;01mis\u001b[39;00m \u001b[38;5;129;01mnot\u001b[39;00m \u001b[38;5;28;01mNone\u001b[39;00m:\n",
      "\u001b[0;31mCancelledError\u001b[0m: "
     ]
    }
   ],
   "source": [
    "from lib.tasks.gis_scrapper import run_in_notebook\n",
    "\n",
    "await run_in_notebook()"
   ]
  },
  {
   "cell_type": "code",
   "execution_count": null,
   "id": "fe15282a-e294-47b6-88ee-2d35336be740",
   "metadata": {},
   "outputs": [],
   "source": []
  },
  {
   "cell_type": "code",
   "execution_count": null,
   "id": "fe26a71b-9741-4852-8850-b31e71f22192",
   "metadata": {},
   "outputs": [],
   "source": []
  },
  {
   "cell_type": "code",
   "execution_count": null,
   "id": "0eb223f0-41bf-42e1-9d76-75a8674d329c",
   "metadata": {},
   "outputs": [],
   "source": []
  }
 ],
 "metadata": {
  "kernelspec": {
   "display_name": "Python 3 (ipykernel)",
   "language": "python",
   "name": "python3"
  },
  "language_info": {
   "codemirror_mode": {
    "name": "ipython",
    "version": 3
   },
   "file_extension": ".py",
   "mimetype": "text/x-python",
   "name": "python",
   "nbconvert_exporter": "python",
   "pygments_lexer": "ipython3",
   "version": "3.11.4"
  }
 },
 "nbformat": 4,
 "nbformat_minor": 5
}
