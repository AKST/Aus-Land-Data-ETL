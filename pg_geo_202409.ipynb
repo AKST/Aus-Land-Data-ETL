{
 "cells": [
  {
   "cell_type": "markdown",
   "id": "6da3b19f-d9aa-4eff-a067-1bea931a02e1",
   "metadata": {},
   "source": [
    "# Lets figure out GIS\n",
    "\n",
    "## Todo\n",
    "\n",
    "- [ ] Get property boundaries loaded\n",
    "- [ ] Get planning layers loaded\n",
    "- [ ] Get heritage overlays loaded\n",
    "- [ ] Delete earlier notebook"
   ]
  },
  {
   "cell_type": "markdown",
   "id": "5bab50c8-e659-404e-a584-36ab02dfd82b",
   "metadata": {},
   "source": [
    "# Scrapping\n",
    "\n",
    "Here I'm testing different configurations for scrapping.\n",
    "\n",
    "## Request Times\n",
    "\n",
    "- Querying NSW Address field\n",
    "  - Filtering by `lastupdated` field\n",
    "    - Jan 2023 to Jun 2024, 0h 3m 55s\n",
    "    - Jan 2020 to Oct 2024, 0h 10m 39s \n",
    "    - Jan 2010 to Oct 2024, **4**h **16**m **29**s (`2410766` items)\n",
    "      - Interestingly the earliest record was dated to `April 2013`\n",
    "    - Feb 2013 to Apr 2013\n",
    "      - I checked this to see `April 2013` is really the last period\n",
    "      - The first 2 months takes **2**m **27**s to run @ `25703` items\n",
    "    - Jan 1990 to Jan 2010"
   ]
  },
  {
   "cell_type": "code",
   "execution_count": null,
   "id": "dd30e1cf-c3d0-4057-827e-5ae2831b4826",
   "metadata": {},
   "outputs": [
    {
     "name": "stdout",
     "output_type": "stream",
     "text": [
      "lastupdate >= DATE '2013-4-01' AND lastupdate < DATE '2013-5-01' 12\n",
      "2024-09-15 13:37:53 #337: 33603 items @ 1m 8s\n"
     ]
    },
    {
     "data": {
      "image/png": "[encoded data removed]",
      "text/plain": [
       "<Figure size 200x400 with 1 Axes>"
      ]
     },
     "metadata": {},
     "output_type": "display_data"
    },
    {
     "data": {
      "text/html": [
       "<div>\n",
       "<style scoped>\n",
       "    .dataframe tbody tr th:only-of-type {\n",
       "        vertical-align: middle;\n",
       "    }\n",
       "\n",
       "    .dataframe tbody tr th {\n",
       "        vertical-align: top;\n",
       "    }\n",
       "\n",
       "    .dataframe thead th {\n",
       "        text-align: right;\n",
       "    }\n",
       "</style>\n",
       "<table border=\"1\" class=\"dataframe\">\n",
       "  <thead>\n",
       "    <tr style=\"text-align: right;\">\n",
       "      <th></th>\n",
       "      <th>RID</th>\n",
       "      <th>propid</th>\n",
       "      <th>principaladdresssiteoid</th>\n",
       "      <th>addressstringoid</th>\n",
       "      <th>propertytype</th>\n",
       "      <th>superlot</th>\n",
       "      <th>housenumber</th>\n",
       "      <th>address</th>\n",
       "      <th>principaladdresstype</th>\n",
       "      <th>createdate</th>\n",
       "      <th>startdate</th>\n",
       "      <th>enddate</th>\n",
       "      <th>lastupdate</th>\n",
       "      <th>shapeuuid</th>\n",
       "      <th>changetype</th>\n",
       "      <th>Shape__Length</th>\n",
       "      <th>Shape__Area</th>\n",
       "      <th>geometry</th>\n",
       "    </tr>\n",
       "  </thead>\n",
       "  <tbody>\n",
       "    <tr>\n",
       "      <th>0</th>\n",
       "      <td>118651</td>\n",
       "      <td>1453236</td>\n",
       "      <td>111838</td>\n",
       "      <td>5611383</td>\n",
       "      <td>1</td>\n",
       "      <td>Y</td>\n",
       "      <td>38</td>\n",
       "      <td>38 HILLY STREET MORTLAKE</td>\n",
       "      <td>1</td>\n",
       "      <td>1135036800000</td>\n",
       "      <td>1365118225000</td>\n",
       "      <td>32503680000000</td>\n",
       "      <td>1365118317853</td>\n",
       "      <td>c6504816-229d-3b90-8010-94c050b48712</td>\n",
       "      <td>M</td>\n",
       "      <td>194.517963</td>\n",
       "      <td>2000.751032</td>\n",
       "      <td>POLYGON ((151.10439 -33.83688, 151.10433 -33.8...</td>\n",
       "    </tr>\n",
       "  </tbody>\n",
       "</table>\n",
       "</div>"
      ],
      "text/plain": [
       "      RID   propid  principaladdresssiteoid  addressstringoid  propertytype  \\\n",
       "0  118651  1453236                   111838           5611383             1   \n",
       "\n",
       "  superlot housenumber                   address  principaladdresstype  \\\n",
       "0        Y          38  38 HILLY STREET MORTLAKE                     1   \n",
       "\n",
       "      createdate      startdate         enddate     lastupdate  \\\n",
       "0  1135036800000  1365118225000  32503680000000  1365118317853   \n",
       "\n",
       "                              shapeuuid changetype  Shape__Length  \\\n",
       "0  c6504816-229d-3b90-8010-94c050b48712          M     194.517963   \n",
       "\n",
       "   Shape__Area                                           geometry  \n",
       "0  2000.751032  POLYGON ((151.10439 -33.83688, 151.10433 -33.8...  "
      ]
     },
     "metadata": {},
     "output_type": "display_data"
    }
   ],
   "source": [
    "from aiohttp import ClientSession\n",
    "from datetime import datetime\n",
    "import geopandas as gpd\n",
    "from IPython.display import clear_output\n",
    "import math\n",
    "import matplotlib.pyplot as plt\n",
    "import time\n",
    "\n",
    "from lib.gis.defaults import NSW_ADDRESS_PROJECTION, NSW_LOT_PROJECTION\n",
    "from lib.gis.request import GisPredicate, YearMonth\n",
    "from lib.gis.gis_reader import GisReader, GisReaderError, GisPredicate\n",
    "\n",
    "concurrent, print_n, predicate = 12, 1, GisPredicate(YearMonth(2013, 2), YearMonth(2013, 5))\n",
    "\n",
    "async def read_pages(reader, projection):\n",
    "    splot = lambda: plt.subplots(1, 1, figsize=(2, 4))\n",
    "\n",
    "    fig, ax = splot()\n",
    "    count, items, start_time = 0, 0, time.time()\n",
    "\n",
    "    def render(chunk, page):\n",
    "        t = int(time.time() - start_time)\n",
    "        clear_output(wait=True)\n",
    "        time_of_day = datetime.now().strftime(\"%Y-%m-%d %H:%M:%S\")\n",
    "        print(chunk.where_clause, concurrent) \n",
    "        print(f'{time_of_day} #{count}: {items} items @ {t // 60}m {t % 60}s')\n",
    "        plt.show()\n",
    "        if page is not None:\n",
    "            display(page.iloc[:1])\n",
    "    \n",
    "    ym, page = None, None\n",
    "    async for clause, page in reader.load_projection(projection, predicate):\n",
    "        page.plot(ax=ax, column='Shape__Area')\n",
    "        items, count = items + len(page), count + 1\n",
    "        if not count % print_n:\n",
    "            render(clause, page)\n",
    "            fig, ax = splot()\n",
    "            \n",
    "    render(clause, page)\n",
    "    print(f\"finished loading GIS'\")\n",
    "\n",
    "try:\n",
    "    async with ClientSession() as session:\n",
    "        gis_reader = GisReader.create(session, max_concurrent=concurrent)\n",
    "        await read_pages(gis_reader, NSW_ADDRESS_PROJECTION)\n",
    "        # await read_pages(gis_reader, NSW_LOT_PROJECTION)\n",
    "except GisReaderError as e:\n",
    "    print(e)\n",
    "\n",
    "print(predicate.start < predicate.end)"
   ]
  },
  {
   "cell_type": "code",
   "execution_count": null,
   "id": "fe15282a-e294-47b6-88ee-2d35336be740",
   "metadata": {},
   "outputs": [],
   "source": []
  }
 ],
 "metadata": {
  "kernelspec": {
   "display_name": "Python 3 (ipykernel)",
   "language": "python",
   "name": "python3"
  },
  "language_info": {
   "codemirror_mode": {
    "name": "ipython",
    "version": 3
   },
   "file_extension": ".py",
   "mimetype": "text/x-python",
   "name": "python",
   "nbconvert_exporter": "python",
   "pygments_lexer": "ipython3",
   "version": "3.11.4"
  }
 },
 "nbformat": 4,
 "nbformat_minor": 5
}
