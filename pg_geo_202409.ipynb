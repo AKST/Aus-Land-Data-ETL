{
 "cells": [
  {
   "cell_type": "markdown",
   "id": "6da3b19f-d9aa-4eff-a067-1bea931a02e1",
   "metadata": {},
   "source": [
    "# Lets figure out GIS\n",
    "\n",
    "## Todo\n",
    "\n",
    "- [ ] Get property boundaries loaded\n",
    "- [ ] Get planning layers loaded\n",
    "- [ ] Get heritage overlays loaded\n",
    "- [ ] Delete earlier notebook"
   ]
  },
  {
   "cell_type": "markdown",
   "id": "5bab50c8-e659-404e-a584-36ab02dfd82b",
   "metadata": {},
   "source": [
    "# Scrapping\n",
    "\n",
    "Here I'm testing different configurations for scrapping.\n",
    "\n",
    "## Different APIs to test\n",
    "\n",
    "- [NSW Spatial][portal-nsw-spatial] `https://portal.spatial.nsw.gov.au`\n",
    "  - **NSW Property feature layer**: this is of interest because it has NSW property id which can be used to link against the value general stuff.\n",
    "  - **NSW Lot feature layer**: This is interesting as it has lot numbers.\n",
    "- [Environment NSW][portal-nsw-environment]\n",
    "\n",
    "[portal-nsw-environment]: https://mapprod3.environment.nsw.gov.au/arcgis/rest/services/Planning/EPI_Primary_Planning_Layers/MapServer\n",
    "[portal-nsw-spatial]: https://portal.spatial.nsw.gov.au/server/rest/services/NSW_Land_Parcel_Property_Theme/FeatureServer\n",
    "\n",
    "## Request Times\n",
    "\n",
    "- Querying NSW Address field\n",
    "  - Filtering by `lastupdated` field\n",
    "    - Jan 2023 to Jun 2024, 0h 3m 55s\n",
    "    - Jan 2020 to Oct 2024, 0h 10m 39s \n",
    "    - Jan 2010 to Oct 2024, **4**h **16**m **29**s (`2410766` items)\n",
    "      - Interestingly when I saw the finished result the last result was `April 2013`. At the time I thought that was the earlier it went back, but I think that must have been a timeframe with some of the most updates.\n",
    "    - Feb 2013 to Apr 2013, **36**m **40**s (12 concurrent workers)\n",
    "      - I checked this to see `April 2013` is really the last period\n",
    "      - The first 2 months takes **2**m **27**s to run @ `25703` items\n",
    "      - There must be a lot of stuff here\n",
    "    - Jan 1990 to Feb 2013\n",
    "      - `143600` items in it's at **35**m **24**s\n",
    "      - got to `290100` items at **1**h **17**m **55**s and crashed on `2008-04-01`\n",
    "    - Apr 2008 to May 2008\n",
    "      - got to `249574` items at **1**h **1**m **4**s, still going\n",
    "      - got to `422941` items at **1**h **53**m **42**s, then crashed"
   ]
  },
  {
   "cell_type": "code",
   "execution_count": null,
   "id": "dd30e1cf-c3d0-4057-827e-5ae2831b4826",
   "metadata": {},
   "outputs": [
    {
     "name": "stdout",
     "output_type": "stream",
     "text": [
      "2024-09-24 12:01:10 #1583: 157122 items via @ 0h 1m 48s\n",
      "https://portal.spatial.nsw.gov.au/server/rest/services/NSW_Land_Parcel_Property_Theme/FeatureServer/12\n",
      "(1600/11097) 14% progress for lastupdate >= DATE '2021-11-1' AND lastupdate < DATE '2021-12-1'\n"
     ]
    },
    {
     "data": {
      "image/png": "[encoded data removed]",
      "text/plain": [
       "<Figure size 200x400 with 1 Axes>"
      ]
     },
     "metadata": {},
     "output_type": "display_data"
    },
    {
     "data": {
      "text/html": [
       "<div>\n",
       "<style scoped>\n",
       "    .dataframe tbody tr th:only-of-type {\n",
       "        vertical-align: middle;\n",
       "    }\n",
       "\n",
       "    .dataframe tbody tr th {\n",
       "        vertical-align: top;\n",
       "    }\n",
       "\n",
       "    .dataframe thead th {\n",
       "        text-align: right;\n",
       "    }\n",
       "</style>\n",
       "<table border=\"1\" class=\"dataframe\">\n",
       "  <thead>\n",
       "    <tr style=\"text-align: right;\">\n",
       "      <th></th>\n",
       "      <th>RID</th>\n",
       "      <th>propid</th>\n",
       "      <th>principaladdresssiteoid</th>\n",
       "      <th>addressstringoid</th>\n",
       "      <th>propertytype</th>\n",
       "      <th>superlot</th>\n",
       "      <th>housenumber</th>\n",
       "      <th>address</th>\n",
       "      <th>principaladdresstype</th>\n",
       "      <th>createdate</th>\n",
       "      <th>startdate</th>\n",
       "      <th>enddate</th>\n",
       "      <th>lastupdate</th>\n",
       "      <th>shapeuuid</th>\n",
       "      <th>changetype</th>\n",
       "      <th>Shape__Length</th>\n",
       "      <th>Shape__Area</th>\n",
       "      <th>geometry</th>\n",
       "    </tr>\n",
       "  </thead>\n",
       "  <tbody>\n",
       "    <tr>\n",
       "      <th>0</th>\n",
       "      <td>5955649</td>\n",
       "      <td>4392774</td>\n",
       "      <td>4547521</td>\n",
       "      <td>8566792</td>\n",
       "      <td>1</td>\n",
       "      <td>N</td>\n",
       "      <td>586</td>\n",
       "      <td>586 GLENBAWN ROAD SEGENHOE</td>\n",
       "      <td>1</td>\n",
       "      <td>1636152816000</td>\n",
       "      <td>1636153262000</td>\n",
       "      <td>32503680000000</td>\n",
       "      <td>1636153487345</td>\n",
       "      <td>a72019bf-0422-3b29-b618-4ad351677870</td>\n",
       "      <td>M</td>\n",
       "      <td>5046.384137</td>\n",
       "      <td>781081.606741</td>\n",
       "      <td>POLYGON ((150.97076 -32.0917, 150.97107 -32.09...</td>\n",
       "    </tr>\n",
       "  </tbody>\n",
       "</table>\n",
       "</div>"
      ],
      "text/plain": [
       "       RID   propid  principaladdresssiteoid  addressstringoid  propertytype  \\\n",
       "0  5955649  4392774                  4547521           8566792             1   \n",
       "\n",
       "  superlot housenumber                     address  principaladdresstype  \\\n",
       "0        N         586  586 GLENBAWN ROAD SEGENHOE                     1   \n",
       "\n",
       "      createdate      startdate         enddate     lastupdate  \\\n",
       "0  1636152816000  1636153262000  32503680000000  1636153487345   \n",
       "\n",
       "                              shapeuuid changetype  Shape__Length  \\\n",
       "0  a72019bf-0422-3b29-b618-4ad351677870          M    5046.384137   \n",
       "\n",
       "     Shape__Area                                           geometry  \n",
       "0  781081.606741  POLYGON ((150.97076 -32.0917, 150.97107 -32.09...  "
      ]
     },
     "metadata": {},
     "output_type": "display_data"
    }
   ],
   "source": [
    "from lib.tasks.gis_scrapper import run_in_notebook\n",
    "\n",
    "await run_in_notebook()"
   ]
  },
  {
   "cell_type": "code",
   "execution_count": null,
   "id": "fe15282a-e294-47b6-88ee-2d35336be740",
   "metadata": {},
   "outputs": [],
   "source": []
  },
  {
   "cell_type": "code",
   "execution_count": null,
   "id": "fe26a71b-9741-4852-8850-b31e71f22192",
   "metadata": {},
   "outputs": [],
   "source": []
  },
  {
   "cell_type": "code",
   "execution_count": null,
   "id": "0eb223f0-41bf-42e1-9d76-75a8674d329c",
   "metadata": {},
   "outputs": [],
   "source": []
  }
 ],
 "metadata": {
  "kernelspec": {
   "display_name": "Python 3 (ipykernel)",
   "language": "python",
   "name": "python3"
  },
  "language_info": {
   "codemirror_mode": {
    "name": "ipython",
    "version": 3
   },
   "file_extension": ".py",
   "mimetype": "text/x-python",
   "name": "python",
   "nbconvert_exporter": "python",
   "pygments_lexer": "ipython3",
   "version": "3.12.5"
  }
 },
 "nbformat": 4,
 "nbformat_minor": 5
}
