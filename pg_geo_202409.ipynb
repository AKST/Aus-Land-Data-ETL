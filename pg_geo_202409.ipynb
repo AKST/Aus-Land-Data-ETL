{
 "cells": [
  {
   "cell_type": "markdown",
   "id": "6da3b19f-d9aa-4eff-a067-1bea931a02e1",
   "metadata": {},
   "source": [
    "# Lets figure out GIS\n",
    "\n",
    "## Todo\n",
    "\n",
    "- [ ] Get property boundaries loaded\n",
    "- [ ] Get planning layers loaded\n",
    "- [ ] Get heritage overlays loaded\n",
    "- [ ] Delete earlier notebook"
   ]
  },
  {
   "cell_type": "markdown",
   "id": "5bab50c8-e659-404e-a584-36ab02dfd82b",
   "metadata": {},
   "source": [
    "# Scrapping\n",
    "\n",
    "Here I'm testing different configurations for scrapping.\n",
    "\n",
    "## Request Times\n",
    "\n",
    "- Sydney Bounds, `Shape__Area < 50000000`\n",
    "  - Resolution **0.01** With **1** Concurrent Requests\n",
    "    - **1** block, **0.8**s \n",
    "  - Resolution **0.02** With **8** Concurrent Requests\n",
    "    - **100** block, **15**s - **17**s - **28s** \n",
    "    - **200** block, **56**s - **57**s - **218**s\n",
    "    - **400** block, **519**s - **528**s - **530**s _(8 minutes 50 seconds)_ - **539**s\n",
    "    - **600** block, **2222**s _(37 minutes 2 seconds)_\n",
    "    - **800**\n",
    "      - timed out before "
   ]
  },
  {
   "cell_type": "code",
   "execution_count": null,
   "id": "dd30e1cf-c3d0-4057-827e-5ae2831b4826",
   "metadata": {},
   "outputs": [
    {
     "name": "stdout",
     "output_type": "stream",
     "text": [
      "#40: 1385 items @ 0m 3s\n",
      "#80: 4718 items @ 0m 6s\n",
      "#120: 8343 items @ 0m 12s\n",
      "#160: 13950 items @ 0m 17s\n",
      "#200: 17445 items @ 0m 23s\n",
      "#240: 21918 items @ 0m 26s\n",
      "#280: 24357 items @ 0m 31s\n",
      "#320: 26275 items @ 0m 36s\n",
      "#360: 30739 items @ 0m 43s\n",
      "#400: 34975 items @ 0m 47s\n",
      "#440: 44876 items @ 0m 58s\n",
      "#480: 52571 items @ 1m 8s\n",
      "#520: 59213 items @ 1m 19s\n",
      "#560: 76633 items @ 1m 52s\n",
      "#600: 86118 items @ 2m 16s\n",
      "#640: 103490 items @ 2m 42s\n",
      "#680: 115362 items @ 3m 2s\n",
      "#720: 124124 items @ 3m 18s\n",
      "#760: 134093 items @ 3m 35s\n",
      "#800: 142096 items @ 3m 53s\n",
      "#840: 148263 items @ 4m 9s\n",
      "#880: 156266 items @ 4m 26s\n",
      "#920: 169929 items @ 4m 55s\n",
      "#960: 180256 items @ 5m 14s\n",
      "#1000: 199478 items @ 5m 47s\n",
      "#1040: 211807 items @ 6m 36s\n"
     ]
    }
   ],
   "source": [
    "from aiohttp import ClientSession\n",
    "import geopandas as gpd\n",
    "import math\n",
    "import matplotlib.pyplot as plt\n",
    "import time\n",
    "\n",
    "from lib.gis.bounds import BoundsIterator, SYDNEY_BOUNDS\n",
    "from lib.gis.gis_reader import GisReader, GisProjection, GisReaderError\n",
    "from lib.gis.schema import ADDR_GIS_SCHEMA, LOT_GIS_SCHEMA\n",
    "\n",
    "res, concurrent, stop_n, print_n = (0.02, 0.005), 12, 1600, 100\n",
    "\n",
    "async def read_pages(reader, bounds, proj):\n",
    "    fig, ax = plt.subplots()\n",
    "    count, items, start_time = 0, 0, time.time()\n",
    "    \n",
    "    async for page in reader.get_pages(bounds, proj):\n",
    "        page.plot(ax=ax, column='Shape__Area')\n",
    "        items, count = items + len(page), count + 1\n",
    "        if not count % print_n:\n",
    "            t = int(time.time() - start_time)\n",
    "            print(f'#{count}: {items} items @ {t // 60}m {t % 60}s')\n",
    "        if count >= stop_n:\n",
    "            break\n",
    "            \n",
    "    end_time = time.time()\n",
    "    print(f\"GIS loading took: {end_time - start_time} seconds\")\n",
    "    plt.show()\n",
    "    display(list(page.columns))\n",
    "    display(page.head())\n",
    "\n",
    "crs = 4326\n",
    "bounds = BoundsIterator(SYDNEY_BOUNDS, resolution=res, epsg_crs=crs)\n",
    "addr_proj = GisProjection(\n",
    "    schema=ADDR_GIS_SCHEMA,\n",
    "    fields=['id', 'geo', ('data', 2), ('meta', 2), ('assoc', 2)],\n",
    "    epsg_crs=crs,\n",
    ")\n",
    "lots_proj = GisProjection(schema=LOT_GIS_SCHEMA, fields='*', epsg_crs=crs)\n",
    "\n",
    "try:\n",
    "    async with ClientSession() as session:\n",
    "        gis_reader = GisReader.create(\n",
    "            session, \n",
    "            max_concurrent=concurrent,\n",
    "            where_clause=[\n",
    "                'Shape__Area < 50000000',\n",
    "                'Shape__Length < 100000',\n",
    "            ],\n",
    "        )\n",
    "        await read_pages(gis_reader, bounds, addr_proj)\n",
    "        # await read_pages(gis_reader, bounds, lots_proj)\n",
    "except GisReaderError as e:\n",
    "    print(e)"
   ]
  },
  {
   "cell_type": "code",
   "execution_count": null,
   "id": "ef169079-0abe-487f-813c-3512a5ea84b8",
   "metadata": {},
   "outputs": [],
   "source": []
  },
  {
   "cell_type": "code",
   "execution_count": null,
   "id": "2d71b2e5-17bf-41a2-a1f6-207ff49bdd78",
   "metadata": {},
   "outputs": [],
   "source": []
  },
  {
   "cell_type": "code",
   "execution_count": null,
   "id": "a14d5ef2-d14a-4db4-8f0f-f44297e057b0",
   "metadata": {},
   "outputs": [],
   "source": []
  }
 ],
 "metadata": {
  "kernelspec": {
   "display_name": "Python 3 (ipykernel)",
   "language": "python",
   "name": "python3"
  },
  "language_info": {
   "codemirror_mode": {
    "name": "ipython",
    "version": 3
   },
   "file_extension": ".py",
   "mimetype": "text/x-python",
   "name": "python",
   "nbconvert_exporter": "python",
   "pygments_lexer": "ipython3",
   "version": "3.11.4"
  }
 },
 "nbformat": 4,
 "nbformat_minor": 5
}
