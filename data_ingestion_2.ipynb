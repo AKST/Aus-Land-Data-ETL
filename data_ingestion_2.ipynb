{
 "cells": [
  {
   "cell_type": "markdown",
   "id": "411b2f55-c894-41d2-88de-2d62be52f7a3",
   "metadata": {},
   "source": [
    "# Ingestion Experimentation notebook\n",
    "\n",
    "This notebook largely exists to experiment with different config methods"
   ]
  },
  {
   "cell_type": "markdown",
   "id": "b70d4c59-4377-41e7-8143-6d1f46817480",
   "metadata": {},
   "source": [
    "## Configuration\n",
    "\n",
    "These are some fields to configure if you wish to configure how the data is injected."
   ]
  },
  {
   "cell_type": "code",
   "execution_count": 1,
   "id": "7f5c21a9-9440-40ac-a2c7-b20f31444ba4",
   "metadata": {},
   "outputs": [
    {
     "ename": "Exception",
     "evalue": "",
     "output_type": "error",
     "traceback": [
      "\u001b[0;31m---------------------------------------------------------------------------\u001b[0m",
      "\u001b[0;31mException\u001b[0m                                 Traceback (most recent call last)",
      "Cell \u001b[0;32mIn[1], line 16\u001b[0m\n\u001b[1;32m     14\u001b[0m docker_image_conf \u001b[38;5;241m=\u001b[39m INSTANCE_2_IMAGE_CONF\n\u001b[1;32m     15\u001b[0m docker_container_conf \u001b[38;5;241m=\u001b[39m INSTANCE_2_CONTAINER_CONF\n\u001b[0;32m---> 16\u001b[0m \u001b[38;5;28;01mraise\u001b[39;00m \u001b[38;5;167;01mException\u001b[39;00m()\n",
      "\u001b[0;31mException\u001b[0m: "
     ]
    }
   ],
   "source": [
    "from lib.service.docker.defaults import INSTANCE_2_IMAGE_CONF, INSTANCE_2_CONTAINER_CONF\n",
    "from lib.service.database.defaults import DB_INSTANCE_2_CONFIG\n",
    "\n",
    "# If you mark this as true, the table `nsw_valuer_general.raw_entries`\n",
    "# will be dropped. If you have space limitations and no desire to debug\n",
    "# the data than dropping this makes sense. If you wish to debug some values\n",
    "# then keeping this around may make some sense.\n",
    "GLOBAL_FLAGS = {\n",
    "    'drop_raw_nsw_valuer_general_entries': True,\n",
    "    'reinitialise_container': True,\n",
    "}\n",
    "\n",
    "db_service_config = DB_INSTANCE_2_CONFIG\n",
    "docker_image_conf = INSTANCE_2_IMAGE_CONF\n",
    "docker_container_conf = INSTANCE_2_CONTAINER_CONF"
   ]
  },
  {
   "cell_type": "markdown",
   "id": "a805780c-5d26-4c20-8440-8e2e29794cf9",
   "metadata": {},
   "source": [
    "## Download Static Files"
   ]
  },
  {
   "cell_type": "code",
   "execution_count": null,
   "id": "320cd7fe-f03d-4230-9e0f-a2ef302a91b2",
   "metadata": {},
   "outputs": [],
   "source": [
    "import logging\n",
    "from lib.service.io import IoService\n",
    "from lib.tasks.fetch_static_files import initialise, get_session\n",
    "\n",
    "logging.basicConfig(level=logging.INFO, format='%(asctime)s - %(levelname)s - %(message)s')\n",
    "\n",
    "io_service = IoService.create(None)\n",
    "async with get_session(io_service) as session:\n",
    "    environment = await initialise(io_service, session)\n",
    "\n",
    "land_value_dis = environment.land_value\n",
    "w_sale_price = environment.sale_price_weekly\n",
    "a_sale_price = environment.sale_price_annual\n",
    "gnaf_dis = environment.gnaf"
   ]
  },
  {
   "cell_type": "markdown",
   "id": "498c9507-54a9-4a4f-9de6-934f308b1f80",
   "metadata": {},
   "source": [
    "## Create Docker Container and Database"
   ]
  },
  {
   "cell_type": "code",
   "execution_count": null,
   "id": "4f709233-e243-468b-971e-df23bfcc0113",
   "metadata": {
    "scrolled": true
   },
   "outputs": [],
   "source": [
    "from lib.pipeline.gnaf.init_schema import init_target_schema\n",
    "from lib.service.docker import DockerService\n",
    "from lib.service.database import DatabaseService\n",
    "\n",
    "docker_service = DockerService.create()\n",
    "\n",
    "if GLOBAL_FLAGS['reinitialise_container']:\n",
    "    image = docker_service.create_image(docker_image_conf)\n",
    "    image.prepare()\n",
    "\n",
    "    container = docker_service.create_container(image, docker_container_conf)\n",
    "    container.clean()\n",
    "    container.prepare(db_service_config)\n",
    "    container.start()\n",
    "else:\n",
    "    print('skipping container initialisation')\n",
    "\n",
    "db_service = DatabaseService.create(db_service_config, 32)\n",
    "await db_service.wait_till_running()\n",
    "await db_service.open()\n",
    "\n",
    "if GLOBAL_FLAGS['reinitialise_container']:\n",
    "    await init_target_schema(gnaf_dis.publication, io_service, db_service)\n",
    "else:\n",
    "    print('skipping DB initialisation')\n",
    "    raise Exception()"
   ]
  },
  {
   "cell_type": "markdown",
   "id": "98baeefa-841d-4347-ae26-66313e1d3ec0",
   "metadata": {},
   "source": [
    "## Init DB Schema"
   ]
  },
  {
   "cell_type": "code",
   "execution_count": 2,
   "id": "9588dc22-d089-47cd-93cc-411063d50cc1",
   "metadata": {},
   "outputs": [
    {
     "ename": "TypeError",
     "evalue": "UpdateSchemaConfig.__init__() missing 2 required positional arguments: 'packages' and 'range'",
     "output_type": "error",
     "traceback": [
      "\u001b[0;31m---------------------------------------------------------------------------\u001b[0m",
      "\u001b[0;31mTypeError\u001b[0m                                 Traceback (most recent call last)",
      "Cell \u001b[0;32mIn[2], line 4\u001b[0m\n\u001b[1;32m      1\u001b[0m \u001b[38;5;28;01mfrom\u001b[39;00m \u001b[38;5;21;01mlib\u001b[39;00m\u001b[38;5;21;01m.\u001b[39;00m\u001b[38;5;21;01mtasks\u001b[39;00m\u001b[38;5;21;01m.\u001b[39;00m\u001b[38;5;21;01mupdate_schema\u001b[39;00m \u001b[38;5;28;01mimport\u001b[39;00m update_schema, UpdateSchemaConfig\n\u001b[1;32m      3\u001b[0m \u001b[38;5;28;01mawait\u001b[39;00m update_schema(\n\u001b[0;32m----> 4\u001b[0m     \u001b[43mUpdateSchemaConfig\u001b[49m\u001b[43m(\u001b[49m\u001b[43mapply\u001b[49m\u001b[38;5;241;43m=\u001b[39;49m\u001b[38;5;28;43;01mTrue\u001b[39;49;00m\u001b[43m)\u001b[49m,\n\u001b[1;32m      5\u001b[0m     db_service,\n\u001b[1;32m      6\u001b[0m     io_service,\n\u001b[1;32m      7\u001b[0m )\n",
      "\u001b[0;31mTypeError\u001b[0m: UpdateSchemaConfig.__init__() missing 2 required positional arguments: 'packages' and 'range'"
     ]
    }
   ],
   "source": [
    "from lib.tasks.update_schema import update_schema, UpdateSchemaConfig\n",
    "from lib.tooling.schema.config import ns_dependency_order\n",
    "\n",
    "await update_schema(\n",
    "    UpdateSchemaConfig(\n",
    "        packages=ns_dependency_order,\n",
    "        range=None,\n",
    "        apply=True,\n",
    "    ),\n",
    "    db_service,\n",
    "    io_service,\n",
    ")"
   ]
  },
  {
   "cell_type": "markdown",
   "id": "f54bee42-b284-4425-9b89-12e8aae2d02a",
   "metadata": {},
   "source": [
    "## Ingest ABS Data"
   ]
  },
  {
   "cell_type": "code",
   "execution_count": null,
   "id": "76e9bba2-99c7-4db7-912f-4f1d817c3e8a",
   "metadata": {},
   "outputs": [],
   "source": [
    "from lib.tasks.ingest_abs import ingest_all\n",
    "from lib.pipeline.abs.defaults import ABS_MAIN_STRUCTURES, NON_ABS_MAIN_STRUCTURES\n",
    "from lib.pipeline.abs.config import IngestionConfig, WorkerConfig, WorkerLogConfig\n",
    "\n",
    "await ingest_all(\n",
    "    IngestionConfig(\n",
    "        ingest_sources=[ABS_MAIN_STRUCTURES, NON_ABS_MAIN_STRUCTURES],\n",
    "        worker_count=4,\n",
    "        worker_config=WorkerConfig(\n",
    "            db_config=db_service_config,\n",
    "            db_connections=2,\n",
    "            log_config=WorkerLogConfig(\n",
    "                level=logging.INFO,\n",
    "                format='%(asctime)s - %(levelname)s - %(message)s',\n",
    "                datefmt=None,\n",
    "            ),\n",
    "        ),\n",
    "    ),\n",
    "    db_service,\n",
    "    io_service,\n",
    ")"
   ]
  },
  {
   "cell_type": "markdown",
   "id": "f410a241-d4ef-46d1-818f-4bf02d53f27e",
   "metadata": {},
   "source": [
    "## Ingest NSW Valuer General Land Values"
   ]
  },
  {
   "cell_type": "code",
   "execution_count": null,
   "id": "c9231a7c-ed31-4016-8e30-d052ad83294f",
   "metadata": {},
   "outputs": [],
   "source": [
    "from lib.service.clock import ClockService\n",
    "from lib.pipeline.nsw_vg.property_sales.ingestion import NSW_VG_PS_INGESTION_CONFIG\n",
    "from lib.tasks.nsw_vg.ingest import ingest_nswvg\n",
    "from lib.tasks.nsw_vg.ingest import NswVgIngestionConfig, NswVgIngestionDedupConfig, NswVgLandValueIngestionConfig\n",
    "from lib.tasks.nsw_vg.ingest_property_sales import PropertySaleIngestionConfig, ChildConfig, ParentConfig\n",
    "\n",
    "await ingest_nswvg(\n",
    "    environment,\n",
    "    ClockService(),\n",
    "    db_service,\n",
    "    io_service,\n",
    "    NswVgIngestionConfig(\n",
    "        load_raw_land_values=NswVgLandValueIngestionConfig(\n",
    "            truncate_raw_earlier=False,\n",
    "        ),\n",
    "        load_raw_property_sales=PropertySaleIngestionConfig(\n",
    "            worker_count=6,\n",
    "            worker_config=ChildConfig(\n",
    "                db_config=db_service_config,\n",
    "                db_pool_size=4,\n",
    "                db_batch_size=1000,\n",
    "                file_limit=None,\n",
    "                ingestion_config=NSW_VG_PS_INGESTION_CONFIG,\n",
    "                parser_chunk_size=8 * 2 ** 10,\n",
    "                log_config=None,\n",
    "            ),\n",
    "            parent_config=ParentConfig(\n",
    "                target_root_dir='./_out_zip',\n",
    "                publish_min=None,\n",
    "                publish_max=None,\n",
    "                download_min=None,\n",
    "                download_max=None,\n",
    "            ),\n",
    "        ),\n",
    "        deduplicate=NswVgIngestionDedupConfig(\n",
    "            run_from=1,\n",
    "            run_till=6,\n",
    "        ),\n",
    "        load_parcels=False,\n",
    "    ),\n",
    ")"
   ]
  },
  {
   "cell_type": "markdown",
   "id": "6a2577e9-280c-4537-876e-34da3c308d98",
   "metadata": {},
   "source": [
    "## Ingest Gnaf"
   ]
  },
  {
   "cell_type": "code",
   "execution_count": null,
   "id": "37cc6440-562d-4468-b5d9-d3d53c925ae6",
   "metadata": {
    "scrolled": true
   },
   "outputs": [],
   "source": [
    "from lib.tasks.ingest_gnaf import ingest_gnaf\n",
    "await ingest_gnaf(gnaf_dis.publication, db_service)"
   ]
  },
  {
   "cell_type": "markdown",
   "id": "566e217a-5c89-4379-a422-8de20ea2d500",
   "metadata": {},
   "source": [
    "## Done"
   ]
  },
  {
   "cell_type": "code",
   "execution_count": null,
   "id": "23e887af-b30e-40da-ae8b-ae0c6d779816",
   "metadata": {
    "editable": true,
    "slideshow": {
     "slide_type": ""
    },
    "tags": []
   },
   "outputs": [],
   "source": [
    "async with (\n",
    "    await db_service.async_connect() as c,\n",
    "    c.cursor() as cursor\n",
    "):\n",
    "    for schema in ['nsw_valuer_general', 'gnaf', 'abs_main_structures', 'non_abs_main_structures']:\n",
    "        # Get the list of all tables\n",
    "        cursor.execute(f\"\"\"\n",
    "            SELECT table_name\n",
    "            FROM information_schema.tables\n",
    "            WHERE table_schema = '{schema}'\n",
    "        \"\"\")\n",
    "        tables = cursor.fetchall()\n",
    "    \n",
    "        # Get row count for each table\n",
    "        for table in tables:\n",
    "            await cursor.execute(f'SELECT COUNT(*) FROM {schema}.{table[0]}')\n",
    "            count = cursor.fetchone()[0]\n",
    "            print(f\"Table {schema}.{table[0]} has {count} rows\")"
   ]
  },
  {
   "cell_type": "code",
   "execution_count": null,
   "id": "982acfc4-7182-4a73-aa4b-fc9aae3db7d7",
   "metadata": {},
   "outputs": [],
   "source": []
  }
 ],
 "metadata": {
  "kernelspec": {
   "display_name": "Python 3 (ipykernel)",
   "language": "python",
   "name": "python3"
  },
  "language_info": {
   "codemirror_mode": {
    "name": "ipython",
    "version": 3
   },
   "file_extension": ".py",
   "mimetype": "text/x-python",
   "name": "python",
   "nbconvert_exporter": "python",
   "pygments_lexer": "ipython3",
   "version": "3.12.5"
  }
 },
 "nbformat": 4,
 "nbformat_minor": 5
}
