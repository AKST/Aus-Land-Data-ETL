{
 "cells": [
  {
   "cell_type": "markdown",
   "id": "b70d4c59-4377-41e7-8143-6d1f46817480",
   "metadata": {},
   "source": [
    "## Configuration\n",
    "\n",
    "These are some fields to configure if you wish to configure how the data is injected."
   ]
  },
  {
   "cell_type": "code",
   "execution_count": 1,
   "id": "7f5c21a9-9440-40ac-a2c7-b20f31444ba4",
   "metadata": {},
   "outputs": [
    {
     "ename": "Exception",
     "evalue": "",
     "output_type": "error",
     "traceback": [
      "\u001b[0;31m---------------------------------------------------------------------------\u001b[0m",
      "\u001b[0;31mException\u001b[0m                                 Traceback (most recent call last)",
      "Cell \u001b[0;32mIn[1], line 16\u001b[0m\n\u001b[1;32m     14\u001b[0m docker_image_conf \u001b[38;5;241m=\u001b[39m INSTANCE_2_IMAGE_CONF\n\u001b[1;32m     15\u001b[0m docker_container_conf \u001b[38;5;241m=\u001b[39m INSTANCE_2_CONTAINER_CONF\n\u001b[0;32m---> 16\u001b[0m \u001b[38;5;28;01mraise\u001b[39;00m \u001b[38;5;167;01mException\u001b[39;00m()\n",
      "\u001b[0;31mException\u001b[0m: "
     ]
    }
   ],
   "source": [
    "from lib.service.docker.defaults import INSTANCE_2_IMAGE_CONF, INSTANCE_2_CONTAINER_CONF\n",
    "from lib.service.database.defaults import DB_INSTANCE_2_CONFIG\n",
    "\n",
    "# If you mark this as true, the table `nsw_valuer_general.raw_entries`\n",
    "# will be dropped. If you have space limitations and no desire to debug\n",
    "# the data than dropping this makes sense. If you wish to debug some values\n",
    "# then keeping this around may make some sense.\n",
    "GLOBAL_FLAGS = {\n",
    "    'drop_raw_nsw_valuer_general_entries': True,\n",
    "    'reinitialise_container': True,\n",
    "}\n",
    "\n",
    "db_service_config = DB_INSTANCE_2_CONFIG\n",
    "docker_image_conf = INSTANCE_2_IMAGE_CONF\n",
    "docker_container_conf = INSTANCE_2_CONTAINER_CONF"
   ]
  },
  {
   "cell_type": "markdown",
   "id": "a805780c-5d26-4c20-8440-8e2e29794cf9",
   "metadata": {},
   "source": [
    "## Run Ingestion"
   ]
  },
  {
   "cell_type": "code",
   "execution_count": null,
   "id": "320cd7fe-f03d-4230-9e0f-a2ef302a91b2",
   "metadata": {},
   "outputs": [],
   "source": [
    "from lib.tasks.ingest import ingest_all, IngestConfig\n",
    "\n",
    "config = IngestConfig(\n",
    "    io_file_limit=None,\n",
    "    db_config=db_service_config,\n",
    "    docker_image_config=docker_image_conf,\n",
    "    docker_container_config=docker_container_conf\n",
    ")\n",
    "\n",
    "await ingest_all(config)"
   ]
  }
 ],
 "metadata": {
  "kernelspec": {
   "display_name": "Python 3 (ipykernel)",
   "language": "python",
   "name": "python3"
  },
  "language_info": {
   "codemirror_mode": {
    "name": "ipython",
    "version": 3
   },
   "file_extension": ".py",
   "mimetype": "text/x-python",
   "name": "python",
   "nbconvert_exporter": "python",
   "pygments_lexer": "ipython3",
   "version": "3.12.5"
  }
 },
 "nbformat": 4,
 "nbformat_minor": 5
}
