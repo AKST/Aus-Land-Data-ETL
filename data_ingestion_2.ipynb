{
 "cells": [
  {
   "cell_type": "markdown",
   "id": "411b2f55-c894-41d2-88de-2d62be52f7a3",
   "metadata": {},
   "source": [
    "# Ingestion Experimentation notebook\n",
    "\n",
    "This notebook largely exists to experiment with different config methods"
   ]
  },
  {
   "cell_type": "markdown",
   "id": "b70d4c59-4377-41e7-8143-6d1f46817480",
   "metadata": {},
   "source": [
    "## Configuration\n",
    "\n",
    "These are some fields to configure if you wish to configure how the data is injected."
   ]
  },
  {
   "cell_type": "code",
   "execution_count": 1,
   "id": "7f5c21a9-9440-40ac-a2c7-b20f31444ba4",
   "metadata": {},
   "outputs": [],
   "source": [
    "from lib import notebook_constants as nc\n",
    "from lib.service.database.defaults import instance_2_config\n",
    "\n",
    "# If you mark this as true, the table `nsw_valuer_general.raw_entries`\n",
    "# will be dropped. If you have space limitations and no desire to debug\n",
    "# the data than dropping this makes sense. If you wish to debug some values\n",
    "# then keeping this around may make some sense.\n",
    "GLOBAL_FLAGS = {\n",
    "    'drop_raw_nsw_valuer_general_entries': True,\n",
    "    'reinitialise_container': True,\n",
    "}\n",
    "\n",
    "db_service_config = instance_2_config\n",
    "docker_container_name = 'gnaf_db_test'\n",
    "docker_image_tag = \"20240908_19_53\""
   ]
  },
  {
   "cell_type": "markdown",
   "id": "a805780c-5d26-4c20-8440-8e2e29794cf9",
   "metadata": {},
   "source": [
    "## Download Static Files"
   ]
  },
  {
   "cell_type": "code",
   "execution_count": 2,
   "id": "320cd7fe-f03d-4230-9e0f-a2ef302a91b2",
   "metadata": {},
   "outputs": [
    {
     "name": "stderr",
     "output_type": "stream",
     "text": [
      "2024-10-02 19:49:18,642 - INFO - Checking Target \"abs_main_structures.zip\"\n",
      "2024-10-02 19:49:18,642 - INFO - Checking Target \"non_abs_shape.zip\"\n",
      "2024-10-02 19:49:18,643 - INFO - Checking Target \"g-naf_aug24_allstates_gda2020_psv_1016.zip\"\n",
      "2024-10-02 19:49:18,643 - INFO - Checking Target \"nswvg_lv_01_Oct_2024.zip\"\n",
      "2024-10-02 19:49:18,644 - INFO - Checking Target \"nswvg_wps_01_Jan_2024.zip\"\n",
      "2024-10-02 19:49:18,644 - INFO - Checking Target \"nswvg_wps_08_Jan_2024.zip\"\n",
      "2024-10-02 19:49:18,645 - INFO - Checking Target \"nswvg_wps_15_Jan_2024.zip\"\n",
      "2024-10-02 19:49:18,645 - INFO - Checking Target \"nswvg_wps_22_Jan_2024.zip\"\n",
      "2024-10-02 19:49:18,646 - INFO - Checking Target \"nswvg_wps_29_Jan_2024.zip\"\n",
      "2024-10-02 19:49:18,646 - INFO - Checking Target \"nswvg_wps_05_Feb_2024.zip\"\n",
      "2024-10-02 19:49:18,646 - INFO - Checking Target \"nswvg_wps_12_Feb_2024.zip\"\n",
      "2024-10-02 19:49:18,647 - INFO - Checking Target \"nswvg_wps_19_Feb_2024.zip\"\n",
      "2024-10-02 19:49:18,647 - INFO - Checking Target \"nswvg_wps_26_Feb_2024.zip\"\n",
      "2024-10-02 19:49:18,647 - INFO - Checking Target \"nswvg_wps_04_Mar_2024.zip\"\n",
      "2024-10-02 19:49:18,648 - INFO - Checking Target \"nswvg_wps_11_Mar_2024.zip\"\n",
      "2024-10-02 19:49:18,648 - INFO - Checking Target \"nswvg_wps_18_Mar_2024.zip\"\n",
      "2024-10-02 19:49:18,648 - INFO - Checking Target \"nswvg_wps_25_Mar_2024.zip\"\n",
      "2024-10-02 19:49:18,649 - INFO - Checking Target \"nswvg_wps_01_Apr_2024.zip\"\n",
      "2024-10-02 19:49:18,649 - INFO - Checking Target \"nswvg_wps_08_Apr_2024.zip\"\n",
      "2024-10-02 19:49:18,649 - INFO - Checking Target \"nswvg_wps_15_Apr_2024.zip\"\n",
      "2024-10-02 19:49:18,649 - INFO - Checking Target \"nswvg_wps_22_Apr_2024.zip\"\n",
      "2024-10-02 19:49:18,650 - INFO - Checking Target \"nswvg_wps_29_Apr_2024.zip\"\n",
      "2024-10-02 19:49:18,650 - INFO - Checking Target \"nswvg_wps_06_May_2024.zip\"\n",
      "2024-10-02 19:49:18,651 - INFO - Checking Target \"nswvg_wps_13_May_2024.zip\"\n",
      "2024-10-02 19:49:18,651 - INFO - Checking Target \"nswvg_wps_20_May_2024.zip\"\n",
      "2024-10-02 19:49:18,651 - INFO - Checking Target \"nswvg_wps_27_May_2024.zip\"\n",
      "2024-10-02 19:49:18,651 - INFO - Checking Target \"nswvg_wps_03_Jun_2024.zip\"\n",
      "2024-10-02 19:49:18,652 - INFO - Checking Target \"nswvg_wps_10_Jun_2024.zip\"\n",
      "2024-10-02 19:49:18,652 - INFO - Checking Target \"nswvg_wps_17_Jun_2024.zip\"\n",
      "2024-10-02 19:49:18,652 - INFO - Checking Target \"nswvg_wps_24_Jun_2024.zip\"\n",
      "2024-10-02 19:49:18,653 - INFO - Checking Target \"nswvg_wps_01_Jul_2024.zip\"\n",
      "2024-10-02 19:49:18,653 - INFO - Checking Target \"nswvg_wps_08_Jul_2024.zip\"\n",
      "2024-10-02 19:49:18,653 - INFO - Checking Target \"nswvg_wps_15_Jul_2024.zip\"\n",
      "2024-10-02 19:49:18,653 - INFO - Checking Target \"nswvg_wps_22_Jul_2024.zip\"\n",
      "2024-10-02 19:49:18,654 - INFO - Checking Target \"nswvg_wps_29_Jul_2024.zip\"\n",
      "2024-10-02 19:49:18,654 - INFO - Checking Target \"nswvg_wps_05_Aug_2024.zip\"\n",
      "2024-10-02 19:49:18,654 - INFO - Checking Target \"nswvg_wps_12_Aug_2024.zip\"\n",
      "2024-10-02 19:49:18,654 - INFO - Checking Target \"nswvg_wps_19_Aug_2024.zip\"\n",
      "2024-10-02 19:49:18,655 - INFO - Checking Target \"nswvg_wps_26_Aug_2024.zip\"\n",
      "2024-10-02 19:49:18,655 - INFO - Checking Target \"nswvg_wps_02_Sep_2024.zip\"\n",
      "2024-10-02 19:49:18,655 - INFO - Checking Target \"nswvg_wps_09_Sep_2024.zip\"\n",
      "2024-10-02 19:49:18,656 - INFO - Checking Target \"nswvg_wps_16_Sep_2024.zip\"\n",
      "2024-10-02 19:49:18,656 - INFO - Checking Target \"nswvg_wps_23_Sep_2024.zip\"\n",
      "2024-10-02 19:49:18,656 - INFO - Checking Target \"nswvg_wps_30_Sep_2024.zip\"\n",
      "2024-10-02 19:49:18,656 - INFO - Checking Target \"nswvg_aps_1990.zip\"\n",
      "2024-10-02 19:49:18,657 - INFO - Checking Target \"nswvg_aps_1991.zip\"\n",
      "2024-10-02 19:49:18,657 - INFO - Checking Target \"nswvg_aps_1992.zip\"\n",
      "2024-10-02 19:49:18,657 - INFO - Checking Target \"nswvg_aps_1993.zip\"\n",
      "2024-10-02 19:49:18,658 - INFO - Checking Target \"nswvg_aps_1994.zip\"\n",
      "2024-10-02 19:49:18,658 - INFO - Checking Target \"nswvg_aps_1995.zip\"\n",
      "2024-10-02 19:49:18,658 - INFO - Checking Target \"nswvg_aps_1996.zip\"\n",
      "2024-10-02 19:49:18,658 - INFO - Checking Target \"nswvg_aps_1997.zip\"\n",
      "2024-10-02 19:49:18,659 - INFO - Checking Target \"nswvg_aps_1998.zip\"\n",
      "2024-10-02 19:49:18,659 - INFO - Checking Target \"nswvg_aps_1999.zip\"\n",
      "2024-10-02 19:49:18,659 - INFO - Checking Target \"nswvg_aps_2000.zip\"\n",
      "2024-10-02 19:49:18,660 - INFO - Checking Target \"nswvg_aps_2001.zip\"\n",
      "2024-10-02 19:49:18,660 - INFO - Checking Target \"nswvg_aps_2002.zip\"\n",
      "2024-10-02 19:49:18,660 - INFO - Checking Target \"nswvg_aps_2003.zip\"\n",
      "2024-10-02 19:49:18,661 - INFO - Checking Target \"nswvg_aps_2004.zip\"\n",
      "2024-10-02 19:49:18,661 - INFO - Checking Target \"nswvg_aps_2005.zip\"\n",
      "2024-10-02 19:49:18,662 - INFO - Checking Target \"nswvg_aps_2006.zip\"\n",
      "2024-10-02 19:49:18,662 - INFO - Checking Target \"nswvg_aps_2007.zip\"\n",
      "2024-10-02 19:49:18,662 - INFO - Checking Target \"nswvg_aps_2008.zip\"\n",
      "2024-10-02 19:49:18,662 - INFO - Checking Target \"nswvg_aps_2009.zip\"\n",
      "2024-10-02 19:49:18,663 - INFO - Checking Target \"nswvg_aps_2010.zip\"\n",
      "2024-10-02 19:49:18,663 - INFO - Checking Target \"nswvg_aps_2011.zip\"\n",
      "2024-10-02 19:49:18,664 - INFO - Checking Target \"nswvg_aps_2012.zip\"\n",
      "2024-10-02 19:49:18,664 - INFO - Checking Target \"nswvg_aps_2013.zip\"\n",
      "2024-10-02 19:49:18,664 - INFO - Checking Target \"nswvg_aps_2014.zip\"\n",
      "2024-10-02 19:49:18,664 - INFO - Checking Target \"nswvg_aps_2015.zip\"\n",
      "2024-10-02 19:49:18,665 - INFO - Checking Target \"nswvg_aps_2016.zip\"\n",
      "2024-10-02 19:49:18,665 - INFO - Checking Target \"nswvg_aps_2017.zip\"\n",
      "2024-10-02 19:49:18,665 - INFO - Checking Target \"nswvg_aps_2018.zip\"\n",
      "2024-10-02 19:49:18,666 - INFO - Checking Target \"nswvg_aps_2019.zip\"\n",
      "2024-10-02 19:49:18,666 - INFO - Checking Target \"nswvg_aps_2020.zip\"\n",
      "2024-10-02 19:49:18,666 - INFO - Checking Target \"nswvg_aps_2021.zip\"\n",
      "2024-10-02 19:49:18,666 - INFO - Checking Target \"nswvg_aps_2022.zip\"\n",
      "2024-10-02 19:49:18,667 - INFO - Checking Target \"nswvg_aps_2023.zip\"\n"
     ]
    }
   ],
   "source": [
    "import logging\n",
    "from lib.service.io import IoService\n",
    "from lib.tasks.fetch_static_files import initialise, get_session\n",
    "\n",
    "logging.basicConfig(level=logging.INFO, format='%(asctime)s - %(levelname)s - %(message)s')\n",
    "\n",
    "io_service = IoService.create(None)\n",
    "async with get_session(io_service) as session:\n",
    "    environment = await initialise(io_service, session)\n",
    "\n",
    "land_value_dis = environment.land_value\n",
    "w_sale_price = environment.sale_price_weekly\n",
    "a_sale_price = environment.sale_price_annual\n",
    "gnaf_dis = environment.gnaf"
   ]
  },
  {
   "cell_type": "markdown",
   "id": "498c9507-54a9-4a4f-9de6-934f308b1f80",
   "metadata": {},
   "source": [
    "## Create Docker Container and Database"
   ]
  },
  {
   "cell_type": "code",
   "execution_count": 3,
   "id": "4f709233-e243-468b-971e-df23bfcc0113",
   "metadata": {},
   "outputs": [
    {
     "name": "stderr",
     "output_type": "stream",
     "text": [
      "2024-10-02 19:49:24,687 - INFO - running ./_out_zip/g-naf_aug24_allstates_gda2020_psv_1016/G-NAF/Extras/GNAF_TableCreation_Scripts/create_tables_ansi.sql\n",
      "2024-10-02 19:49:24,718 - INFO - running ./_out_zip/g-naf_aug24_allstates_gda2020_psv_1016/G-NAF/Extras/GNAF_TableCreation_Scripts/add_fk_constraints.sql\n",
      "2024-10-02 19:49:24,766 - INFO - running sql/move_gnaf_to_schema.sql\n"
     ]
    }
   ],
   "source": [
    "from lib.gnaf_db import GnafContainer, GnafImage\n",
    "from lib.gnaf.init_schema import init_target_schema\n",
    "from lib.service.database import DatabaseService\n",
    "\n",
    "if GLOBAL_FLAGS['reinitialise_container']:\n",
    "    image = GnafImage.create(tag=docker_image_tag)\n",
    "    image.prepare()\n",
    "    \n",
    "    container = GnafContainer.create(container_name=docker_container_name, image=image)\n",
    "    container.clean()\n",
    "    container.prepare(db_service_config)\n",
    "    container.start()\n",
    "else:\n",
    "    print('skipping container initialisation')\n",
    "\n",
    "db_service = DatabaseService(db_service_config)\n",
    "await db_service.wait_till_running()\n",
    "\n",
    "if GLOBAL_FLAGS['reinitialise_container']:\n",
    "    await init_target_schema(gnaf_dis.publication, io_service, db_service)\n",
    "else:\n",
    "    print('skipping DB initialisation')\n",
    "    raise Exception()"
   ]
  },
  {
   "cell_type": "markdown",
   "id": "98baeefa-841d-4347-ae26-66313e1d3ec0",
   "metadata": {},
   "source": [
    "## Init DB Schema"
   ]
  },
  {
   "cell_type": "code",
   "execution_count": 4,
   "id": "9588dc22-d089-47cd-93cc-411063d50cc1",
   "metadata": {},
   "outputs": [
    {
     "name": "stderr",
     "output_type": "stream",
     "text": [
      "2024-10-02 19:49:24,785 - INFO - initalising nsw_vg db schema\n",
      "2024-10-02 19:49:24,795 - INFO - running sql/meta/schema/001_APPLY_init.sql\n",
      "2024-10-02 19:49:24,803 - INFO - running sql/abs/schema/001_APPLY_init.sql\n",
      "2024-10-02 19:49:24,804 - INFO - running sql/nsw_lrs/schema/001_APPLY_init.sql\n",
      "2024-10-02 19:49:24,807 - INFO - running sql/nsw_environment/schema/001_APPLY_init.sql\n",
      "2024-10-02 19:49:24,812 - INFO - running sql/nsw_property/schema/001_APPLY_init.sql\n",
      "2024-10-02 19:49:24,822 - INFO - running sql/nsw_vg/schema/001_APPLY_init.sql\n",
      "2024-10-02 19:49:24,824 - INFO - running sql/nsw_vg/schema/002_APPLY_create_raw.sql\n",
      "2024-10-02 19:49:24,834 - INFO - running sql/nsw_vg/schema/003_APPLY_shared_tables.sql\n",
      "2024-10-02 19:49:24,846 - INFO - running sql/nsw_vg/schema/004_APPLY_land_value_tables.sql\n"
     ]
    }
   ],
   "source": [
    "from lib.tasks.update_schema import update_schema, UpdateSchemaConfig\n",
    "\n",
    "await update_schema(\n",
    "    UpdateSchemaConfig(apply=True),\n",
    "    db_service,\n",
    "    io_service,\n",
    ")"
   ]
  },
  {
   "cell_type": "markdown",
   "id": "f54bee42-b284-4425-9b89-12e8aae2d02a",
   "metadata": {},
   "source": [
    "## Ingest ABS Data"
   ]
  },
  {
   "cell_type": "code",
   "execution_count": 5,
   "id": "76e9bba2-99c7-4db7-912f-4f1d817c3e8a",
   "metadata": {},
   "outputs": [
    {
     "name": "stderr",
     "output_type": "stream",
     "text": [
      "2024-10-02 19:49:28,271 - INFO - Populated abs_main_structures.state with 10/10 rows.\n",
      "2024-10-02 19:49:31,105 - INFO - Populated abs_main_structures.gccsa with 35/35 rows.\n",
      "2024-10-02 19:49:34,893 - INFO - Populated abs_main_structures.sa4 with 108/108 rows.\n",
      "2024-10-02 19:49:39,466 - INFO - Populated abs_main_structures.sa3 with 359/359 rows.\n",
      "2024-10-02 19:49:45,869 - INFO - Populated abs_main_structures.sa2 with 2473/2473 rows.\n",
      "2024-10-02 19:50:01,536 - INFO - Populated abs_main_structures.sa1 with 61845/61845 rows.\n",
      "2024-10-02 19:50:47,701 - INFO - Populated abs_main_structures.meshblock with 368286/368286 rows.\n",
      "2024-10-02 19:51:00,971 - INFO - Populated non_abs_main_structures.localities with 15353/15353 rows.\n",
      "2024-10-02 19:51:05,245 - INFO - Populated non_abs_main_structures.state_electoral_division_2021 with 452/452 rows.\n",
      "2024-10-02 19:51:09,633 - INFO - Populated non_abs_main_structures.state_electoral_division_2022 with 452/452 rows.\n",
      "2024-10-02 19:51:14,090 - INFO - Populated non_abs_main_structures.state_electoral_division_2024 with 452/452 rows.\n",
      "2024-10-02 19:51:17,709 - INFO - Populated non_abs_main_structures.federal_electoral_division_2021 with 170/170 rows.\n",
      "2024-10-02 19:51:22,635 - INFO - Populated non_abs_main_structures.lga_2021 with 566/566 rows.\n",
      "2024-10-02 19:51:27,543 - INFO - Populated non_abs_main_structures.lga_2022 with 566/566 rows.\n",
      "2024-10-02 19:51:32,425 - INFO - Populated non_abs_main_structures.lga_2023 with 566/566 rows.\n",
      "2024-10-02 19:51:37,366 - INFO - Populated non_abs_main_structures.lga_2024 with 566/566 rows.\n",
      "2024-10-02 19:51:44,511 - INFO - Populated non_abs_main_structures.post_code with 2644/2644 rows.\n",
      "2024-10-02 19:51:52,692 - INFO - Populated non_abs_main_structures.dzn with 9329/9329 rows.\n"
     ]
    }
   ],
   "source": [
    "from lib.tasks.ingest_abs import ingest_all\n",
    "\n",
    "await ingest_all(db_service)"
   ]
  },
  {
   "cell_type": "markdown",
   "id": "f410a241-d4ef-46d1-818f-4bf02d53f27e",
   "metadata": {},
   "source": [
    "## Ingest NSW Valuer General Land Values"
   ]
  },
  {
   "cell_type": "code",
   "execution_count": 6,
   "id": "c9231a7c-ed31-4016-8e30-d052ad83294f",
   "metadata": {},
   "outputs": [
    {
     "name": "stderr",
     "output_type": "stream",
     "text": [
      "2024-10-02 19:51:52,723 - INFO - Step 1: Ingest raw files\n",
      "/Users/angus/code/jupyter/notebooks/20240907, vg/lib/nsw_vg/land_values/ingest.py:63: DtypeWarning: Columns (5) have mixed types. Specify dtype option on import or set low_memory=False.\n",
      "  df = pd.read_csv(full_file_path, encoding='utf-8')\n",
      "/Users/angus/code/jupyter/notebooks/20240907, vg/lib/nsw_vg/land_values/ingest.py:63: DtypeWarning: Columns (5) have mixed types. Specify dtype option on import or set low_memory=False.\n",
      "  df = pd.read_csv(full_file_path, encoding='utf-8')\n",
      "/Users/angus/code/jupyter/notebooks/20240907, vg/lib/nsw_vg/land_values/ingest.py:63: DtypeWarning: Columns (5) have mixed types. Specify dtype option on import or set low_memory=False.\n",
      "  df = pd.read_csv(full_file_path, encoding='utf-8')\n",
      "/Users/angus/code/jupyter/notebooks/20240907, vg/lib/nsw_vg/land_values/ingest.py:63: DtypeWarning: Columns (5) have mixed types. Specify dtype option on import or set low_memory=False.\n",
      "  df = pd.read_csv(full_file_path, encoding='utf-8')\n",
      "/Users/angus/code/jupyter/notebooks/20240907, vg/lib/nsw_vg/land_values/ingest.py:63: DtypeWarning: Columns (5) have mixed types. Specify dtype option on import or set low_memory=False.\n",
      "  df = pd.read_csv(full_file_path, encoding='utf-8')\n",
      "/Users/angus/code/jupyter/notebooks/20240907, vg/lib/nsw_vg/land_values/ingest.py:63: DtypeWarning: Columns (5) have mixed types. Specify dtype option on import or set low_memory=False.\n",
      "  df = pd.read_csv(full_file_path, encoding='utf-8')\n",
      "/Users/angus/code/jupyter/notebooks/20240907, vg/lib/nsw_vg/land_values/ingest.py:63: DtypeWarning: Columns (5) have mixed types. Specify dtype option on import or set low_memory=False.\n",
      "  df = pd.read_csv(full_file_path, encoding='utf-8')\n",
      "/Users/angus/code/jupyter/notebooks/20240907, vg/lib/nsw_vg/land_values/ingest.py:63: DtypeWarning: Columns (4,5) have mixed types. Specify dtype option on import or set low_memory=False.\n",
      "  df = pd.read_csv(full_file_path, encoding='utf-8')\n",
      "/Users/angus/code/jupyter/notebooks/20240907, vg/lib/nsw_vg/land_values/ingest.py:63: DtypeWarning: Columns (5) have mixed types. Specify dtype option on import or set low_memory=False.\n",
      "  df = pd.read_csv(full_file_path, encoding='utf-8')\n",
      "/Users/angus/code/jupyter/notebooks/20240907, vg/lib/nsw_vg/land_values/ingest.py:63: DtypeWarning: Columns (5) have mixed types. Specify dtype option on import or set low_memory=False.\n",
      "  df = pd.read_csv(full_file_path, encoding='utf-8')\n",
      "/Users/angus/code/jupyter/notebooks/20240907, vg/lib/nsw_vg/land_values/ingest.py:63: DtypeWarning: Columns (5) have mixed types. Specify dtype option on import or set low_memory=False.\n",
      "  df = pd.read_csv(full_file_path, encoding='utf-8')\n",
      "/Users/angus/code/jupyter/notebooks/20240907, vg/lib/nsw_vg/land_values/ingest.py:63: DtypeWarning: Columns (5) have mixed types. Specify dtype option on import or set low_memory=False.\n",
      "  df = pd.read_csv(full_file_path, encoding='utf-8')\n",
      "/Users/angus/code/jupyter/notebooks/20240907, vg/lib/nsw_vg/land_values/ingest.py:63: DtypeWarning: Columns (5) have mixed types. Specify dtype option on import or set low_memory=False.\n",
      "  df = pd.read_csv(full_file_path, encoding='utf-8')\n",
      "/Users/angus/code/jupyter/notebooks/20240907, vg/lib/nsw_vg/land_values/ingest.py:63: DtypeWarning: Columns (5) have mixed types. Specify dtype option on import or set low_memory=False.\n",
      "  df = pd.read_csv(full_file_path, encoding='utf-8')\n",
      "2024-10-02 19:55:22,034 - INFO - Step 2: Create Valuer General Tables\n",
      "2024-10-02 19:57:06,265 - INFO - district 128\n",
      "2024-10-02 19:57:06,276 - INFO - suburb 5074\n",
      "2024-10-02 19:57:06,297 - INFO - street 128458\n",
      "2024-10-02 19:57:06,381 - INFO - property 2703626\n",
      "2024-10-02 19:57:06,444 - INFO - property_description 2703626\n",
      "2024-10-02 19:57:06,749 - INFO - valuations 13518130\n",
      "2024-10-02 19:57:06,750 - INFO - Step 3: Parse Property Descriptions\n",
      "2024-10-02 19:58:24,336 - INFO - property 2703626\n",
      "2024-10-02 19:58:24,409 - INFO - land_parcel_link 4247405\n",
      "2024-10-02 19:58:24,410 - INFO - Step 4: Clean up\n",
      "2024-10-02 19:58:24,411 - INFO - Dropping raw entries table\n"
     ]
    }
   ],
   "source": [
    "from lib.tasks.nsw_vg.ingest_land_values import ingest_land_values, NswVgLandValueIngestionConfig\n",
    "\n",
    "await ingest_land_values(\n",
    "    NswVgLandValueIngestionConfig(\n",
    "        keep_raw=not GLOBAL_FLAGS['drop_raw_nsw_valuer_general_entries'],\n",
    "    ),\n",
    "    db_service,\n",
    "    environment.land_value.latest,\n",
    ")"
   ]
  },
  {
   "cell_type": "markdown",
   "id": "6a2577e9-280c-4537-876e-34da3c308d98",
   "metadata": {},
   "source": [
    "## Ingest Gnaf"
   ]
  },
  {
   "cell_type": "code",
   "execution_count": null,
   "id": "37cc6440-562d-4468-b5d9-d3d53c925ae6",
   "metadata": {},
   "outputs": [
    {
     "name": "stderr",
     "output_type": "stream",
     "text": [
      "2024-10-02 20:13:12,368 - INFO - Populating from Authority_Code_STREET_TYPE_AUT_psv.psv\n",
      "2024-10-02 20:13:12,370 - INFO - Populating from Authority_Code_ADDRESS_CHANGE_TYPE_AUT_psv.psv\n",
      "2024-10-02 20:13:12,374 - INFO - Populating from Authority_Code_GEOCODE_TYPE_AUT_psv.psv\n",
      "2024-10-02 20:13:12,380 - INFO - Populating from Authority_Code_MB_MATCH_CODE_AUT_psv.psv\n",
      "2024-10-02 20:13:12,380 - INFO - Populating from Authority_Code_FLAT_TYPE_AUT_psv.psv\n",
      "2024-10-02 20:13:12,381 - INFO - Populating from Authority_Code_GEOCODED_LEVEL_TYPE_AUT_psv.psv\n",
      "2024-10-02 20:13:12,383 - INFO - Populating from Authority_Code_GEOCODE_RELIABILITY_AUT_psv.psv\n",
      "2024-10-02 20:13:12,385 - INFO - Populating from Authority_Code_LOCALITY_CLASS_AUT_psv.psv\n",
      "2024-10-02 20:13:12,385 - INFO - Populating from Authority_Code_LEVEL_TYPE_AUT_psv.psv\n",
      "2024-10-02 20:13:12,385 - INFO - Populating from Authority_Code_STREET_SUFFIX_AUT_psv.psv\n",
      "2024-10-02 20:13:12,390 - INFO - Populating from Authority_Code_ADDRESS_ALIAS_TYPE_AUT_psv.psv\n",
      "2024-10-02 20:13:12,390 - INFO - Populating from Authority_Code_STREET_CLASS_AUT_psv.psv\n",
      "2024-10-02 20:13:12,390 - INFO - Populating from Authority_Code_PS_JOIN_TYPE_AUT_psv.psv\n",
      "2024-10-02 20:13:12,390 - INFO - Populating from Authority_Code_LOCALITY_ALIAS_TYPE_AUT_psv.psv\n",
      "2024-10-02 20:13:12,393 - INFO - Populating from Authority_Code_ADDRESS_TYPE_AUT_psv.psv\n",
      "2024-10-02 20:13:12,394 - INFO - Populating from Authority_Code_STREET_LOCALITY_ALIAS_TYPE_AUT_psv.psv\n",
      "2024-10-02 20:13:12,421 - INFO - Populating from Authority_Code_PS_JOIN_TYPE_AUT_psv.psv\n",
      "2024-10-02 20:13:12,426 - INFO - Populating from Authority_Code_MB_MATCH_CODE_AUT_psv.psv\n",
      "2024-10-02 20:13:12,426 - INFO - Populating from Authority_Code_STREET_TYPE_AUT_psv.psv\n",
      "2024-10-02 20:13:12,427 - INFO - Populating from Authority_Code_FLAT_TYPE_AUT_psv.psv\n",
      "2024-10-02 20:13:12,431 - INFO - Populating from Authority_Code_ADDRESS_CHANGE_TYPE_AUT_psv.psv\n",
      "2024-10-02 20:13:12,437 - INFO - Populating from Authority_Code_ADDRESS_TYPE_AUT_psv.psv\n",
      "2024-10-02 20:13:12,440 - INFO - Populating from Authority_Code_LOCALITY_ALIAS_TYPE_AUT_psv.psv\n",
      "2024-10-02 20:13:12,441 - INFO - Populating from Authority_Code_GEOCODE_RELIABILITY_AUT_psv.psv\n",
      "2024-10-02 20:13:12,447 - INFO - Populating from Authority_Code_LOCALITY_CLASS_AUT_psv.psv\n",
      "2024-10-02 20:13:12,457 - INFO - Populating from Authority_Code_GEOCODE_TYPE_AUT_psv.psv\n",
      "2024-10-02 20:13:12,458 - INFO - Populating from Authority_Code_GEOCODED_LEVEL_TYPE_AUT_psv.psv\n",
      "2024-10-02 20:13:12,459 - INFO - Populating from Authority_Code_STREET_LOCALITY_ALIAS_TYPE_AUT_psv.psv\n",
      "2024-10-02 20:13:12,469 - INFO - Populating from Authority_Code_ADDRESS_ALIAS_TYPE_AUT_psv.psv\n",
      "2024-10-02 20:13:12,471 - INFO - Populating from Authority_Code_LEVEL_TYPE_AUT_psv.psv\n",
      "2024-10-02 20:13:12,473 - INFO - Populating from Authority_Code_STREET_CLASS_AUT_psv.psv\n",
      "2024-10-02 20:13:12,475 - INFO - Populating from Authority_Code_STREET_SUFFIX_AUT_psv.psv\n",
      "2024-10-02 20:13:12,571 - INFO - Populating from SA_STATE_psv.psv\n",
      "2024-10-02 20:13:12,572 - INFO - Populating from TAS_MB_2021_psv.psv\n",
      "2024-10-02 20:13:12,578 - INFO - Populating from NSW_STATE_psv.psv\n",
      "2024-10-02 20:13:12,584 - INFO - Populating from VIC_MB_2016_psv.psv\n",
      "2024-10-02 20:13:13,261 - INFO - Populating from SA_MB_2016_psv.psv\n",
      "2024-10-02 20:13:14,862 - INFO - Populating from WA_MB_2016_psv.psv\n",
      "2024-10-02 20:13:17,152 - INFO - Populating from OT_MB_2016_psv.psv\n",
      "2024-10-02 20:13:17,169 - INFO - Populating from VIC_MB_2021_psv.psv\n",
      "2024-10-02 20:13:17,184 - INFO - Populating from VIC_STATE_psv.psv\n",
      "2024-10-02 20:13:17,191 - INFO - Populating from ACT_MB_2021_psv.psv\n",
      "2024-10-02 20:13:17,551 - INFO - Populating from SA_MB_2021_psv.psv\n",
      "2024-10-02 20:13:19,036 - INFO - Populating from NT_MB_2016_psv.psv\n",
      "2024-10-02 20:13:19,214 - INFO - Populating from QLD_MB_2016_psv.psv\n",
      "2024-10-02 20:13:21,845 - INFO - Populating from TAS_STATE_psv.psv\n",
      "2024-10-02 20:13:21,851 - INFO - Populating from NSW_MB_2021_psv.psv\n",
      "2024-10-02 20:13:22,955 - INFO - Populating from OT_MB_2021_psv.psv\n",
      "2024-10-02 20:13:22,967 - INFO - Populating from ACT_MB_2016_psv.psv\n",
      "2024-10-02 20:13:23,311 - INFO - Populating from NSW_MB_2016_psv.psv\n",
      "2024-10-02 20:13:27,829 - INFO - Populating from QLD_STATE_psv.psv\n",
      "2024-10-02 20:13:27,836 - INFO - Populating from QLD_MB_2021_psv.psv\n",
      "2024-10-02 20:13:29,106 - INFO - Populating from WA_MB_2021_psv.psv\n",
      "2024-10-02 20:13:31,455 - INFO - Populating from NT_MB_2021_psv.psv\n",
      "2024-10-02 20:13:31,633 - INFO - Populating from ACT_STATE_psv.psv\n",
      "2024-10-02 20:13:31,640 - INFO - Populating from NT_STATE_psv.psv\n",
      "2024-10-02 20:13:31,645 - INFO - Populating from OT_STATE_psv.psv\n",
      "2024-10-02 20:13:31,651 - INFO - Populating from TAS_MB_2016_psv.psv\n",
      "2024-10-02 20:13:31,686 - INFO - Populating from WA_STATE_psv.psv\n",
      "2024-10-02 20:13:31,692 - INFO - Populating from SA_LOCALITY_psv.psv\n",
      "2024-10-02 20:13:31,816 - INFO - Populating from SA_ADDRESS_SITE_psv.psv\n",
      "2024-10-02 20:13:32,313 - INFO - Populating from NSW_ADDRESS_SITE_psv.psv\n",
      "2024-10-02 20:14:37,925 - INFO - Populating from NSW_LOCALITY_psv.psv\n",
      "2024-10-02 20:14:38,196 - INFO - Populating from VIC_ADDRESS_SITE_psv.psv\n",
      "2024-10-02 20:18:02,404 - INFO - Populating from VIC_LOCALITY_psv.psv\n",
      "2024-10-02 20:18:02,578 - INFO - Populating from TAS_LOCALITY_psv.psv\n",
      "2024-10-02 20:18:02,643 - INFO - Populating from TAS_ADDRESS_SITE_psv.psv\n",
      "2024-10-02 20:18:22,180 - INFO - Populating from QLD_LOCALITY_psv.psv\n",
      "2024-10-02 20:18:22,399 - INFO - Populating from QLD_ADDRESS_SITE_psv.psv\n",
      "2024-10-02 20:18:25,933 - INFO - Populating from ACT_LOCALITY_psv.psv\n",
      "2024-10-02 20:18:25,947 - INFO - Populating from ACT_ADDRESS_SITE_psv.psv\n",
      "2024-10-02 20:18:39,717 - INFO - Populating from NT_LOCALITY_psv.psv\n",
      "2024-10-02 20:18:39,787 - INFO - Populating from NT_ADDRESS_SITE_psv.psv\n",
      "2024-10-02 20:18:46,158 - INFO - Populating from OT_ADDRESS_SITE_psv.psv\n",
      "2024-10-02 20:18:46,440 - INFO - Populating from OT_LOCALITY_psv.psv\n",
      "2024-10-02 20:18:46,454 - INFO - Populating from WA_LOCALITY_psv.psv\n",
      "2024-10-02 20:18:46,636 - INFO - Populating from WA_ADDRESS_SITE_psv.psv\n",
      "2024-10-02 20:20:13,719 - INFO - Populating from SA_LOCALITY_POINT_psv.psv\n",
      "2024-10-02 20:20:13,846 - INFO - Populating from SA_LOCALITY_NEIGHBOUR_psv.psv\n",
      "2024-10-02 20:20:14,557 - INFO - Populating from SA_STREET_LOCALITY_psv.psv\n",
      "2024-10-02 20:20:20,653 - INFO - Populating from SA_LOCALITY_ALIAS_psv.psv\n",
      "2024-10-02 20:20:20,854 - INFO - Populating from SA_ADDRESS_SITE_GEOCODE_psv.psv\n",
      "2024-10-02 20:21:03,546 - INFO - Populating from NSW_LOCALITY_ALIAS_psv.psv\n",
      "2024-10-02 20:21:03,740 - INFO - Populating from NSW_STREET_LOCALITY_psv.psv\n",
      "2024-10-02 20:21:15,288 - INFO - Populating from NSW_LOCALITY_POINT_psv.psv\n",
      "2024-10-02 20:21:15,553 - INFO - Populating from NSW_LOCALITY_NEIGHBOUR_psv.psv\n",
      "2024-10-02 20:21:17,040 - INFO - Populating from NSW_ADDRESS_SITE_GEOCODE_psv.psv\n",
      "2024-10-02 20:21:36,238 - INFO - Populating from VIC_LOCALITY_POINT_psv.psv\n",
      "2024-10-02 20:21:36,405 - INFO - Populating from VIC_STREET_LOCALITY_psv.psv\n",
      "2024-10-02 20:21:49,310 - INFO - Populating from VIC_LOCALITY_ALIAS_psv.psv\n",
      "2024-10-02 20:21:49,526 - INFO - Populating from VIC_LOCALITY_NEIGHBOUR_psv.psv\n",
      "2024-10-02 20:21:50,409 - INFO - Populating from TAS_LOCALITY_NEIGHBOUR_psv.psv\n",
      "2024-10-02 20:21:50,615 - INFO - Populating from TAS_STREET_LOCALITY_psv.psv\n",
      "2024-10-02 20:21:51,745 - INFO - Populating from TAS_LOCALITY_ALIAS_psv.psv\n",
      "2024-10-02 20:21:51,797 - INFO - Populating from TAS_LOCALITY_POINT_psv.psv\n",
      "2024-10-02 20:21:51,846 - INFO - Populating from TAS_ADDRESS_SITE_GEOCODE_psv.psv\n",
      "2024-10-02 20:22:12,309 - INFO - Populating from QLD_LOCALITY_POINT_psv.psv\n",
      "2024-10-02 20:22:12,519 - INFO - Populating from QLD_LOCALITY_ALIAS_psv.psv\n",
      "2024-10-02 20:22:12,941 - INFO - Populating from QLD_LOCALITY_NEIGHBOUR_psv.psv\n",
      "2024-10-02 20:22:13,954 - INFO - Populating from QLD_STREET_LOCALITY_psv.psv\n",
      "2024-10-02 20:22:22,570 - INFO - Populating from VIC_ADDRESS_SITE_GEOCODE_psv.psv\n",
      "2024-10-02 20:25:52,676 - INFO - Populating from ACT_LOCALITY_ALIAS_psv.psv\n",
      "2024-10-02 20:25:52,698 - INFO - Populating from ACT_STREET_LOCALITY_psv.psv\n",
      "2024-10-02 20:25:53,097 - INFO - Populating from ACT_LOCALITY_POINT_psv.psv\n",
      "2024-10-02 20:25:53,112 - INFO - Populating from ACT_LOCALITY_NEIGHBOUR_psv.psv\n",
      "2024-10-02 20:25:53,158 - INFO - Populating from ACT_ADDRESS_SITE_GEOCODE_psv.psv\n",
      "2024-10-02 20:26:20,856 - INFO - Populating from NT_LOCALITY_POINT_psv.psv\n",
      "2024-10-02 20:26:20,918 - INFO - Populating from NT_LOCALITY_NEIGHBOUR_psv.psv\n",
      "2024-10-02 20:26:21,022 - INFO - Populating from NT_STREET_LOCALITY_psv.psv\n",
      "2024-10-02 20:26:21,700 - INFO - Populating from NT_LOCALITY_ALIAS_psv.psv\n",
      "2024-10-02 20:26:21,833 - INFO - Populating from NT_ADDRESS_SITE_GEOCODE_psv.psv\n",
      "2024-10-02 20:26:28,477 - INFO - Populating from OT_ADDRESS_SITE_GEOCODE_psv.psv\n",
      "2024-10-02 20:26:28,679 - INFO - Populating from OT_LOCALITY_POINT_psv.psv\n",
      "2024-10-02 20:26:28,687 - INFO - Populating from OT_LOCALITY_NEIGHBOUR_psv.psv\n",
      "2024-10-02 20:26:28,693 - INFO - Populating from OT_LOCALITY_ALIAS_psv.psv\n",
      "2024-10-02 20:26:28,700 - INFO - Populating from OT_STREET_LOCALITY_psv.psv\n",
      "2024-10-02 20:26:28,720 - INFO - Populating from WA_STREET_LOCALITY_psv.psv\n",
      "2024-10-02 20:26:33,756 - INFO - Populating from WA_LOCALITY_ALIAS_psv.psv\n",
      "2024-10-02 20:26:34,032 - INFO - Populating from WA_LOCALITY_POINT_psv.psv\n",
      "2024-10-02 20:26:34,163 - INFO - Populating from WA_LOCALITY_NEIGHBOUR_psv.psv\n",
      "2024-10-02 20:26:34,707 - INFO - Populating from WA_ADDRESS_SITE_GEOCODE_psv.psv\n",
      "2024-10-02 20:28:06,159 - INFO - Populating from SA_STREET_LOCALITY_ALIAS_psv.psv\n",
      "2024-10-02 20:28:06,472 - INFO - Populating from SA_STREET_LOCALITY_POINT_psv.psv\n",
      "2024-10-02 20:28:10,053 - INFO - Populating from SA_ADDRESS_DETAIL_psv.psv\n",
      "2024-10-02 20:29:31,307 - INFO - Populating from QLD_ADDRESS_SITE_GEOCODE_psv.psv\n",
      "2024-10-02 20:30:13,434 - INFO - Populating from NSW_STREET_LOCALITY_POINT_psv.psv\n",
      "2024-10-02 20:30:23,312 - INFO - Populating from NSW_STREET_LOCALITY_ALIAS_psv.psv\n",
      "2024-10-02 20:30:23,814 - INFO - Populating from NSW_ADDRESS_DETAIL_psv.psv\n",
      "2024-10-02 20:32:35,285 - INFO - Populating from VIC_ADDRESS_DETAIL_psv.psv\n"
     ]
    }
   ],
   "source": [
    "from lib.tasks.ingest_gnaf import ingest_gnaf\n",
    "await ingest_gnaf(gnaf_dis.publication, db_service)"
   ]
  },
  {
   "cell_type": "markdown",
   "id": "566e217a-5c89-4379-a422-8de20ea2d500",
   "metadata": {},
   "source": [
    "## Done"
   ]
  },
  {
   "cell_type": "code",
   "execution_count": null,
   "id": "23e887af-b30e-40da-ae8b-ae0c6d779816",
   "metadata": {
    "editable": true,
    "slideshow": {
     "slide_type": ""
    },
    "tags": []
   },
   "outputs": [],
   "source": [
    "async with db_service.async_connect() as c, c.cursor() as cursor:\n",
    "    for schema in ['nsw_valuer_general', 'gnaf', 'abs_main_structures', 'non_abs_main_structures']:\n",
    "        # Get the list of all tables\n",
    "        cursor.execute(f\"\"\"\n",
    "            SELECT table_name\n",
    "            FROM information_schema.tables\n",
    "            WHERE table_schema = '{schema}'\n",
    "        \"\"\")\n",
    "        tables = cursor.fetchall()\n",
    "    \n",
    "        # Get row count for each table\n",
    "        for table in tables:\n",
    "            await cursor.execute(f'SELECT COUNT(*) FROM {schema}.{table[0]}')\n",
    "            count = cursor.fetchone()[0]\n",
    "            print(f\"Table {schema}.{table[0]} has {count} rows\")"
   ]
  },
  {
   "cell_type": "code",
   "execution_count": null,
   "id": "982acfc4-7182-4a73-aa4b-fc9aae3db7d7",
   "metadata": {},
   "outputs": [],
   "source": []
  }
 ],
 "metadata": {
  "kernelspec": {
   "display_name": "Python 3 (ipykernel)",
   "language": "python",
   "name": "python3"
  },
  "language_info": {
   "codemirror_mode": {
    "name": "ipython",
    "version": 3
   },
   "file_extension": ".py",
   "mimetype": "text/x-python",
   "name": "python",
   "nbconvert_exporter": "python",
   "pygments_lexer": "ipython3",
   "version": "3.12.5"
  }
 },
 "nbformat": 4,
 "nbformat_minor": 5
}
