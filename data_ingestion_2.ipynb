{
 "cells": [
  {
   "cell_type": "markdown",
   "id": "411b2f55-c894-41d2-88de-2d62be52f7a3",
   "metadata": {},
   "source": [
    "# Ingestion Experimentation notebook\n",
    "\n",
    "This notebook largely exists to experiment with different config methods"
   ]
  },
  {
   "cell_type": "markdown",
   "id": "b70d4c59-4377-41e7-8143-6d1f46817480",
   "metadata": {},
   "source": [
    "## Configuration\n",
    "\n",
    "These are some fields to configure if you wish to configure how the data is injected."
   ]
  },
  {
   "cell_type": "code",
   "execution_count": 1,
   "id": "7f5c21a9-9440-40ac-a2c7-b20f31444ba4",
   "metadata": {},
   "outputs": [],
   "source": [
    "from lib.service.docker.defaults import INSTANCE_2_IMAGE_CONF, INSTANCE_2_CONTAINER_CONF\n",
    "from lib.service.database.defaults import instance_2_config\n",
    "\n",
    "# If you mark this as true, the table `nsw_valuer_general.raw_entries`\n",
    "# will be dropped. If you have space limitations and no desire to debug\n",
    "# the data than dropping this makes sense. If you wish to debug some values\n",
    "# then keeping this around may make some sense.\n",
    "GLOBAL_FLAGS = {\n",
    "    'drop_raw_nsw_valuer_general_entries': True,\n",
    "    'reinitialise_container': True,\n",
    "}\n",
    "\n",
    "db_service_config = instance_2_config\n",
    "docker_image_conf = INSTANCE_2_IMAGE_CONF\n",
    "docker_container_conf = INSTANCE_2_CONTAINER_CONF"
   ]
  },
  {
   "cell_type": "markdown",
   "id": "a805780c-5d26-4c20-8440-8e2e29794cf9",
   "metadata": {},
   "source": [
    "## Download Static Files"
   ]
  },
  {
   "cell_type": "code",
   "execution_count": 2,
   "id": "320cd7fe-f03d-4230-9e0f-a2ef302a91b2",
   "metadata": {
    "jupyter": {
     "source_hidden": true
    }
   },
   "outputs": [
    {
     "name": "stderr",
     "output_type": "stream",
     "text": [
      "2024-10-02 21:07:11,607 - INFO - Checking Target \"abs_main_structures.zip\"\n",
      "2024-10-02 21:07:11,607 - INFO - Checking Target \"non_abs_shape.zip\"\n",
      "2024-10-02 21:07:11,608 - INFO - Checking Target \"g-naf_aug24_allstates_gda2020_psv_1016.zip\"\n",
      "2024-10-02 21:07:11,608 - INFO - Checking Target \"nswvg_lv_01_Oct_2024.zip\"\n",
      "2024-10-02 21:07:11,609 - INFO - Checking Target \"nswvg_wps_01_Jan_2024.zip\"\n",
      "2024-10-02 21:07:11,609 - INFO - Checking Target \"nswvg_wps_08_Jan_2024.zip\"\n",
      "2024-10-02 21:07:11,610 - INFO - Checking Target \"nswvg_wps_15_Jan_2024.zip\"\n",
      "2024-10-02 21:07:11,610 - INFO - Checking Target \"nswvg_wps_22_Jan_2024.zip\"\n",
      "2024-10-02 21:07:11,611 - INFO - Checking Target \"nswvg_wps_29_Jan_2024.zip\"\n",
      "2024-10-02 21:07:11,612 - INFO - Checking Target \"nswvg_wps_05_Feb_2024.zip\"\n",
      "2024-10-02 21:07:11,612 - INFO - Checking Target \"nswvg_wps_12_Feb_2024.zip\"\n",
      "2024-10-02 21:07:11,613 - INFO - Checking Target \"nswvg_wps_19_Feb_2024.zip\"\n",
      "2024-10-02 21:07:11,613 - INFO - Checking Target \"nswvg_wps_26_Feb_2024.zip\"\n",
      "2024-10-02 21:07:11,614 - INFO - Checking Target \"nswvg_wps_04_Mar_2024.zip\"\n",
      "2024-10-02 21:07:11,614 - INFO - Checking Target \"nswvg_wps_11_Mar_2024.zip\"\n",
      "2024-10-02 21:07:11,615 - INFO - Checking Target \"nswvg_wps_18_Mar_2024.zip\"\n",
      "2024-10-02 21:07:11,615 - INFO - Checking Target \"nswvg_wps_25_Mar_2024.zip\"\n",
      "2024-10-02 21:07:11,616 - INFO - Checking Target \"nswvg_wps_01_Apr_2024.zip\"\n",
      "2024-10-02 21:07:11,616 - INFO - Checking Target \"nswvg_wps_08_Apr_2024.zip\"\n",
      "2024-10-02 21:07:11,616 - INFO - Checking Target \"nswvg_wps_15_Apr_2024.zip\"\n",
      "2024-10-02 21:07:11,617 - INFO - Checking Target \"nswvg_wps_22_Apr_2024.zip\"\n",
      "2024-10-02 21:07:11,617 - INFO - Checking Target \"nswvg_wps_29_Apr_2024.zip\"\n",
      "2024-10-02 21:07:11,618 - INFO - Checking Target \"nswvg_wps_06_May_2024.zip\"\n",
      "2024-10-02 21:07:11,618 - INFO - Checking Target \"nswvg_wps_13_May_2024.zip\"\n",
      "2024-10-02 21:07:11,619 - INFO - Checking Target \"nswvg_wps_20_May_2024.zip\"\n",
      "2024-10-02 21:07:11,619 - INFO - Checking Target \"nswvg_wps_27_May_2024.zip\"\n",
      "2024-10-02 21:07:11,620 - INFO - Checking Target \"nswvg_wps_03_Jun_2024.zip\"\n",
      "2024-10-02 21:07:11,620 - INFO - Checking Target \"nswvg_wps_10_Jun_2024.zip\"\n",
      "2024-10-02 21:07:11,621 - INFO - Checking Target \"nswvg_wps_17_Jun_2024.zip\"\n",
      "2024-10-02 21:07:11,621 - INFO - Checking Target \"nswvg_wps_24_Jun_2024.zip\"\n",
      "2024-10-02 21:07:11,622 - INFO - Checking Target \"nswvg_wps_01_Jul_2024.zip\"\n",
      "2024-10-02 21:07:11,623 - INFO - Checking Target \"nswvg_wps_08_Jul_2024.zip\"\n",
      "2024-10-02 21:07:11,623 - INFO - Checking Target \"nswvg_wps_15_Jul_2024.zip\"\n",
      "2024-10-02 21:07:11,624 - INFO - Checking Target \"nswvg_wps_22_Jul_2024.zip\"\n",
      "2024-10-02 21:07:11,624 - INFO - Checking Target \"nswvg_wps_29_Jul_2024.zip\"\n",
      "2024-10-02 21:07:11,625 - INFO - Checking Target \"nswvg_wps_05_Aug_2024.zip\"\n",
      "2024-10-02 21:07:11,625 - INFO - Checking Target \"nswvg_wps_12_Aug_2024.zip\"\n",
      "2024-10-02 21:07:11,626 - INFO - Checking Target \"nswvg_wps_19_Aug_2024.zip\"\n",
      "2024-10-02 21:07:11,626 - INFO - Checking Target \"nswvg_wps_26_Aug_2024.zip\"\n",
      "2024-10-02 21:07:11,627 - INFO - Checking Target \"nswvg_wps_02_Sep_2024.zip\"\n",
      "2024-10-02 21:07:11,627 - INFO - Checking Target \"nswvg_wps_09_Sep_2024.zip\"\n",
      "2024-10-02 21:07:11,628 - INFO - Checking Target \"nswvg_wps_16_Sep_2024.zip\"\n",
      "2024-10-02 21:07:11,628 - INFO - Checking Target \"nswvg_wps_23_Sep_2024.zip\"\n",
      "2024-10-02 21:07:11,629 - INFO - Checking Target \"nswvg_wps_30_Sep_2024.zip\"\n",
      "2024-10-02 21:07:11,629 - INFO - Checking Target \"nswvg_aps_1990.zip\"\n",
      "2024-10-02 21:07:11,630 - INFO - Checking Target \"nswvg_aps_1991.zip\"\n",
      "2024-10-02 21:07:11,630 - INFO - Checking Target \"nswvg_aps_1992.zip\"\n",
      "2024-10-02 21:07:11,631 - INFO - Checking Target \"nswvg_aps_1993.zip\"\n",
      "2024-10-02 21:07:11,631 - INFO - Checking Target \"nswvg_aps_1994.zip\"\n",
      "2024-10-02 21:07:11,632 - INFO - Checking Target \"nswvg_aps_1995.zip\"\n",
      "2024-10-02 21:07:11,632 - INFO - Checking Target \"nswvg_aps_1996.zip\"\n",
      "2024-10-02 21:07:11,633 - INFO - Checking Target \"nswvg_aps_1997.zip\"\n",
      "2024-10-02 21:07:11,633 - INFO - Checking Target \"nswvg_aps_1998.zip\"\n",
      "2024-10-02 21:07:11,634 - INFO - Checking Target \"nswvg_aps_1999.zip\"\n",
      "2024-10-02 21:07:11,634 - INFO - Checking Target \"nswvg_aps_2000.zip\"\n",
      "2024-10-02 21:07:11,635 - INFO - Checking Target \"nswvg_aps_2001.zip\"\n",
      "2024-10-02 21:07:11,636 - INFO - Checking Target \"nswvg_aps_2002.zip\"\n",
      "2024-10-02 21:07:11,636 - INFO - Checking Target \"nswvg_aps_2003.zip\"\n",
      "2024-10-02 21:07:11,636 - INFO - Checking Target \"nswvg_aps_2004.zip\"\n",
      "2024-10-02 21:07:11,637 - INFO - Checking Target \"nswvg_aps_2005.zip\"\n",
      "2024-10-02 21:07:11,637 - INFO - Checking Target \"nswvg_aps_2006.zip\"\n",
      "2024-10-02 21:07:11,638 - INFO - Checking Target \"nswvg_aps_2007.zip\"\n",
      "2024-10-02 21:07:11,638 - INFO - Checking Target \"nswvg_aps_2008.zip\"\n",
      "2024-10-02 21:07:11,639 - INFO - Checking Target \"nswvg_aps_2009.zip\"\n",
      "2024-10-02 21:07:11,639 - INFO - Checking Target \"nswvg_aps_2010.zip\"\n",
      "2024-10-02 21:07:11,640 - INFO - Checking Target \"nswvg_aps_2011.zip\"\n",
      "2024-10-02 21:07:11,640 - INFO - Checking Target \"nswvg_aps_2012.zip\"\n",
      "2024-10-02 21:07:11,641 - INFO - Checking Target \"nswvg_aps_2013.zip\"\n",
      "2024-10-02 21:07:11,641 - INFO - Checking Target \"nswvg_aps_2014.zip\"\n",
      "2024-10-02 21:07:11,642 - INFO - Checking Target \"nswvg_aps_2015.zip\"\n",
      "2024-10-02 21:07:11,642 - INFO - Checking Target \"nswvg_aps_2016.zip\"\n",
      "2024-10-02 21:07:11,643 - INFO - Checking Target \"nswvg_aps_2017.zip\"\n",
      "2024-10-02 21:07:11,643 - INFO - Checking Target \"nswvg_aps_2018.zip\"\n",
      "2024-10-02 21:07:11,644 - INFO - Checking Target \"nswvg_aps_2019.zip\"\n",
      "2024-10-02 21:07:11,644 - INFO - Checking Target \"nswvg_aps_2020.zip\"\n",
      "2024-10-02 21:07:11,645 - INFO - Checking Target \"nswvg_aps_2021.zip\"\n",
      "2024-10-02 21:07:11,645 - INFO - Checking Target \"nswvg_aps_2022.zip\"\n",
      "2024-10-02 21:07:11,646 - INFO - Checking Target \"nswvg_aps_2023.zip\"\n"
     ]
    }
   ],
   "source": [
    "import logging\n",
    "from lib.service.io import IoService\n",
    "from lib.tasks.fetch_static_files import initialise, get_session\n",
    "\n",
    "logging.basicConfig(level=logging.INFO, format='%(asctime)s - %(levelname)s - %(message)s')\n",
    "\n",
    "io_service = IoService.create(None)\n",
    "async with get_session(io_service) as session:\n",
    "    environment = await initialise(io_service, session)\n",
    "\n",
    "land_value_dis = environment.land_value\n",
    "w_sale_price = environment.sale_price_weekly\n",
    "a_sale_price = environment.sale_price_annual\n",
    "gnaf_dis = environment.gnaf"
   ]
  },
  {
   "cell_type": "markdown",
   "id": "498c9507-54a9-4a4f-9de6-934f308b1f80",
   "metadata": {},
   "source": [
    "## Create Docker Container and Database"
   ]
  },
  {
   "cell_type": "code",
   "execution_count": 3,
   "id": "4f709233-e243-468b-971e-df23bfcc0113",
   "metadata": {},
   "outputs": [
    {
     "name": "stderr",
     "output_type": "stream",
     "text": [
      "2024-10-02 21:07:19,069 - INFO - running ./_out_zip/g-naf_aug24_allstates_gda2020_psv_1016/G-NAF/Extras/GNAF_TableCreation_Scripts/create_tables_ansi.sql\n",
      "2024-10-02 21:07:19,088 - INFO - running ./_out_zip/g-naf_aug24_allstates_gda2020_psv_1016/G-NAF/Extras/GNAF_TableCreation_Scripts/add_fk_constraints.sql\n",
      "2024-10-02 21:07:19,145 - INFO - running sql/move_gnaf_to_schema.sql\n"
     ]
    }
   ],
   "source": [
    "from lib.gnaf.init_schema import init_target_schema\n",
    "from lib.service.docker import DockerService\n",
    "from lib.service.database import DatabaseService\n",
    "\n",
    "docker_service = DockerService.create()\n",
    "\n",
    "if GLOBAL_FLAGS['reinitialise_container']:\n",
    "    image = docker_service.create_image(docker_image_conf)\n",
    "    image.prepare()\n",
    "\n",
    "    container = docker_service.create_container(image, docker_container_conf)\n",
    "    container.clean()\n",
    "    container.prepare(db_service_config)\n",
    "    container.start()\n",
    "else:\n",
    "    print('skipping container initialisation')\n",
    "\n",
    "db_service = DatabaseService(db_service_config)\n",
    "await db_service.wait_till_running()\n",
    "\n",
    "if GLOBAL_FLAGS['reinitialise_container']:\n",
    "    await init_target_schema(gnaf_dis.publication, io_service, db_service)\n",
    "else:\n",
    "    print('skipping DB initialisation')\n",
    "    raise Exception()"
   ]
  },
  {
   "cell_type": "markdown",
   "id": "98baeefa-841d-4347-ae26-66313e1d3ec0",
   "metadata": {},
   "source": [
    "## Init DB Schema"
   ]
  },
  {
   "cell_type": "code",
   "execution_count": 4,
   "id": "9588dc22-d089-47cd-93cc-411063d50cc1",
   "metadata": {},
   "outputs": [
    {
     "name": "stderr",
     "output_type": "stream",
     "text": [
      "2024-10-02 21:07:19,164 - INFO - initalising nsw_vg db schema\n",
      "2024-10-02 21:07:19,174 - INFO - running sql/meta/schema/001_APPLY_init.sql\n",
      "2024-10-02 21:07:19,186 - INFO - running sql/abs/schema/001_APPLY_init.sql\n",
      "2024-10-02 21:07:19,188 - INFO - running sql/nsw_lrs/schema/001_APPLY_init.sql\n",
      "2024-10-02 21:07:19,194 - INFO - running sql/nsw_environment/schema/001_APPLY_init.sql\n",
      "2024-10-02 21:07:19,201 - INFO - running sql/nsw_property/schema/001_APPLY_init.sql\n",
      "2024-10-02 21:07:19,215 - INFO - running sql/nsw_vg/schema/001_APPLY_init.sql\n",
      "2024-10-02 21:07:19,217 - INFO - running sql/nsw_vg/schema/002_APPLY_create_raw.sql\n",
      "2024-10-02 21:07:19,228 - INFO - running sql/nsw_vg/schema/003_APPLY_shared_tables.sql\n",
      "2024-10-02 21:07:19,241 - INFO - running sql/nsw_vg/schema/004_APPLY_land_value_tables.sql\n"
     ]
    }
   ],
   "source": [
    "from lib.tasks.update_schema import update_schema, UpdateSchemaConfig\n",
    "\n",
    "await update_schema(\n",
    "    UpdateSchemaConfig(apply=True),\n",
    "    db_service,\n",
    "    io_service,\n",
    ")"
   ]
  },
  {
   "cell_type": "markdown",
   "id": "f54bee42-b284-4425-9b89-12e8aae2d02a",
   "metadata": {},
   "source": [
    "## Ingest ABS Data"
   ]
  },
  {
   "cell_type": "code",
   "execution_count": 5,
   "id": "76e9bba2-99c7-4db7-912f-4f1d817c3e8a",
   "metadata": {},
   "outputs": [
    {
     "name": "stderr",
     "output_type": "stream",
     "text": [
      "2024-10-02 21:07:23,089 - INFO - Populated abs_main_structures.state with 10/10 rows.\n",
      "2024-10-02 21:07:26,425 - INFO - Populated abs_main_structures.gccsa with 35/35 rows.\n",
      "2024-10-02 21:07:30,495 - INFO - Populated abs_main_structures.sa4 with 108/108 rows.\n",
      "2024-10-02 21:07:35,255 - INFO - Populated abs_main_structures.sa3 with 359/359 rows.\n",
      "2024-10-02 21:07:41,904 - INFO - Populated abs_main_structures.sa2 with 2473/2473 rows.\n",
      "2024-10-02 21:07:57,874 - INFO - Populated abs_main_structures.sa1 with 61845/61845 rows.\n",
      "2024-10-02 21:08:44,655 - INFO - Populated abs_main_structures.meshblock with 368286/368286 rows.\n",
      "2024-10-02 21:08:58,178 - INFO - Populated non_abs_main_structures.localities with 15353/15353 rows.\n",
      "2024-10-02 21:09:02,601 - INFO - Populated non_abs_main_structures.state_electoral_division_2021 with 452/452 rows.\n",
      "2024-10-02 21:09:06,971 - INFO - Populated non_abs_main_structures.state_electoral_division_2022 with 452/452 rows.\n",
      "2024-10-02 21:09:11,404 - INFO - Populated non_abs_main_structures.state_electoral_division_2024 with 452/452 rows.\n",
      "2024-10-02 21:09:15,048 - INFO - Populated non_abs_main_structures.federal_electoral_division_2021 with 170/170 rows.\n",
      "2024-10-02 21:09:20,037 - INFO - Populated non_abs_main_structures.lga_2021 with 566/566 rows.\n",
      "2024-10-02 21:09:24,935 - INFO - Populated non_abs_main_structures.lga_2022 with 566/566 rows.\n",
      "2024-10-02 21:09:29,879 - INFO - Populated non_abs_main_structures.lga_2023 with 566/566 rows.\n",
      "2024-10-02 21:09:34,865 - INFO - Populated non_abs_main_structures.lga_2024 with 566/566 rows.\n",
      "2024-10-02 21:09:42,166 - INFO - Populated non_abs_main_structures.post_code with 2644/2644 rows.\n",
      "2024-10-02 21:09:50,440 - INFO - Populated non_abs_main_structures.dzn with 9329/9329 rows.\n"
     ]
    }
   ],
   "source": [
    "from lib.tasks.ingest_abs import ingest_all\n",
    "\n",
    "await ingest_all(db_service)"
   ]
  },
  {
   "cell_type": "markdown",
   "id": "f410a241-d4ef-46d1-818f-4bf02d53f27e",
   "metadata": {},
   "source": [
    "## Ingest NSW Valuer General Land Values"
   ]
  },
  {
   "cell_type": "code",
   "execution_count": null,
   "id": "c9231a7c-ed31-4016-8e30-d052ad83294f",
   "metadata": {},
   "outputs": [
    {
     "name": "stderr",
     "output_type": "stream",
     "text": [
      "2024-10-02 21:09:50,462 - INFO - Step 1: Ingest raw files\n",
      "/Users/angus/code/jupyter/notebooks/20240907, vg/lib/nsw_vg/land_values/ingest.py:63: DtypeWarning: Columns (5) have mixed types. Specify dtype option on import or set low_memory=False.\n",
      "  df = pd.read_csv(full_file_path, encoding='utf-8')\n",
      "/Users/angus/code/jupyter/notebooks/20240907, vg/lib/nsw_vg/land_values/ingest.py:63: DtypeWarning: Columns (5) have mixed types. Specify dtype option on import or set low_memory=False.\n",
      "  df = pd.read_csv(full_file_path, encoding='utf-8')\n",
      "/Users/angus/code/jupyter/notebooks/20240907, vg/lib/nsw_vg/land_values/ingest.py:63: DtypeWarning: Columns (5) have mixed types. Specify dtype option on import or set low_memory=False.\n",
      "  df = pd.read_csv(full_file_path, encoding='utf-8')\n",
      "/Users/angus/code/jupyter/notebooks/20240907, vg/lib/nsw_vg/land_values/ingest.py:63: DtypeWarning: Columns (5) have mixed types. Specify dtype option on import or set low_memory=False.\n",
      "  df = pd.read_csv(full_file_path, encoding='utf-8')\n"
     ]
    }
   ],
   "source": [
    "from lib.tasks.nsw_vg.ingest_land_values import ingest_land_values, NswVgLandValueIngestionConfig\n",
    "\n",
    "await ingest_land_values(\n",
    "    NswVgLandValueIngestionConfig(\n",
    "        keep_raw=not GLOBAL_FLAGS['drop_raw_nsw_valuer_general_entries'],\n",
    "    ),\n",
    "    db_service,\n",
    "    environment.land_value.latest,\n",
    ")"
   ]
  },
  {
   "cell_type": "markdown",
   "id": "6a2577e9-280c-4537-876e-34da3c308d98",
   "metadata": {},
   "source": [
    "## Ingest Gnaf"
   ]
  },
  {
   "cell_type": "code",
   "execution_count": null,
   "id": "37cc6440-562d-4468-b5d9-d3d53c925ae6",
   "metadata": {},
   "outputs": [],
   "source": [
    "from lib.tasks.ingest_gnaf import ingest_gnaf\n",
    "await ingest_gnaf(gnaf_dis.publication, db_service)"
   ]
  },
  {
   "cell_type": "markdown",
   "id": "566e217a-5c89-4379-a422-8de20ea2d500",
   "metadata": {},
   "source": [
    "## Done"
   ]
  },
  {
   "cell_type": "code",
   "execution_count": null,
   "id": "23e887af-b30e-40da-ae8b-ae0c6d779816",
   "metadata": {
    "editable": true,
    "slideshow": {
     "slide_type": ""
    },
    "tags": []
   },
   "outputs": [],
   "source": [
    "async with db_service.async_connect() as c, c.cursor() as cursor:\n",
    "    for schema in ['nsw_valuer_general', 'gnaf', 'abs_main_structures', 'non_abs_main_structures']:\n",
    "        # Get the list of all tables\n",
    "        cursor.execute(f\"\"\"\n",
    "            SELECT table_name\n",
    "            FROM information_schema.tables\n",
    "            WHERE table_schema = '{schema}'\n",
    "        \"\"\")\n",
    "        tables = cursor.fetchall()\n",
    "    \n",
    "        # Get row count for each table\n",
    "        for table in tables:\n",
    "            await cursor.execute(f'SELECT COUNT(*) FROM {schema}.{table[0]}')\n",
    "            count = cursor.fetchone()[0]\n",
    "            print(f\"Table {schema}.{table[0]} has {count} rows\")"
   ]
  },
  {
   "cell_type": "code",
   "execution_count": null,
   "id": "982acfc4-7182-4a73-aa4b-fc9aae3db7d7",
   "metadata": {},
   "outputs": [],
   "source": []
  }
 ],
 "metadata": {
  "kernelspec": {
   "display_name": "Python 3 (ipykernel)",
   "language": "python",
   "name": "python3"
  },
  "language_info": {
   "codemirror_mode": {
    "name": "ipython",
    "version": 3
   },
   "file_extension": ".py",
   "mimetype": "text/x-python",
   "name": "python",
   "nbconvert_exporter": "python",
   "pygments_lexer": "ipython3",
   "version": "3.12.5"
  }
 },
 "nbformat": 4,
 "nbformat_minor": 5
}
