{
 "cells": [
  {
   "cell_type": "markdown",
   "id": "8900860d-c565-4843-9848-9149eaa7f8e4",
   "metadata": {},
   "source": [
    "# Dataset ingestion\n",
    "\n",
    "This jupyter noteebook ingests the [Geocoded National Address File][gnaf] ([GNAF][gnaf]) from [data.gov.au](data.gov.au). It also downloads the [land values for NSW][nswlv], and ABS shapefiles \n",
    "\n",
    "It loads it all this data into a PostgreSQL database in a docker container, treating it like a disposable sqlite data store. It also downloads the ABS shape files as well as the \n",
    "\n",
    "Here we are going to ingest all the data necessary in order to assess land by land values, and filter them by address information. \n",
    "\n",
    "### The Steps\n",
    "\n",
    "1. Download static assets and datasets\n",
    "2. Setup a docker container with postgresql with GIS capabilities.\n",
    "3. Ingest the [ABS shape files][abssf]\n",
    "4. Ingest the latest [NSW valuer general land values][nswlv].\n",
    "5. Ingest the [Geocoded National Address File][gnaf] ([GNAF][gnaf]) dataset\n",
    "6. Link NSW Valuer General data with GNAF dataset\n",
    "\n",
    "[gnaf]: https://data.gov.au/data/dataset/geocoded-national-address-file-g-naf\n",
    "[nswlv]: https://www.valuergeneral.nsw.gov.au/land_value_summaries/lv.php\n",
    "[abssf]: https://www.abs.gov.au/statistics/standards/australian-statistical-geography-standard-asgs-edition-3/jul2021-jun2026/access-and-downloads/digital-boundary-files\n",
    "\n",
    "### Note\n",
    "\n",
    "- Make sure docker is running first.\n",
    "\n",
    "### Warning\n",
    "\n",
    "Do not connect this to another database unless you've taken the time to update this, as it'll drop the existing database. I suggest instead take what you need from this script and disregard the rest. DO NOT USE DATABASE CREDENTIALS HERE FOR ANY OTHER STORE (especailly anything with drop permissions).\n",
    "\n",
    "It also executes sql from a zip file downloaded from an external source.\n"
   ]
  },
  {
   "cell_type": "markdown",
   "id": "b70d4c59-4377-41e7-8143-6d1f46817480",
   "metadata": {},
   "source": [
    "## Configuration\n",
    "\n",
    "These are some fields to configure if you wish to configure how the data is injected."
   ]
  },
  {
   "cell_type": "code",
   "execution_count": 1,
   "id": "7f5c21a9-9440-40ac-a2c7-b20f31444ba4",
   "metadata": {},
   "outputs": [],
   "source": [
    "from lib import notebook_constants as nc\n",
    "\n",
    "# If you mark this as true, the table `nsw_valuer_general.raw_entries`\n",
    "# will be dropped. If you have space limitations and no desire to debug\n",
    "# the data than dropping this makes sense. If you wish to debug some values\n",
    "# then keeping this around may make some sense.\n",
    "GLOBAL_FLAGS = {\n",
    "    'drop_raw_nsw_valuer_general_entries': True,\n",
    "    'reinitialise_container': True,\n",
    "}\n",
    "\n",
    "db_conf = nc.gnaf_dbconf_2\n",
    "db_name = nc.gnaf_dbname_2\n",
    "\n",
    "docker_container_name = 'gnaf_db_test'\n",
    "docker_image_tag = \"20240908_19_53\""
   ]
  },
  {
   "cell_type": "markdown",
   "id": "c8e529c6-4590-4070-88f8-83693e1ef682",
   "metadata": {},
   "source": [
    "## Download Static Files\n",
    "\n",
    "Here we are downloading static files, as well as fetching the most recently published land values from the valuer generals website."
   ]
  },
  {
   "cell_type": "code",
   "execution_count": 2,
   "id": "320cd7fe-f03d-4230-9e0f-a2ef302a91b2",
   "metadata": {},
   "outputs": [
    {
     "name": "stderr",
     "output_type": "stream",
     "text": [
      "2024-10-01 15:07:00,957 - INFO - Checking Target \"non_abs_shape.zip\"\n",
      "2024-10-01 15:07:00,958 - INFO - Checking Target \"cities.zip\"\n",
      "2024-10-01 15:07:00,958 - INFO - Checking Target \"g-naf_aug24_allstates_gda2020_psv_1016.zip\"\n",
      "2024-10-01 15:07:00,958 - INFO - Checking Target \"nswvg_lv_01_Oct_2024.zip\"\n",
      "2024-10-01 15:07:00,959 - INFO - Checking Target \"nswvg_wps_01_Jan_2024.zip\"\n",
      "2024-10-01 15:07:00,959 - INFO - Checking Target \"nswvg_wps_08_Jan_2024.zip\"\n",
      "2024-10-01 15:07:00,959 - INFO - Checking Target \"nswvg_wps_15_Jan_2024.zip\"\n",
      "2024-10-01 15:07:00,959 - INFO - Checking Target \"nswvg_wps_22_Jan_2024.zip\"\n",
      "2024-10-01 15:07:00,960 - INFO - Checking Target \"nswvg_wps_29_Jan_2024.zip\"\n",
      "2024-10-01 15:07:00,960 - INFO - Checking Target \"nswvg_wps_05_Feb_2024.zip\"\n",
      "2024-10-01 15:07:00,960 - INFO - Checking Target \"nswvg_wps_12_Feb_2024.zip\"\n",
      "2024-10-01 15:07:00,960 - INFO - Checking Target \"nswvg_wps_19_Feb_2024.zip\"\n",
      "2024-10-01 15:07:00,961 - INFO - Checking Target \"nswvg_wps_26_Feb_2024.zip\"\n",
      "2024-10-01 15:07:00,961 - INFO - Checking Target \"nswvg_wps_04_Mar_2024.zip\"\n",
      "2024-10-01 15:07:00,961 - INFO - Checking Target \"nswvg_wps_11_Mar_2024.zip\"\n",
      "2024-10-01 15:07:00,961 - INFO - Checking Target \"nswvg_wps_18_Mar_2024.zip\"\n",
      "2024-10-01 15:07:00,962 - INFO - Checking Target \"nswvg_wps_25_Mar_2024.zip\"\n",
      "2024-10-01 15:07:00,962 - INFO - Checking Target \"nswvg_wps_01_Apr_2024.zip\"\n",
      "2024-10-01 15:07:00,962 - INFO - Checking Target \"nswvg_wps_08_Apr_2024.zip\"\n",
      "2024-10-01 15:07:00,963 - INFO - Checking Target \"nswvg_wps_15_Apr_2024.zip\"\n",
      "2024-10-01 15:07:00,963 - INFO - Checking Target \"nswvg_wps_22_Apr_2024.zip\"\n",
      "2024-10-01 15:07:00,963 - INFO - Checking Target \"nswvg_wps_29_Apr_2024.zip\"\n",
      "2024-10-01 15:07:00,963 - INFO - Checking Target \"nswvg_wps_06_May_2024.zip\"\n",
      "2024-10-01 15:07:00,963 - INFO - Checking Target \"nswvg_wps_13_May_2024.zip\"\n",
      "2024-10-01 15:07:00,964 - INFO - Checking Target \"nswvg_wps_20_May_2024.zip\"\n",
      "2024-10-01 15:07:00,964 - INFO - Checking Target \"nswvg_wps_27_May_2024.zip\"\n",
      "2024-10-01 15:07:00,964 - INFO - Checking Target \"nswvg_wps_03_Jun_2024.zip\"\n",
      "2024-10-01 15:07:00,964 - INFO - Checking Target \"nswvg_wps_10_Jun_2024.zip\"\n",
      "2024-10-01 15:07:00,965 - INFO - Checking Target \"nswvg_wps_17_Jun_2024.zip\"\n",
      "2024-10-01 15:07:00,965 - INFO - Checking Target \"nswvg_wps_24_Jun_2024.zip\"\n",
      "2024-10-01 15:07:00,965 - INFO - Checking Target \"nswvg_wps_01_Jul_2024.zip\"\n",
      "2024-10-01 15:07:00,965 - INFO - Checking Target \"nswvg_wps_08_Jul_2024.zip\"\n",
      "2024-10-01 15:07:00,966 - INFO - Checking Target \"nswvg_wps_15_Jul_2024.zip\"\n",
      "2024-10-01 15:07:00,966 - INFO - Checking Target \"nswvg_wps_22_Jul_2024.zip\"\n",
      "2024-10-01 15:07:00,966 - INFO - Checking Target \"nswvg_wps_29_Jul_2024.zip\"\n",
      "2024-10-01 15:07:00,966 - INFO - Checking Target \"nswvg_wps_05_Aug_2024.zip\"\n",
      "2024-10-01 15:07:00,966 - INFO - Checking Target \"nswvg_wps_12_Aug_2024.zip\"\n",
      "2024-10-01 15:07:00,967 - INFO - Checking Target \"nswvg_wps_19_Aug_2024.zip\"\n",
      "2024-10-01 15:07:00,967 - INFO - Checking Target \"nswvg_wps_26_Aug_2024.zip\"\n",
      "2024-10-01 15:07:00,967 - INFO - Checking Target \"nswvg_wps_02_Sep_2024.zip\"\n",
      "2024-10-01 15:07:00,967 - INFO - Checking Target \"nswvg_wps_09_Sep_2024.zip\"\n",
      "2024-10-01 15:07:00,968 - INFO - Checking Target \"nswvg_wps_16_Sep_2024.zip\"\n",
      "2024-10-01 15:07:00,968 - INFO - Checking Target \"nswvg_wps_23_Sep_2024.zip\"\n",
      "2024-10-01 15:07:00,968 - INFO - Checking Target \"nswvg_wps_30_Sep_2024.zip\"\n",
      "2024-10-01 15:07:00,968 - INFO - Checking Target \"nswvg_aps_1990.zip\"\n",
      "2024-10-01 15:07:00,969 - INFO - Checking Target \"nswvg_aps_1991.zip\"\n",
      "2024-10-01 15:07:00,969 - INFO - Checking Target \"nswvg_aps_1992.zip\"\n",
      "2024-10-01 15:07:00,969 - INFO - Checking Target \"nswvg_aps_1993.zip\"\n",
      "2024-10-01 15:07:00,969 - INFO - Checking Target \"nswvg_aps_1994.zip\"\n",
      "2024-10-01 15:07:00,969 - INFO - Checking Target \"nswvg_aps_1995.zip\"\n",
      "2024-10-01 15:07:00,970 - INFO - Checking Target \"nswvg_aps_1996.zip\"\n",
      "2024-10-01 15:07:00,970 - INFO - Checking Target \"nswvg_aps_1997.zip\"\n",
      "2024-10-01 15:07:00,970 - INFO - Checking Target \"nswvg_aps_1998.zip\"\n",
      "2024-10-01 15:07:00,970 - INFO - Checking Target \"nswvg_aps_1999.zip\"\n",
      "2024-10-01 15:07:00,971 - INFO - Checking Target \"nswvg_aps_2000.zip\"\n",
      "2024-10-01 15:07:00,971 - INFO - Checking Target \"nswvg_aps_2001.zip\"\n",
      "2024-10-01 15:07:00,971 - INFO - Checking Target \"nswvg_aps_2002.zip\"\n",
      "2024-10-01 15:07:00,971 - INFO - Checking Target \"nswvg_aps_2003.zip\"\n",
      "2024-10-01 15:07:00,972 - INFO - Checking Target \"nswvg_aps_2004.zip\"\n",
      "2024-10-01 15:07:00,972 - INFO - Checking Target \"nswvg_aps_2005.zip\"\n",
      "2024-10-01 15:07:00,972 - INFO - Checking Target \"nswvg_aps_2006.zip\"\n",
      "2024-10-01 15:07:00,973 - INFO - Checking Target \"nswvg_aps_2007.zip\"\n",
      "2024-10-01 15:07:00,973 - INFO - Checking Target \"nswvg_aps_2008.zip\"\n",
      "2024-10-01 15:07:00,973 - INFO - Checking Target \"nswvg_aps_2009.zip\"\n",
      "2024-10-01 15:07:00,974 - INFO - Checking Target \"nswvg_aps_2010.zip\"\n",
      "2024-10-01 15:07:00,974 - INFO - Checking Target \"nswvg_aps_2011.zip\"\n",
      "2024-10-01 15:07:00,975 - INFO - Checking Target \"nswvg_aps_2012.zip\"\n",
      "2024-10-01 15:07:00,975 - INFO - Checking Target \"nswvg_aps_2013.zip\"\n",
      "2024-10-01 15:07:00,975 - INFO - Checking Target \"nswvg_aps_2014.zip\"\n",
      "2024-10-01 15:07:00,975 - INFO - Checking Target \"nswvg_aps_2015.zip\"\n",
      "2024-10-01 15:07:00,976 - INFO - Checking Target \"nswvg_aps_2016.zip\"\n",
      "2024-10-01 15:07:00,976 - INFO - Checking Target \"nswvg_aps_2017.zip\"\n",
      "2024-10-01 15:07:00,977 - INFO - Checking Target \"nswvg_aps_2018.zip\"\n",
      "2024-10-01 15:07:00,977 - INFO - Checking Target \"nswvg_aps_2019.zip\"\n",
      "2024-10-01 15:07:00,978 - INFO - Checking Target \"nswvg_aps_2020.zip\"\n",
      "2024-10-01 15:07:00,978 - INFO - Checking Target \"nswvg_aps_2021.zip\"\n",
      "2024-10-01 15:07:00,979 - INFO - Checking Target \"nswvg_aps_2022.zip\"\n",
      "2024-10-01 15:07:00,979 - INFO - Checking Target \"nswvg_aps_2023.zip\"\n"
     ]
    }
   ],
   "source": [
    "import logging\n",
    "from lib.service.io import IoService\n",
    "from lib.tasks.fetch_static_files import initialise, get_session\n",
    "\n",
    "logging.basicConfig(level=logging.INFO, format='%(asctime)s - %(levelname)s - %(message)s')\n",
    "\n",
    "io = IoService.create(None)\n",
    "async with get_session(io) as session:\n",
    "    environment = await initialise(io, session)\n",
    "\n",
    "land_value_dis = environment.land_value\n",
    "w_sale_price = environment.sale_price_weekly\n",
    "a_sale_price = environment.sale_price_annual\n",
    "gnaf_dis = environment.gnaf\n",
    "raise Exception()"
   ]
  },
  {
   "cell_type": "markdown",
   "id": "3dd30133-e9d7-4ebb-b14b-ff3536338475",
   "metadata": {},
   "source": [
    "## Create Container with Database\n",
    "\n",
    "Here we are creating a container in docker from an image that uses the postgres image, which also installs a few extensions.\n",
    "\n",
    "### Note\n",
    "\n",
    "This notebook this is designed to be run more than once, so it'll throw away any existing container and database before creating a new one. After getting rid of any container using the same identifer, it'll create a new one and pull the relevant image if it's not already installed. It'll wait till the postgres instance is live then create the database. "
   ]
  },
  {
   "cell_type": "code",
   "execution_count": 3,
   "id": "4f709233-e243-468b-971e-df23bfcc0113",
   "metadata": {},
   "outputs": [
    {
     "name": "stdout",
     "output_type": "stream",
     "text": [
      "running ./_out_zip/g-naf_aug24_allstates_gda2020_psv_1016/G-NAF/Extras/GNAF_TableCreation_Scripts/create_tables_ansi.sql\n",
      "running ./_out_zip/g-naf_aug24_allstates_gda2020_psv_1016/G-NAF/Extras/GNAF_TableCreation_Scripts/add_fk_constraints.sql\n",
      "running sql/move_gnaf_to_schema.sql\n"
     ]
    }
   ],
   "source": [
    "from lib.gnaf_db import GnafDb, GnafContainer, GnafImage\n",
    "from lib import notebook_constants as nc\n",
    "\n",
    "if GLOBAL_FLAGS['reinitialise_container']:\n",
    "    image = GnafImage.create(tag=docker_image_tag)\n",
    "    image.prepare()\n",
    "    \n",
    "    container = GnafContainer.create(container_name=docker_container_name, image=image)\n",
    "    container.clean()\n",
    "    container.prepare(db_conf, db_name)\n",
    "    container.start()\n",
    "else:\n",
    "    print('skipping container initialisation')\n",
    "\n",
    "gnaf_db = GnafDb.create(db_conf, db_name)\n",
    "gnaf_db.wait_till_running()\n",
    "\n",
    "if GLOBAL_FLAGS['reinitialise_container']:\n",
    "    gnaf_db.init_schema(gnaf_dis.publication)\n",
    "else:\n",
    "    print('skipping DB initialisation')\n",
    "    raise Exception()"
   ]
  },
  {
   "cell_type": "markdown",
   "id": "98949767-8727-4e9e-ad93-88ef38069e97",
   "metadata": {},
   "source": [
    "## Consume the ABS Shapefiles\n",
    "\n",
    "The [ABS provides a number of shape files][all abs shape files], we're going focus on 2 main sets of shapes. The **ABS Main Structures** which is stuff like SA1, 2, 3 & 4 along with greater cities, meshblocks, and states. As well as **Non ABS Main Structures** which is stuff like electoral divisions, suburbs post codes etc.\n",
    "\n",
    "[all abs shape files]: https://www.abs.gov.au/statistics/standards/australian-statistical-geography-standard-asgs-edition-3/jul2021-jun2026/access-and-downloads/digital-boundary-files\n",
    "\n",
    "### ABS Main Structures \n",
    "\n",
    "Any address or region we look up in the GNAF dataset, we want to visualise. The ABS has a few different geographic groups which we can visualise the data against, but each address in the GNAF dataset has a meshblock id, which is the smaller block the ABS breaks addresses up into for SA1, SA2, SA3 and SA4's.\n",
    "\n",
    "This dataset is pretty useful for visualising the GNAF data for that reason.\n",
    "\n",
    "### Non Abs Main Structures \n",
    "\n",
    "We are mostly ingesting these to make it simpler to narrow data of interest. Typically if you're looking at this data, you're probably doing it some scope of relevance, such as a local government area, an electorate division, or whatever."
   ]
  },
  {
   "cell_type": "code",
   "execution_count": null,
   "id": "76e9bba2-99c7-4db7-912f-4f1d817c3e8a",
   "metadata": {},
   "outputs": [],
   "source": [
    "from lib.tasks.ingest_abs import ingest\n",
    "\n",
    "await ingest(gnaf_db)"
   ]
  },
  {
   "cell_type": "markdown",
   "id": "cd88dacf-a7dc-4fc2-b0b7-c8c78c5d90ff",
   "metadata": {},
   "source": [
    "## Ingesting NSW Land Values\n",
    "\n",
    "First lets just get the CSV's into the database, then we'll break it up into seperates tables, then we'll form links with the GNAF dataset.\n",
    "\n",
    "#### Documentation on this dataset\n",
    "\n",
    "The valuer general website has a link to documentation on interpretting that data on [this page](https://www.nsw.gov.au/housing-and-construction/land-values-nsw/resource-library/land-value-information-user-guide). I didn't link to the PDF directly as it occasionally updated and a direct link is at risk of going stale.\n",
    "\n",
    "It's useful getting the meaning behind the codes and terms used in the bulk data.\n"
   ]
  },
  {
   "cell_type": "markdown",
   "id": "25d53250-00db-4582-a6de-3f15be72d14a",
   "metadata": {},
   "source": [
    "### Build the `nsw_valuer_general.raw_entries_lv` table\n",
    "\n",
    "Here we are just loading the each file from the latest land value publication with minimal changes, and a bit of sanitisizing."
   ]
  },
  {
   "cell_type": "code",
   "execution_count": 6,
   "id": "c9231a7c-ed31-4016-8e30-d052ad83294f",
   "metadata": {},
   "outputs": [
    {
     "name": "stdout",
     "output_type": "stream",
     "text": [
      "2024-10-01 15:11:03 Consumed _out_zip/nswvg_lv_01_Oct_2024/052_LAND_VALUE_DATA_20241001.csv, raw_entries_lv 5253\n",
      "2024-10-01 15:11:04 Consumed _out_zip/nswvg_lv_01_Oct_2024/054_LAND_VALUE_DATA_20241001.csv, raw_entries_lv 8453\n",
      "2024-10-01 15:11:04 Consumed _out_zip/nswvg_lv_01_Oct_2024/061_LAND_VALUE_DATA_20241001.csv, raw_entries_lv 8453\n",
      "2024-10-01 15:11:04 Consumed _out_zip/nswvg_lv_01_Oct_2024/043_LAND_VALUE_DATA_20241001.csv, raw_entries_lv 11240\n",
      "2024-10-01 15:11:04 Consumed _out_zip/nswvg_lv_01_Oct_2024/051_LAND_VALUE_DATA_20241001.csv, raw_entries_lv 16451\n",
      "2024-10-01 15:11:05 Consumed _out_zip/nswvg_lv_01_Oct_2024/066_LAND_VALUE_DATA_20241001.csv, raw_entries_lv 19136\n",
      "2024-10-01 15:11:05 Consumed _out_zip/nswvg_lv_01_Oct_2024/070_LAND_VALUE_DATA_20241001.csv, raw_entries_lv 22968\n",
      "2024-10-01 15:11:05 Consumed _out_zip/nswvg_lv_01_Oct_2024/065_LAND_VALUE_DATA_20241001.csv, raw_entries_lv 28267\n",
      "2024-10-01 15:11:05 Consumed _out_zip/nswvg_lv_01_Oct_2024/083_LAND_VALUE_DATA_20241001.csv, raw_entries_lv 31987\n",
      "2024-10-01 15:11:11 Consumed _out_zip/nswvg_lv_01_Oct_2024/012_LAND_VALUE_DATA_20241001.csv, raw_entries_lv 43048\n",
      "2024-10-01 15:11:11 Consumed _out_zip/nswvg_lv_01_Oct_2024/018_LAND_VALUE_DATA_20241001.csv, raw_entries_lv 70410\n",
      "2024-10-01 15:11:11 Consumed _out_zip/nswvg_lv_01_Oct_2024/007_LAND_VALUE_DATA_20241001.csv, raw_entries_lv 70410\n",
      "2024-10-01 15:11:12 Consumed _out_zip/nswvg_lv_01_Oct_2024/082_LAND_VALUE_DATA_20241001.csv, raw_entries_lv 111894\n",
      "2024-10-01 15:11:13 Consumed _out_zip/nswvg_lv_01_Oct_2024/074_LAND_VALUE_DATA_20241001.csv, raw_entries_lv 123303\n",
      "2024-10-01 15:11:15 Consumed _out_zip/nswvg_lv_01_Oct_2024/085_LAND_VALUE_DATA_20241001.csv, raw_entries_lv 131090\n",
      "2024-10-01 15:11:15 Consumed _out_zip/nswvg_lv_01_Oct_2024/002_LAND_VALUE_DATA_20241001.csv, raw_entries_lv 136521\n"
     ]
    },
    {
     "name": "stderr",
     "output_type": "stream",
     "text": [
      "/var/folders/l1/1wl5vmds75qfv945_bs13x6w0000gn/T/ipykernel_23456/1563102915.py:30: DtypeWarning: Columns (5) have mixed types. Specify dtype option on import or set low_memory=False.\n",
      "  df = pd.read_csv(full_file_path, encoding='utf-8')\n"
     ]
    },
    {
     "name": "stdout",
     "output_type": "stream",
     "text": [
      "2024-10-01 15:11:16 Consumed _out_zip/nswvg_lv_01_Oct_2024/050_LAND_VALUE_DATA_20241001.csv, raw_entries_lv 161320\n"
     ]
    },
    {
     "name": "stderr",
     "output_type": "stream",
     "text": [
      "/var/folders/l1/1wl5vmds75qfv945_bs13x6w0000gn/T/ipykernel_23456/1563102915.py:30: DtypeWarning: Columns (5) have mixed types. Specify dtype option on import or set low_memory=False.\n",
      "  df = pd.read_csv(full_file_path, encoding='utf-8')\n"
     ]
    },
    {
     "name": "stdout",
     "output_type": "stream",
     "text": [
      "2024-10-01 15:11:19 Consumed _out_zip/nswvg_lv_01_Oct_2024/010_LAND_VALUE_DATA_20241001.csv, raw_entries_lv 193061\n"
     ]
    },
    {
     "name": "stderr",
     "output_type": "stream",
     "text": [
      "/var/folders/l1/1wl5vmds75qfv945_bs13x6w0000gn/T/ipykernel_23456/1563102915.py:30: DtypeWarning: Columns (5) have mixed types. Specify dtype option on import or set low_memory=False.\n",
      "  df = pd.read_csv(full_file_path, encoding='utf-8')\n"
     ]
    },
    {
     "name": "stdout",
     "output_type": "stream",
     "text": [
      "2024-10-01 15:11:22 Consumed _out_zip/nswvg_lv_01_Oct_2024/088_LAND_VALUE_DATA_20241001.csv, raw_entries_lv 210924\n",
      "2024-10-01 15:11:22 Consumed _out_zip/nswvg_lv_01_Oct_2024/042_LAND_VALUE_DATA_20241001.csv, raw_entries_lv 210924\n",
      "2024-10-01 15:11:30 Consumed _out_zip/nswvg_lv_01_Oct_2024/084_LAND_VALUE_DATA_20241001.csv, raw_entries_lv 244529\n",
      "2024-10-01 15:11:30 Consumed _out_zip/nswvg_lv_01_Oct_2024/005_LAND_VALUE_DATA_20241001.csv, raw_entries_lv 282169\n",
      "2024-10-01 15:11:31 Consumed _out_zip/nswvg_lv_01_Oct_2024/008_LAND_VALUE_DATA_20241001.csv, raw_entries_lv 341180\n",
      "2024-10-01 15:11:32 Consumed _out_zip/nswvg_lv_01_Oct_2024/090_LAND_VALUE_DATA_20241001.csv, raw_entries_lv 367657\n",
      "2024-10-01 15:11:34 Consumed _out_zip/nswvg_lv_01_Oct_2024/087_LAND_VALUE_DATA_20241001.csv, raw_entries_lv 374564\n",
      "2024-10-01 15:11:35 Consumed _out_zip/nswvg_lv_01_Oct_2024/118_LAND_VALUE_DATA_20241001.csv, raw_entries_lv 378840\n",
      "2024-10-01 15:11:36 Consumed _out_zip/nswvg_lv_01_Oct_2024/123_LAND_VALUE_DATA_20241001.csv, raw_entries_lv 391245\n",
      "2024-10-01 15:11:36 Consumed _out_zip/nswvg_lv_01_Oct_2024/116_LAND_VALUE_DATA_20241001.csv, raw_entries_lv 391245\n",
      "2024-10-01 15:11:37 Consumed _out_zip/nswvg_lv_01_Oct_2024/001_LAND_VALUE_DATA_20241001.csv, raw_entries_lv 420763\n"
     ]
    },
    {
     "name": "stderr",
     "output_type": "stream",
     "text": [
      "/var/folders/l1/1wl5vmds75qfv945_bs13x6w0000gn/T/ipykernel_23456/1563102915.py:30: DtypeWarning: Columns (5) have mixed types. Specify dtype option on import or set low_memory=False.\n",
      "  df = pd.read_csv(full_file_path, encoding='utf-8')\n"
     ]
    },
    {
     "name": "stdout",
     "output_type": "stream",
     "text": [
      "2024-10-01 15:11:40 Consumed _out_zip/nswvg_lv_01_Oct_2024/117_LAND_VALUE_DATA_20241001.csv, raw_entries_lv 436069\n",
      "2024-10-01 15:11:41 Consumed _out_zip/nswvg_lv_01_Oct_2024/098_LAND_VALUE_DATA_20241001.csv, raw_entries_lv 436069\n",
      "2024-10-01 15:11:42 Consumed _out_zip/nswvg_lv_01_Oct_2024/109_LAND_VALUE_DATA_20241001.csv, raw_entries_lv 443516\n",
      "2024-10-01 15:11:43 Consumed _out_zip/nswvg_lv_01_Oct_2024/137_LAND_VALUE_DATA_20241001.csv, raw_entries_lv 451236\n",
      "2024-10-01 15:11:44 Consumed _out_zip/nswvg_lv_01_Oct_2024/143_LAND_VALUE_DATA_20241001.csv, raw_entries_lv 458628\n",
      "2024-10-01 15:11:48 Consumed _out_zip/nswvg_lv_01_Oct_2024/102_LAND_VALUE_DATA_20241001.csv, raw_entries_lv 483635\n",
      "2024-10-01 15:11:51 Consumed _out_zip/nswvg_lv_01_Oct_2024/124_LAND_VALUE_DATA_20241001.csv, raw_entries_lv 520344\n",
      "2024-10-01 15:11:52 Consumed _out_zip/nswvg_lv_01_Oct_2024/092_LAND_VALUE_DATA_20241001.csv, raw_entries_lv 520344\n",
      "2024-10-01 15:11:52 Consumed _out_zip/nswvg_lv_01_Oct_2024/149_LAND_VALUE_DATA_20241001.csv, raw_entries_lv 526727\n",
      "2024-10-01 15:11:53 Consumed _out_zip/nswvg_lv_01_Oct_2024/139_LAND_VALUE_DATA_20241001.csv, raw_entries_lv 544941\n",
      "2024-10-01 15:11:55 Consumed _out_zip/nswvg_lv_01_Oct_2024/004_LAND_VALUE_DATA_20241001.csv, raw_entries_lv 6590992024-10-01 15:11:55 Consumed _out_zip/nswvg_lv_01_Oct_2024/100_LAND_VALUE_DATA_20241001.csv, raw_entries_lv 659099\n",
      "\n"
     ]
    },
    {
     "name": "stderr",
     "output_type": "stream",
     "text": [
      "/var/folders/l1/1wl5vmds75qfv945_bs13x6w0000gn/T/ipykernel_23456/1563102915.py:30: DtypeWarning: Columns (5) have mixed types. Specify dtype option on import or set low_memory=False.\n",
      "  df = pd.read_csv(full_file_path, encoding='utf-8')\n"
     ]
    },
    {
     "name": "stdout",
     "output_type": "stream",
     "text": [
      "2024-10-01 15:11:57 Consumed _out_zip/nswvg_lv_01_Oct_2024/151_LAND_VALUE_DATA_20241001.csv, raw_entries_lv 669677\n",
      "2024-10-01 15:11:59 Consumed _out_zip/nswvg_lv_01_Oct_2024/150_LAND_VALUE_DATA_20241001.csv, raw_entries_lv 708740\n",
      "2024-10-01 15:12:00 Consumed _out_zip/nswvg_lv_01_Oct_2024/097_LAND_VALUE_DATA_20241001.csv, raw_entries_lv 714240\n",
      "2024-10-01 15:12:00 Consumed _out_zip/nswvg_lv_01_Oct_2024/158_LAND_VALUE_DATA_20241001.csv, raw_entries_lv 714240\n"
     ]
    },
    {
     "name": "stderr",
     "output_type": "stream",
     "text": [
      "/var/folders/l1/1wl5vmds75qfv945_bs13x6w0000gn/T/ipykernel_23456/1563102915.py:30: DtypeWarning: Columns (5) have mixed types. Specify dtype option on import or set low_memory=False.\n",
      "  df = pd.read_csv(full_file_path, encoding='utf-8')\n"
     ]
    },
    {
     "name": "stdout",
     "output_type": "stream",
     "text": [
      "2024-10-01 15:12:01 Consumed _out_zip/nswvg_lv_01_Oct_2024/148_LAND_VALUE_DATA_20241001.csv, raw_entries_lv 731153\n",
      "2024-10-01 15:12:04 Consumed _out_zip/nswvg_lv_01_Oct_2024/164_LAND_VALUE_DATA_20241001.csv, raw_entries_lv 762777\n",
      "2024-10-01 15:12:04 Consumed _out_zip/nswvg_lv_01_Oct_2024/157_LAND_VALUE_DATA_20241001.csv, raw_entries_lv 762777\n",
      "2024-10-01 15:12:05 Consumed _out_zip/nswvg_lv_01_Oct_2024/187_LAND_VALUE_DATA_20241001.csv, raw_entries_lv 762777\n",
      "2024-10-01 15:12:06 Consumed _out_zip/nswvg_lv_01_Oct_2024/188_LAND_VALUE_DATA_20241001.csv, raw_entries_lv 774912\n",
      "2024-10-01 15:12:06 Consumed _out_zip/nswvg_lv_01_Oct_2024/199_LAND_VALUE_DATA_20241001.csv, raw_entries_lv 781720\n",
      "2024-10-01 15:12:06 Consumed _out_zip/nswvg_lv_01_Oct_2024/192_LAND_VALUE_DATA_20241001.csv, raw_entries_lv 781720\n"
     ]
    },
    {
     "name": "stderr",
     "output_type": "stream",
     "text": [
      "/var/folders/l1/1wl5vmds75qfv945_bs13x6w0000gn/T/ipykernel_23456/1563102915.py:30: DtypeWarning: Columns (5) have mixed types. Specify dtype option on import or set low_memory=False.\n",
      "  df = pd.read_csv(full_file_path, encoding='utf-8')\n"
     ]
    },
    {
     "name": "stdout",
     "output_type": "stream",
     "text": [
      "2024-10-01 15:12:13 Consumed _out_zip/nswvg_lv_01_Oct_2024/159_LAND_VALUE_DATA_20241001.csv, raw_entries_lv 800634\n",
      "2024-10-01 15:12:15 Consumed _out_zip/nswvg_lv_01_Oct_2024/209_LAND_VALUE_DATA_20241001.csv, raw_entries_lv 842929\n",
      "2024-10-01 15:12:15 Consumed _out_zip/nswvg_lv_01_Oct_2024/152_LAND_VALUE_DATA_20241001.csv, raw_entries_lv 842929\n",
      "2024-10-01 15:12:16 Consumed _out_zip/nswvg_lv_01_Oct_2024/210_LAND_VALUE_DATA_20241001.csv, raw_entries_lv 856274\n",
      "2024-10-01 15:12:19 Consumed _out_zip/nswvg_lv_01_Oct_2024/081_LAND_VALUE_DATA_20241001.csv, raw_entries_lv 919214\n",
      "2024-10-01 15:12:25 Consumed _out_zip/nswvg_lv_01_Oct_2024/171_LAND_VALUE_DATA_20241001.csv, raw_entries_lv 951146\n",
      "2024-10-01 15:12:27 Consumed _out_zip/nswvg_lv_01_Oct_2024/230_LAND_VALUE_DATA_20241001.csv, raw_entries_lv 952792\n",
      "2024-10-01 15:12:29 Consumed _out_zip/nswvg_lv_01_Oct_2024/222_LAND_VALUE_DATA_20241001.csv, raw_entries_lv 964930\n",
      "2024-10-01 15:12:31 Consumed _out_zip/nswvg_lv_01_Oct_2024/207_LAND_VALUE_DATA_20241001.csv, raw_entries_lv 991568\n",
      "2024-10-01 15:12:32 Consumed _out_zip/nswvg_lv_01_Oct_2024/101_LAND_VALUE_DATA_20241001.csv, raw_entries_lv 1052459\n",
      "2024-10-01 15:12:35 Consumed _out_zip/nswvg_lv_01_Oct_2024/233_LAND_VALUE_DATA_20241001.csv, raw_entries_lv 1055778\n",
      "2024-10-01 15:12:35 Consumed _out_zip/nswvg_lv_01_Oct_2024/232_LAND_VALUE_DATA_20241001.csv, raw_entries_lv 1055778\n",
      "2024-10-01 15:12:36 Consumed _out_zip/nswvg_lv_01_Oct_2024/231_LAND_VALUE_DATA_20241001.csv, raw_entries_lv 1148679\n",
      "2024-10-01 15:12:37 Consumed _out_zip/nswvg_lv_01_Oct_2024/219_LAND_VALUE_DATA_20241001.csv, raw_entries_lv 11486792024-10-01 15:12:37 Consumed _out_zip/nswvg_lv_01_Oct_2024/144_LAND_VALUE_DATA_20241001.csv, raw_entries_lv 1148679\n",
      "\n",
      "2024-10-01 15:12:40 Consumed _out_zip/nswvg_lv_01_Oct_2024/235_LAND_VALUE_DATA_20241001.csv, raw_entries_lv 1150558\n",
      "2024-10-01 15:12:42 Consumed _out_zip/nswvg_lv_01_Oct_2024/226_LAND_VALUE_DATA_20241001.csv, raw_entries_lv 1245977\n",
      "2024-10-01 15:12:43 Consumed _out_zip/nswvg_lv_01_Oct_2024/239_LAND_VALUE_DATA_20241001.csv, raw_entries_lv 1253875\n",
      "2024-10-01 15:12:43 Consumed _out_zip/nswvg_lv_01_Oct_2024/103_LAND_VALUE_DATA_20241001.csv, raw_entries_lv 1253875\n",
      "2024-10-01 15:12:43 Consumed _out_zip/nswvg_lv_01_Oct_2024/243_LAND_VALUE_DATA_20241001.csv, raw_entries_lv 1253875\n",
      "2024-10-01 15:12:44 Consumed _out_zip/nswvg_lv_01_Oct_2024/238_LAND_VALUE_DATA_20241001.csv, raw_entries_lv 1267008\n",
      "2024-10-01 15:12:44 Consumed _out_zip/nswvg_lv_01_Oct_2024/236_LAND_VALUE_DATA_20241001.csv, raw_entries_lv 1253875\n",
      "2024-10-01 15:12:45 Consumed _out_zip/nswvg_lv_01_Oct_2024/240_LAND_VALUE_DATA_20241001.csv, raw_entries_lv 1267008\n",
      "2024-10-01 15:12:45 Consumed _out_zip/nswvg_lv_01_Oct_2024/234_LAND_VALUE_DATA_20241001.csv, raw_entries_lv 1267008\n"
     ]
    },
    {
     "name": "stderr",
     "output_type": "stream",
     "text": [
      "/var/folders/l1/1wl5vmds75qfv945_bs13x6w0000gn/T/ipykernel_23456/1563102915.py:30: DtypeWarning: Columns (4,5) have mixed types. Specify dtype option on import or set low_memory=False.\n",
      "  df = pd.read_csv(full_file_path, encoding='utf-8')\n"
     ]
    },
    {
     "name": "stdout",
     "output_type": "stream",
     "text": [
      "2024-10-01 15:12:47 Consumed _out_zip/nswvg_lv_01_Oct_2024/216_LAND_VALUE_DATA_20241001.csv, raw_entries_lv 1304265\n",
      "2024-10-01 15:12:48 Consumed _out_zip/nswvg_lv_01_Oct_2024/252_LAND_VALUE_DATA_20241001.csv, raw_entries_lv 1310670\n",
      "2024-10-01 15:12:49 Consumed _out_zip/nswvg_lv_01_Oct_2024/244_LAND_VALUE_DATA_20241001.csv, raw_entries_lv 1310670\n",
      "2024-10-01 15:12:51 Consumed _out_zip/nswvg_lv_01_Oct_2024/251_LAND_VALUE_DATA_20241001.csv, raw_entries_lv 13163632024-10-01 15:12:51 Consumed _out_zip/nswvg_lv_01_Oct_2024/254_LAND_VALUE_DATA_20241001.csv, raw_entries_lv 1316363\n",
      "\n",
      "2024-10-01 15:12:53 Consumed _out_zip/nswvg_lv_01_Oct_2024/247_LAND_VALUE_DATA_20241001.csv, raw_entries_lv 1334244\n",
      "2024-10-01 15:12:54 Consumed _out_zip/nswvg_lv_01_Oct_2024/253_LAND_VALUE_DATA_20241001.csv, raw_entries_lv 1334244\n",
      "2024-10-01 15:12:54 Consumed _out_zip/nswvg_lv_01_Oct_2024/250_LAND_VALUE_DATA_20241001.csv, raw_entries_lv 1338834\n",
      "2024-10-01 15:12:54 Consumed _out_zip/nswvg_lv_01_Oct_2024/255_LAND_VALUE_DATA_20241001.csv, raw_entries_lv 1385030\n",
      "2024-10-01 15:12:55 Consumed _out_zip/nswvg_lv_01_Oct_2024/217_LAND_VALUE_DATA_20241001.csv, raw_entries_lv 1385030\n"
     ]
    },
    {
     "name": "stderr",
     "output_type": "stream",
     "text": [
      "/var/folders/l1/1wl5vmds75qfv945_bs13x6w0000gn/T/ipykernel_23456/1563102915.py:30: DtypeWarning: Columns (5) have mixed types. Specify dtype option on import or set low_memory=False.\n",
      "  df = pd.read_csv(full_file_path, encoding='utf-8')\n"
     ]
    },
    {
     "name": "stdout",
     "output_type": "stream",
     "text": [
      "2024-10-01 15:13:00 Consumed _out_zip/nswvg_lv_01_Oct_2024/262_LAND_VALUE_DATA_20241001.csv, raw_entries_lv 14613792024-10-01 15:13:00 Consumed _out_zip/nswvg_lv_01_Oct_2024/257_LAND_VALUE_DATA_20241001.csv, raw_entries_lv 1461379\n",
      "\n",
      "2024-10-01 15:13:01 Consumed _out_zip/nswvg_lv_01_Oct_2024/218_LAND_VALUE_DATA_20241001.csv, raw_entries_lv 1461379\n",
      "2024-10-01 15:13:04 Consumed _out_zip/nswvg_lv_01_Oct_2024/263_LAND_VALUE_DATA_20241001.csv, raw_entries_lv 1523367\n",
      "2024-10-01 15:13:05 Consumed _out_zip/nswvg_lv_01_Oct_2024/220_LAND_VALUE_DATA_20241001.csv, raw_entries_lv 1530112\n",
      "2024-10-01 15:13:05 Consumed _out_zip/nswvg_lv_01_Oct_2024/265_LAND_VALUE_DATA_20241001.csv, raw_entries_lv 1530112\n",
      "2024-10-01 15:13:06 Consumed _out_zip/nswvg_lv_01_Oct_2024/266_LAND_VALUE_DATA_20241001.csv, raw_entries_lv 1541892\n",
      "2024-10-01 15:13:07 Consumed _out_zip/nswvg_lv_01_Oct_2024/270_LAND_VALUE_DATA_20241001.csv, raw_entries_lv 1544489\n"
     ]
    },
    {
     "name": "stderr",
     "output_type": "stream",
     "text": [
      "/var/folders/l1/1wl5vmds75qfv945_bs13x6w0000gn/T/ipykernel_23456/1563102915.py:30: DtypeWarning: Columns (5) have mixed types. Specify dtype option on import or set low_memory=False.\n",
      "  df = pd.read_csv(full_file_path, encoding='utf-8')\n",
      "/var/folders/l1/1wl5vmds75qfv945_bs13x6w0000gn/T/ipykernel_23456/1563102915.py:30: DtypeWarning: Columns (5) have mixed types. Specify dtype option on import or set low_memory=False.\n",
      "  df = pd.read_csv(full_file_path, encoding='utf-8')\n"
     ]
    },
    {
     "name": "stdout",
     "output_type": "stream",
     "text": [
      "2024-10-01 15:13:11 Consumed _out_zip/nswvg_lv_01_Oct_2024/269_LAND_VALUE_DATA_20241001.csv, raw_entries_lv 1553432\n",
      "2024-10-01 15:13:16 Consumed _out_zip/nswvg_lv_01_Oct_2024/274_LAND_VALUE_DATA_20241001.csv, raw_entries_lv 16304302024-10-01 15:13:16 Consumed _out_zip/nswvg_lv_01_Oct_2024/223_LAND_VALUE_DATA_20241001.csv, raw_entries_lv 1630430\n",
      "\n",
      "2024-10-01 15:13:18 Consumed _out_zip/nswvg_lv_01_Oct_2024/224_LAND_VALUE_DATA_20241001.csv, raw_entries_lv 1697780\n",
      "2024-10-01 15:13:18 Consumed _out_zip/nswvg_lv_01_Oct_2024/273_LAND_VALUE_DATA_20241001.csv, raw_entries_lv 1712189\n",
      "2024-10-01 15:13:25 Consumed _out_zip/nswvg_lv_01_Oct_2024/300_LAND_VALUE_DATA_20241001.csv, raw_entries_lv 1715522\n",
      "2024-10-01 15:13:26 Consumed _out_zip/nswvg_lv_01_Oct_2024/301_LAND_VALUE_DATA_20241001.csv, raw_entries_lv 1720087\n"
     ]
    },
    {
     "name": "stderr",
     "output_type": "stream",
     "text": [
      "/var/folders/l1/1wl5vmds75qfv945_bs13x6w0000gn/T/ipykernel_23456/1563102915.py:30: DtypeWarning: Columns (5) have mixed types. Specify dtype option on import or set low_memory=False.\n",
      "  df = pd.read_csv(full_file_path, encoding='utf-8')\n"
     ]
    },
    {
     "name": "stdout",
     "output_type": "stream",
     "text": [
      "2024-10-01 15:13:29 Consumed _out_zip/nswvg_lv_01_Oct_2024/264_LAND_VALUE_DATA_20241001.csv, raw_entries_lv 1761482\n",
      "2024-10-01 15:13:31 Consumed _out_zip/nswvg_lv_01_Oct_2024/302_LAND_VALUE_DATA_20241001.csv, raw_entries_lv 1761482\n",
      "2024-10-01 15:13:32 Consumed _out_zip/nswvg_lv_01_Oct_2024/272_LAND_VALUE_DATA_20241001.csv, raw_entries_lv 1787094\n"
     ]
    },
    {
     "name": "stderr",
     "output_type": "stream",
     "text": [
      "/var/folders/l1/1wl5vmds75qfv945_bs13x6w0000gn/T/ipykernel_23456/1563102915.py:30: DtypeWarning: Columns (5) have mixed types. Specify dtype option on import or set low_memory=False.\n",
      "  df = pd.read_csv(full_file_path, encoding='utf-8')\n"
     ]
    },
    {
     "name": "stdout",
     "output_type": "stream",
     "text": [
      "2024-10-01 15:13:38 Consumed _out_zip/nswvg_lv_01_Oct_2024/260_LAND_VALUE_DATA_20241001.csv, raw_entries_lv 1836184\n",
      "2024-10-01 15:13:40 Consumed _out_zip/nswvg_lv_01_Oct_2024/275_LAND_VALUE_DATA_20241001.csv, raw_entries_lv 1861077\n",
      "2024-10-01 15:13:42 Consumed _out_zip/nswvg_lv_01_Oct_2024/526_LAND_VALUE_DATA_20241001.csv, raw_entries_lv 1868074\n"
     ]
    },
    {
     "name": "stderr",
     "output_type": "stream",
     "text": [
      "/var/folders/l1/1wl5vmds75qfv945_bs13x6w0000gn/T/ipykernel_23456/1563102915.py:30: DtypeWarning: Columns (5) have mixed types. Specify dtype option on import or set low_memory=False.\n",
      "  df = pd.read_csv(full_file_path, encoding='utf-8')\n"
     ]
    },
    {
     "name": "stdout",
     "output_type": "stream",
     "text": [
      "2024-10-01 15:13:43 Consumed _out_zip/nswvg_lv_01_Oct_2024/261_LAND_VALUE_DATA_20241001.csv, raw_entries_lv 1927427\n",
      "2024-10-01 15:13:43 Consumed _out_zip/nswvg_lv_01_Oct_2024/511_LAND_VALUE_DATA_20241001.csv, raw_entries_lv 1927427\n",
      "2024-10-01 15:13:46 Consumed _out_zip/nswvg_lv_01_Oct_2024/528_LAND_VALUE_DATA_20241001.csv, raw_entries_lv 1935882\n",
      "2024-10-01 15:13:47 Consumed _out_zip/nswvg_lv_01_Oct_2024/537_LAND_VALUE_DATA_20241001.csv, raw_entries_lv 1942270\n",
      "2024-10-01 15:13:50 Consumed _out_zip/nswvg_lv_01_Oct_2024/538_LAND_VALUE_DATA_20241001.csv, raw_entries_lv 1946180\n",
      "2024-10-01 15:13:55 Consumed _out_zip/nswvg_lv_01_Oct_2024/267_LAND_VALUE_DATA_20241001.csv, raw_entries_lv 1997702\n",
      "2024-10-01 15:13:58 Consumed _out_zip/nswvg_lv_01_Oct_2024/560_LAND_VALUE_DATA_20241001.csv, raw_entries_lv 2021683\n",
      "2024-10-01 15:13:59 Consumed _out_zip/nswvg_lv_01_Oct_2024/529_LAND_VALUE_DATA_20241001.csv, raw_entries_lv 2021683\n",
      "2024-10-01 15:14:00 Consumed _out_zip/nswvg_lv_01_Oct_2024/303_LAND_VALUE_DATA_20241001.csv, raw_entries_lv 2048733\n",
      "2024-10-01 15:14:01 Consumed _out_zip/nswvg_lv_01_Oct_2024/276_LAND_VALUE_DATA_20241001.csv, raw_entries_lv 2081740\n",
      "2024-10-01 15:14:03 Consumed _out_zip/nswvg_lv_01_Oct_2024/214_LAND_VALUE_DATA_20241001.csv, raw_entries_lv 2206535\n",
      "2024-10-01 15:14:04 Consumed _out_zip/nswvg_lv_01_Oct_2024/268_LAND_VALUE_DATA_20241001.csv, raw_entries_lv 2259951\n",
      "2024-10-01 15:14:05 Consumed _out_zip/nswvg_lv_01_Oct_2024/620_LAND_VALUE_DATA_20241001.csv, raw_entries_lv 2275032\n",
      "2024-10-01 15:14:12 Consumed _out_zip/nswvg_lv_01_Oct_2024/608_LAND_VALUE_DATA_20241001.csv, raw_entries_lv 2295096\n",
      "2024-10-01 15:14:14 Consumed _out_zip/nswvg_lv_01_Oct_2024/258_LAND_VALUE_DATA_20241001.csv, raw_entries_lv 2384658\n",
      "2024-10-01 15:14:19 Consumed _out_zip/nswvg_lv_01_Oct_2024/271_LAND_VALUE_DATA_20241001.csv, raw_entries_lv 2453361\n",
      "2024-10-01 15:14:20 Consumed _out_zip/nswvg_lv_01_Oct_2024/575_LAND_VALUE_DATA_20241001.csv, raw_entries_lv 2482613\n",
      "2024-10-01 15:14:22 Consumed _out_zip/nswvg_lv_01_Oct_2024/666_LAND_VALUE_DATA_20241001.csv, raw_entries_lv 2511946\n",
      "2024-10-01 15:14:22 Consumed _out_zip/nswvg_lv_01_Oct_2024/708_LAND_VALUE_DATA_20241001.csv, raw_entries_lv 2540086\n",
      "2024-10-01 15:14:24 Consumed _out_zip/nswvg_lv_01_Oct_2024/656_LAND_VALUE_DATA_20241001.csv, raw_entries_lv 2574895\n",
      "2024-10-01 15:14:30 Consumed _out_zip/nswvg_lv_01_Oct_2024/259_LAND_VALUE_DATA_20241001.csv, raw_entries_lv 2703626\n"
     ]
    }
   ],
   "source": [
    "from datetime import datetime\n",
    "import os\n",
    "import math\n",
    "import pandas as pd\n",
    "from concurrent.futures import ThreadPoolExecutor, as_completed\n",
    "from sqlalchemy import text\n",
    "\n",
    "from lib import notebook_constants as nc\n",
    "\n",
    "with gnaf_db.connect() as conn:\n",
    "    cursor = conn.cursor()\n",
    "    cursor.execute(\"DROP TABLE IF EXISTS nsw_valuer_general.raw_entries_lv CASCADE\")\n",
    "    with open('sql/nsw_lv_schema_1_raw.sql', 'r') as f:\n",
    "        cursor.execute(f.read())\n",
    "    cursor.close()\n",
    "            \n",
    "column_mappings = { **nc.lv_long_column_mappings, **nc.lv_wide_columns_mappings }\n",
    "\n",
    "def count(table, source = None):\n",
    "    c = pd.read_sql(f'SELECT count(*) FROM nsw_valuer_general.{table}', gnaf_db.engine())\n",
    "    time = datetime.now().strftime(\"%Y-%m-%d %H:%M:%S\")\n",
    "    print(f'{time} {source and f\"{source}, \" or \"\"}{table} {c.iloc[0,0]}')\n",
    "\n",
    "def process_file(file):\n",
    "    if not file.endswith(\"csv\"):\n",
    "        return\n",
    "\n",
    "    full_file_path = f\"_out_zip/{land_value_dis.latest.zip_dst}/{file}\"\n",
    "    try:\n",
    "        df = pd.read_csv(full_file_path, encoding='utf-8')\n",
    "    except UnicodeDecodeError:\n",
    "        # Fallback to ISO-8859-1 encoding if utf-8 fails\n",
    "        df = pd.read_csv(full_file_path, encoding='ISO-8859-1')\n",
    "\n",
    "    date_str = file.split('_')[-1].replace('.csv', '')\n",
    "    \n",
    "    df.index.name = 'source_file_position'\n",
    "    df = df.drop(columns=['Unnamed: 34'])\n",
    "    df = df.rename(columns=column_mappings).reset_index()\n",
    "    df['source_file_name'] = file\n",
    "    df['source_date'] = datetime.strptime(date_str, \"%Y%m%d\")\n",
    "    df['postcode'] = [(n if math.isnan(n) else str(int(n))) for n in df['postcode']]\n",
    "    \n",
    "    try:\n",
    "        df.to_sql('raw_entries_lv', gnaf_db.engine(), schema='nsw_valuer_general', if_exists='append', index=False)\n",
    "    finally:\n",
    "        count('raw_entries_lv', f'Consumed {full_file_path}')\n",
    "\n",
    "files = sorted(os.listdir(f\"_out_zip/{land_value_dis.latest.zip_dst}\"))\n",
    "\n",
    "with ThreadPoolExecutor(max_workers=os.cpu_count()) as executor:\n",
    "    futures = [executor.submit(process_file, file) for file in files]\n",
    "    for future in as_completed(futures):\n",
    "        future.result()"
   ]
  },
  {
   "cell_type": "markdown",
   "id": "9b508ff7-bc8e-42fd-ae04-9c17ca41277e",
   "metadata": {},
   "source": [
    "### Break CSV data into sepreate relations\n",
    "\n",
    "Just to break up the data into more efficent representations of the data, and data that will be easier to query, we're going to perform a series of queries against the GNAF data before using it populate the tables we care about."
   ]
  },
  {
   "cell_type": "code",
   "execution_count": 7,
   "id": "f7fd41df-6ac9-4af7-bf21-2efe785c4313",
   "metadata": {},
   "outputs": [
    {
     "name": "stdout",
     "output_type": "stream",
     "text": [
      "2024-10-01 15:16:17 district 128\n",
      "2024-10-01 15:16:17 suburb 5074\n",
      "2024-10-01 15:16:17 street 128458\n",
      "2024-10-01 15:16:17 property 2703626\n",
      "2024-10-01 15:16:17 property_description 2703626\n",
      "2024-10-01 15:16:18 valuations 13518130\n"
     ]
    }
   ],
   "source": [
    "from datetime import datetime\n",
    "import os\n",
    "import math\n",
    "import pandas as pd\n",
    "from concurrent.futures import ThreadPoolExecutor, as_completed\n",
    "from sqlalchemy import text\n",
    "\n",
    "with gnaf_db.connect() as conn:\n",
    "    cursor = conn.cursor()\n",
    "    cursor.execute(\"DROP TABLE IF EXISTS nsw_valuer_general.source_file CASCADE\")\n",
    "    cursor.execute(\"DROP TABLE IF EXISTS nsw_valuer_general.source CASCADE\")\n",
    "    cursor.execute(\"DROP TABLE IF EXISTS nsw_valuer_general.district CASCADE\")\n",
    "    cursor.execute(\"DROP TABLE IF EXISTS nsw_valuer_general.suburb CASCADE\")\n",
    "    cursor.execute(\"DROP TABLE IF EXISTS nsw_valuer_general.street CASCADE\")\n",
    "    cursor.execute(\"DROP TABLE IF EXISTS nsw_valuer_general.property CASCADE\")\n",
    "    cursor.execute(\"DROP TABLE IF EXISTS nsw_valuer_general.property_description CASCADE\")\n",
    "    cursor.execute(\"DROP TABLE IF EXISTS nsw_valuer_general.valuations CASCADE\")\n",
    "    \n",
    "    with open('sql/nsw_lv_schema_2_structure.sql', 'r') as f:\n",
    "        cursor.execute(f.read())\n",
    "        \n",
    "    with open('sql/nsw_lv_from_raw.sql', 'r') as f:\n",
    "        cursor.execute(f.read())\n",
    "        \n",
    "    cursor.close()\n",
    "    \n",
    "count('district')\n",
    "count('suburb')\n",
    "count('street')\n",
    "count('property')\n",
    "count('property_description')\n",
    "count('valuations')"
   ]
  },
  {
   "cell_type": "markdown",
   "id": "cccc4af0-cb98-4ee7-bd40-10cca53f7153",
   "metadata": {},
   "source": [
    "### Parse contents of the property description\n",
    "\n",
    "The `property_description` from the original valuer general data constains alot of information. The most important of which is the land parcel or `lot/plan` information. There is other information in there as well."
   ]
  },
  {
   "cell_type": "code",
   "execution_count": 8,
   "id": "a2bc00d3-460d-4d95-8da5-e36d6b7b0053",
   "metadata": {},
   "outputs": [
    {
     "name": "stdout",
     "output_type": "stream",
     "text": [
      "Table nsw_valuer_general.property has 2703626 rows\n",
      "Table nsw_valuer_general.land_parcel_link has 4247405 rows\n"
     ]
    }
   ],
   "source": [
    "import numpy as np\n",
    "import pandas as pd\n",
    "from lib.nsw_vg.property_description import parse_land_parcel_ids\n",
    "\n",
    "engine = gnaf_db.engine()\n",
    "\n",
    "with gnaf_db.connect() as conn:\n",
    "    cursor = conn.cursor()\n",
    "    cursor.execute(\"DROP TABLE IF EXISTS nsw_valuer_general.land_parcel_link\")\n",
    "    with open('sql/nsw_lv_schema_3_property_description_meta_data.sql', 'r') as f:\n",
    "        cursor.execute(f.read())\n",
    "    cursor.close()\n",
    "\n",
    "def land_parcels(desc):\n",
    "    desc, parcels = parse_land_parcel_ids(desc)\n",
    "    return parcels \n",
    "\n",
    "query = \"SELECT * FROM nsw_valuer_general.property_description\"\n",
    "for df_chunk in pd.read_sql(query, engine, chunksize=10000):\n",
    "    df_chunk = df_chunk.dropna(subset=['property_description'])\n",
    "    df_chunk['parcels'] = df_chunk['property_description'].apply(land_parcels)\n",
    "    df_chunk_ex = df_chunk.explode('parcels')\n",
    "    df_chunk_ex = df_chunk_ex.dropna(subset=['parcels'])\n",
    "    df_chunk_ex['land_parcel_id'] = df_chunk_ex['parcels'].apply(lambda p: p.id)\n",
    "    df_chunk_ex['part'] = df_chunk_ex['parcels'].apply(lambda p: p.part)\n",
    "    df_chunk_ex = df_chunk_ex.drop(columns=['property_description', 'parcels'])\n",
    "    df_chunk_ex.to_sql(\n",
    "        'land_parcel_link',\n",
    "        con=engine,\n",
    "        schema='nsw_valuer_general',\n",
    "        if_exists='append',\n",
    "        index=False,\n",
    "    )\n",
    "\n",
    "with gnaf_db.connect() as conn:\n",
    "    cursor = conn.cursor()\n",
    "    for t in ['property', 'land_parcel_link']:\n",
    "        cursor.execute(f'SELECT COUNT(*) FROM nsw_valuer_general.{t}')\n",
    "        count = cursor.fetchone()[0]\n",
    "        print(f\"Table nsw_valuer_general.{t} has {count} rows\")\n"
   ]
  },
  {
   "cell_type": "markdown",
   "id": "8a0851f3-8b55-4751-894e-408693dda480",
   "metadata": {},
   "source": [
    "### Get rid of `raw_entries_lv` table\n",
    "\n",
    "We no longer need the raw entries table, deleting it should make the database a bit efficent in terms of storage."
   ]
  },
  {
   "cell_type": "code",
   "execution_count": 9,
   "id": "b86be0dd-c5a9-4516-8509-bd10c8a76ef5",
   "metadata": {},
   "outputs": [
    {
     "name": "stdout",
     "output_type": "stream",
     "text": [
      "Dropping raw entries table\n"
     ]
    }
   ],
   "source": [
    "with gnaf_db.connect() as conn:\n",
    "    cursor = conn.cursor()\n",
    "    if GLOBAL_FLAGS['drop_raw_nsw_valuer_general_entries']:\n",
    "        cursor.execute(\"DROP TABLE IF EXISTS nsw_valuer_general.raw_entries_lv\")\n",
    "        print(\"Dropping raw entries table\")\n",
    "    else:\n",
    "        print(\"Keeping raw entries table\")\n",
    "    cursor.close()"
   ]
  },
  {
   "cell_type": "markdown",
   "id": "0f88b7d1-1a2c-430e-8536-2635a1002928",
   "metadata": {},
   "source": [
    "## Ingest NSW Sales data\n",
    "\n",
    "This data is also from the NSW valuer general\n",
    "\n",
    "#### Documentation on this dataset\n",
    "\n",
    "You can find that [here](https://www.nsw.gov.au/housing-and-construction/land-values-nsw/resource-library/property-sales-data-guide)."
   ]
  },
  {
   "cell_type": "markdown",
   "id": "7c6b5e4a-2d8b-41da-8d4c-ed464951f2fb",
   "metadata": {},
   "source": [
    "### Build the `nsw_valuer_general.raw_entries_ps` table\n",
    "\n",
    "First lets populate the raw sales information into the "
   ]
  },
  {
   "cell_type": "code",
   "execution_count": null,
   "id": "1094aace-e428-41bc-9caa-15e5650e7d05",
   "metadata": {},
   "outputs": [],
   "source": []
  },
  {
   "cell_type": "markdown",
   "id": "862bdf7e-1573-47e6-a5c4-7252ddb546b6",
   "metadata": {},
   "source": [
    "## Gnaf Ingestion\n",
    "\n",
    "Here we ingest the GNAF dataset, this will take awhile."
   ]
  },
  {
   "cell_type": "code",
   "execution_count": null,
   "id": "37cc6440-562d-4468-b5d9-d3d53c925ae6",
   "metadata": {},
   "outputs": [
    {
     "name": "stdout",
     "output_type": "stream",
     "text": [
      "2024-10-01 15:17:32 Populating from Authority_Code_STREET_TYPE_AUT_psv.psv\n",
      "2024-10-01 15:17:32 Populating from Authority_Code_ADDRESS_CHANGE_TYPE_AUT_psv.psv\n",
      "2024-10-01 15:17:32 Populating from Authority_Code_GEOCODE_TYPE_AUT_psv.psv\n",
      "2024-10-01 15:17:32 Populating from Authority_Code_LOCALITY_CLASS_AUT_psv.psv\n",
      "2024-10-01 15:17:32 Populating from Authority_Code_STREET_SUFFIX_AUT_psv.psv\n",
      "2024-10-01 15:17:32 Populating from Authority_Code_LOCALITY_ALIAS_TYPE_AUT_psv.psv\n",
      "2024-10-01 15:17:32 Populating from Authority_Code_STREET_CLASS_AUT_psv.psv\n",
      "2024-10-01 15:17:32 Populating from Authority_Code_ADDRESS_ALIAS_TYPE_AUT_psv.psv\n",
      "2024-10-01 15:17:32 Populating from Authority_Code_STREET_LOCALITY_ALIAS_TYPE_AUT_psv.psv\n",
      "2024-10-01 15:17:32 Populating from Authority_Code_PS_JOIN_TYPE_AUT_psv.psv\n",
      "2024-10-01 15:17:32 Populating from Authority_Code_MB_MATCH_CODE_AUT_psv.psv\n",
      "2024-10-01 15:17:32 Populating from Authority_Code_FLAT_TYPE_AUT_psv.psv\n",
      "2024-10-01 15:17:32 Populating from Authority_Code_GEOCODED_LEVEL_TYPE_AUT_psv.psv\n",
      "2024-10-01 15:17:32 Populating from Authority_Code_LEVEL_TYPE_AUT_psv.psv\n",
      "2024-10-01 15:17:32 Populating from Authority_Code_GEOCODE_RELIABILITY_AUT_psv.psv\n",
      "2024-10-01 15:17:32 Populating from Authority_Code_ADDRESS_TYPE_AUT_psv.psv\n",
      "2024-10-01 15:17:32 Populating from Authority_Code_LOCALITY_ALIAS_TYPE_AUT_psv.psv\n",
      "2024-10-01 15:17:32 Populating from Authority_Code_ADDRESS_ALIAS_TYPE_AUT_psv.psv\n",
      "2024-10-01 15:17:32 Populating from Authority_Code_GEOCODE_RELIABILITY_AUT_psv.psv\n",
      "2024-10-01 15:17:32 Populating from Authority_Code_STREET_CLASS_AUT_psv.psv\n",
      "2024-10-01 15:17:32 Populating from Authority_Code_PS_JOIN_TYPE_AUT_psv.psv\n",
      "2024-10-01 15:17:32 Populating from Authority_Code_LEVEL_TYPE_AUT_psv.psv\n",
      "2024-10-01 15:17:32 Populating from Authority_Code_STREET_LOCALITY_ALIAS_TYPE_AUT_psv.psv\n",
      "2024-10-01 15:17:32 Populating from Authority_Code_STREET_SUFFIX_AUT_psv.psv\n",
      "2024-10-01 15:17:32 Populating from Authority_Code_ADDRESS_TYPE_AUT_psv.psv\n",
      "2024-10-01 15:17:32 Populating from Authority_Code_GEOCODE_TYPE_AUT_psv.psv\n",
      "2024-10-01 15:17:32 Populating from Authority_Code_FLAT_TYPE_AUT_psv.psv\n",
      "2024-10-01 15:17:32 Populating from Authority_Code_GEOCODED_LEVEL_TYPE_AUT_psv.psv\n",
      "2024-10-01 15:17:32 Populating from Authority_Code_LOCALITY_CLASS_AUT_psv.psv\n",
      "2024-10-01 15:17:32 Populating from Authority_Code_ADDRESS_CHANGE_TYPE_AUT_psv.psv\n",
      "2024-10-01 15:17:32 Populating from Authority_Code_STREET_TYPE_AUT_psv.psv\n",
      "2024-10-01 15:17:32 Populating from Authority_Code_MB_MATCH_CODE_AUT_psv.psv\n",
      "2024-10-01 15:17:33 Populating from TAS_MB_2016_psv.psv\n",
      "2024-10-01 15:17:33 Populating from TAS_MB_2021_psv.psv\n",
      "2024-10-01 15:17:33 Populating from QLD_STATE_psv.psv\n",
      "2024-10-01 15:17:33 Populating from WA_MB_2016_psv.psv\n",
      "2024-10-01 15:17:35 Populating from WA_STATE_psv.psv2024-10-01 15:17:35 Populating from NT_MB_2016_psv.psv\n",
      "\n",
      "2024-10-01 15:17:35 Populating from SA_MB_2021_psv.psv\n",
      "2024-10-01 15:17:35 Populating from NSW_STATE_psv.psv\n",
      "2024-10-01 15:17:35 Populating from SA_MB_2016_psv.psv\n",
      "2024-10-01 15:17:39 Populating from VIC_MB_2021_psv.psv\n",
      "2024-10-01 15:17:39 Populating from QLD_MB_2016_psv.psv\n",
      "2024-10-01 15:17:39 Populating from OT_MB_2021_psv.psv\n",
      "2024-10-01 15:17:39 Populating from VIC_MB_2016_psv.psv\n",
      "2024-10-01 15:17:50 Populating from WA_MB_2021_psv.psv\n",
      "2024-10-01 15:17:52 Populating from SA_STATE_psv.psv\n",
      "2024-10-01 15:17:52 Populating from NSW_MB_2016_psv.psv\n",
      "2024-10-01 15:17:52 Populating from VIC_STATE_psv.psv\n",
      "2024-10-01 15:17:52 Populating from ACT_STATE_psv.psv\n",
      "2024-10-01 15:17:52 Populating from TAS_STATE_psv.psv\n",
      "2024-10-01 15:17:52 Populating from ACT_MB_2016_psv.psv\n",
      "2024-10-01 15:17:53 Populating from QLD_MB_2021_psv.psv\n",
      "2024-10-01 15:17:56 Populating from OT_STATE_psv.psv\n",
      "2024-10-01 15:17:56 Populating from OT_MB_2016_psv.psv\n",
      "2024-10-01 15:17:56 Populating from NT_MB_2021_psv.psv\n",
      "2024-10-01 15:17:57 Populating from NSW_MB_2021_psv.psv\n",
      "2024-10-01 15:18:04 Populating from NT_STATE_psv.psv\n",
      "2024-10-01 15:18:04 Populating from ACT_MB_2021_psv.psv\n",
      "2024-10-01 15:18:05 Populating from QLD_ADDRESS_SITE_psv.psv\n",
      "2024-10-01 15:18:09 Populating from QLD_LOCALITY_psv.psv\n",
      "2024-10-01 15:18:09 Populating from WA_LOCALITY_psv.psv\n",
      "2024-10-01 15:18:10 Populating from WA_ADDRESS_SITE_psv.psv\n",
      "2024-10-01 15:18:14 Populating from NSW_ADDRESS_SITE_psv.psv\n",
      "2024-10-01 15:22:24 Populating from NSW_LOCALITY_psv.psv\n",
      "2024-10-01 15:22:25 Populating from SA_LOCALITY_psv.psv\n",
      "2024-10-01 15:22:25 Populating from SA_ADDRESS_SITE_psv.psv\n",
      "2024-10-01 15:25:42 Populating from VIC_LOCALITY_psv.psv\n",
      "2024-10-01 15:25:42 Populating from VIC_ADDRESS_SITE_psv.psv\n",
      "2024-10-01 15:27:06 Populating from ACT_LOCALITY_psv.psv\n",
      "2024-10-01 15:27:06 Populating from ACT_ADDRESS_SITE_psv.psv\n",
      "2024-10-01 15:27:48 Populating from TAS_ADDRESS_SITE_psv.psv\n",
      "2024-10-01 15:28:45 Populating from TAS_LOCALITY_psv.psv\n",
      "2024-10-01 15:28:45 Populating from OT_ADDRESS_SITE_psv.psv\n",
      "2024-10-01 15:28:46 Populating from OT_LOCALITY_psv.psv\n",
      "2024-10-01 15:28:46 Populating from NT_ADDRESS_SITE_psv.psv\n",
      "2024-10-01 15:29:05 Populating from NT_LOCALITY_psv.psv\n",
      "2024-10-01 15:29:05 Populating from QLD_STREET_LOCALITY_psv.psv\n",
      "2024-10-01 15:29:36 Populating from QLD_LOCALITY_POINT_psv.psv\n",
      "2024-10-01 15:29:37 Populating from QLD_LOCALITY_ALIAS_psv.psv\n",
      "2024-10-01 15:29:38 Populating from QLD_LOCALITY_NEIGHBOUR_psv.psv\n",
      "2024-10-01 15:29:41 Populating from WA_LOCALITY_POINT_psv.psv\n",
      "2024-10-01 15:29:41 Populating from WA_LOCALITY_ALIAS_psv.psv\n",
      "2024-10-01 15:29:42 Populating from WA_LOCALITY_NEIGHBOUR_psv.psv\n",
      "2024-10-01 15:29:43 Populating from WA_STREET_LOCALITY_psv.psv\n",
      "2024-10-01 15:30:00 Populating from WA_ADDRESS_SITE_GEOCODE_psv.psv\n",
      "2024-10-01 15:31:27 Populating from NSW_LOCALITY_POINT_psv.psv\n",
      "2024-10-01 15:31:28 Populating from NSW_STREET_LOCALITY_psv.psv\n",
      "2024-10-01 15:32:03 Populating from NSW_LOCALITY_ALIAS_psv.psv\n",
      "2024-10-01 15:32:05 Populating from NSW_LOCALITY_NEIGHBOUR_psv.psv\n",
      "2024-10-01 15:32:09 Populating from SA_LOCALITY_NEIGHBOUR_psv.psv\n",
      "2024-10-01 15:32:11 Populating from SA_LOCALITY_ALIAS_psv.psv\n",
      "2024-10-01 15:32:11 Populating from SA_STREET_LOCALITY_psv.psv\n",
      "2024-10-01 15:32:24 Populating from SA_LOCALITY_POINT_psv.psv\n",
      "2024-10-01 15:32:24 Populating from SA_ADDRESS_SITE_GEOCODE_psv.psv\n",
      "2024-10-01 15:34:48 Populating from VIC_LOCALITY_NEIGHBOUR_psv.psv\n",
      "2024-10-01 15:34:50 Populating from VIC_STREET_LOCALITY_psv.psv\n",
      "2024-10-01 15:35:28 Populating from VIC_LOCALITY_ALIAS_psv.psv\n",
      "2024-10-01 15:35:29 Populating from VIC_LOCALITY_POINT_psv.psv\n",
      "2024-10-01 15:35:30 Populating from QLD_ADDRESS_SITE_GEOCODE_psv.psv\n",
      "2024-10-01 15:36:17 Populating from ACT_LOCALITY_POINT_psv.psv\n",
      "2024-10-01 15:36:17 Populating from ACT_LOCALITY_ALIAS_psv.psv\n",
      "2024-10-01 15:36:17 Populating from ACT_STREET_LOCALITY_psv.psv\n",
      "2024-10-01 15:36:18 Populating from ACT_LOCALITY_NEIGHBOUR_psv.psv\n",
      "2024-10-01 15:36:19 Populating from ACT_ADDRESS_SITE_GEOCODE_psv.psv\n",
      "2024-10-01 15:36:41 Populating from TAS_ADDRESS_SITE_GEOCODE_psv.psv\n",
      "2024-10-01 15:37:47 Populating from TAS_LOCALITY_POINT_psv.psv\n",
      "2024-10-01 15:37:47 Populating from TAS_LOCALITY_ALIAS_psv.psv\n",
      "2024-10-01 15:37:47 Populating from TAS_STREET_LOCALITY_psv.psv\n",
      "2024-10-01 15:37:48 Populating from TAS_LOCALITY_NEIGHBOUR_psv.psv\n",
      "2024-10-01 15:37:48 Populating from OT_ADDRESS_SITE_GEOCODE_psv.psv\n",
      "2024-10-01 15:37:49 Populating from OT_LOCALITY_ALIAS_psv.psv\n",
      "2024-10-01 15:37:49 Populating from OT_LOCALITY_NEIGHBOUR_psv.psv\n",
      "2024-10-01 15:37:49 Populating from OT_STREET_LOCALITY_psv.psv\n",
      "2024-10-01 15:37:49 Populating from OT_LOCALITY_POINT_psv.psv\n",
      "2024-10-01 15:37:49 Populating from NT_ADDRESS_SITE_GEOCODE_psv.psv\n",
      "2024-10-01 15:37:51 Populating from NT_LOCALITY_POINT_psv.psv\n",
      "2024-10-01 15:37:52 Populating from NT_LOCALITY_NEIGHBOUR_psv.psv\n",
      "2024-10-01 15:37:52 Populating from NT_STREET_LOCALITY_psv.psv\n",
      "2024-10-01 15:37:54 Populating from NT_LOCALITY_ALIAS_psv.psv\n",
      "2024-10-01 15:37:54 Populating from QLD_STREET_LOCALITY_ALIAS_psv.psv\n",
      "2024-10-01 15:37:56 Populating from QLD_ADDRESS_DETAIL_psv.psv\n",
      "2024-10-01 15:38:09 Populating from QLD_STREET_LOCALITY_POINT_psv.psv\n",
      "2024-10-01 15:38:34 Populating from WA_STREET_LOCALITY_ALIAS_psv.psv\n",
      "2024-10-01 15:38:34 Populating from WA_STREET_LOCALITY_POINT_psv.psv\n",
      "2024-10-01 15:38:48 Populating from WA_ADDRESS_DETAIL_psv.psv\n",
      "2024-10-01 15:45:27 Populating from NSW_ADDRESS_SITE_GEOCODE_psv.psv\n",
      "2024-10-01 15:46:09 Populating from NSW_STREET_LOCALITY_POINT_psv.psv\n",
      "2024-10-01 15:46:39 Populating from NSW_STREET_LOCALITY_ALIAS_psv.psv\n",
      "2024-10-01 15:46:41 Populating from NSW_ADDRESS_DETAIL_psv.psv\n",
      "2024-10-01 15:52:34 Populating from SA_STREET_LOCALITY_ALIAS_psv.psv\n",
      "2024-10-01 15:52:35 Populating from SA_STREET_LOCALITY_POINT_psv.psv\n",
      "2024-10-01 15:52:46 Populating from SA_ADDRESS_DETAIL_psv.psv\n",
      "2024-10-01 15:57:58 Populating from VIC_STREET_LOCALITY_ALIAS_psv.psv\n",
      "2024-10-01 15:58:00 Populating from VIC_STREET_LOCALITY_POINT_psv.psv\n",
      "2024-10-01 15:58:33 Populating from ACT_ADDRESS_DETAIL_psv.psv\n",
      "2024-10-01 15:59:39 Populating from ACT_STREET_LOCALITY_POINT_psv.psv\n",
      "2024-10-01 15:59:40 Populating from ACT_STREET_LOCALITY_ALIAS_psv.psv\n",
      "2024-10-01 15:59:40 Populating from VIC_ADDRESS_DETAIL_psv.psv\n",
      "2024-10-01 16:02:10 Populating from VIC_ADDRESS_SITE_GEOCODE_psv.psv\n",
      "2024-10-01 16:09:13 Populating from OT_STREET_LOCALITY_ALIAS_psv.psv\n",
      "2024-10-01 16:09:13 Populating from OT_ADDRESS_DETAIL_psv.psv\n",
      "2024-10-01 16:09:14 Populating from OT_STREET_LOCALITY_POINT_psv.psv\n",
      "2024-10-01 16:09:14 Populating from TAS_STREET_LOCALITY_POINT_psv.psv\n",
      "2024-10-01 16:09:18 Populating from TAS_ADDRESS_DETAIL_psv.psv\n",
      "2024-10-01 16:10:44 Populating from TAS_STREET_LOCALITY_ALIAS_psv.psv\n",
      "2024-10-01 16:10:44 Populating from NT_STREET_LOCALITY_POINT_psv.psv\n",
      "2024-10-01 16:10:45 Populating from NT_STREET_LOCALITY_ALIAS_psv.psv\n",
      "2024-10-01 16:10:45 Populating from NT_ADDRESS_DETAIL_psv.psv\n",
      "2024-10-01 16:11:13 Populating from WA_ADDRESS_DEFAULT_GEOCODE_psv.psv\n"
     ]
    }
   ],
   "source": [
    "from lib.gnaf.ingestion import ingest\n",
    "ingest(gnaf_dis.publication, gnaf_db)"
   ]
  },
  {
   "cell_type": "markdown",
   "id": "a68a8268-cf59-4249-ac33-653bd5c2afc1",
   "metadata": {},
   "source": [
    "## Done\n",
    "\n",
    "We've now built up the dataset, lets analysis what we got and show the contents of the database."
   ]
  },
  {
   "cell_type": "code",
   "execution_count": null,
   "id": "23e887af-b30e-40da-ae8b-ae0c6d779816",
   "metadata": {
    "editable": true,
    "slideshow": {
     "slide_type": ""
    },
    "tags": []
   },
   "outputs": [],
   "source": [
    "with gnaf_db.connect() as conn:\n",
    "    cursor = conn.cursor()\n",
    "\n",
    "    for schema in ['nsw_valuer_general', 'gnaf', 'abs_main_structures', 'non_abs_main_structures']:\n",
    "        # Get the list of all tables\n",
    "        cursor.execute(f\"\"\"\n",
    "            SELECT table_name\n",
    "            FROM information_schema.tables\n",
    "            WHERE table_schema = '{schema}'\n",
    "        \"\"\")\n",
    "        tables = cursor.fetchall()\n",
    "    \n",
    "        # Get row count for each table\n",
    "        for table in tables:\n",
    "            cursor.execute(f'SELECT COUNT(*) FROM {schema}.{table[0]}')\n",
    "            count = cursor.fetchone()[0]\n",
    "            print(f\"Table {schema}.{table[0]} has {count} rows\")\n",
    "    \n",
    "    cursor.close()"
   ]
  },
  {
   "cell_type": "code",
   "execution_count": null,
   "id": "982acfc4-7182-4a73-aa4b-fc9aae3db7d7",
   "metadata": {},
   "outputs": [],
   "source": []
  }
 ],
 "metadata": {
  "kernelspec": {
   "display_name": "Python 3 (ipykernel)",
   "language": "python",
   "name": "python3"
  },
  "language_info": {
   "codemirror_mode": {
    "name": "ipython",
    "version": 3
   },
   "file_extension": ".py",
   "mimetype": "text/x-python",
   "name": "python",
   "nbconvert_exporter": "python",
   "pygments_lexer": "ipython3",
   "version": "3.12.5"
  }
 },
 "nbformat": 4,
 "nbformat_minor": 5
}
