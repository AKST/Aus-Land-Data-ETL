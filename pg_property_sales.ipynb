{
 "cells": [
  {
   "cell_type": "code",
   "execution_count": 1,
   "id": "5b865a17-dc54-4d1b-9e0a-720359a516e8",
   "metadata": {
    "scrolled": true
   },
   "outputs": [
    {
     "name": "stderr",
     "output_type": "stream",
     "text": [
      "2024-09-24 15:45:39,467 - INFO - Checking Target \"non_abs_shape.zip\"\n",
      "2024-09-24 15:45:39,467 - INFO - Checking Target \"cities.zip\"\n",
      "2024-09-24 15:45:39,467 - INFO - Checking Target \"g-naf_aug24_allstates_gda2020_psv_1016.zip\"\n",
      "2024-09-24 15:45:39,468 - INFO - Checking Target \"nswvg_lv_01_Sep_2024.zip\"\n",
      "2024-09-24 15:45:39,468 - INFO - Checking Target \"nswvg_wps_01_Jan_2024.zip\"\n",
      "2024-09-24 15:45:39,468 - INFO - Checking Target \"nswvg_wps_08_Jan_2024.zip\"\n",
      "2024-09-24 15:45:39,469 - INFO - Checking Target \"nswvg_wps_15_Jan_2024.zip\"\n",
      "2024-09-24 15:45:39,469 - INFO - Checking Target \"nswvg_wps_22_Jan_2024.zip\"\n",
      "2024-09-24 15:45:39,469 - INFO - Checking Target \"nswvg_wps_29_Jan_2024.zip\"\n",
      "2024-09-24 15:45:39,469 - INFO - Checking Target \"nswvg_wps_05_Feb_2024.zip\"\n",
      "2024-09-24 15:45:39,470 - INFO - Checking Target \"nswvg_wps_12_Feb_2024.zip\"\n",
      "2024-09-24 15:45:39,470 - INFO - Checking Target \"nswvg_wps_19_Feb_2024.zip\"\n",
      "2024-09-24 15:45:39,470 - INFO - Checking Target \"nswvg_wps_26_Feb_2024.zip\"\n",
      "2024-09-24 15:45:39,470 - INFO - Checking Target \"nswvg_wps_04_Mar_2024.zip\"\n",
      "2024-09-24 15:45:39,471 - INFO - Checking Target \"nswvg_wps_11_Mar_2024.zip\"\n",
      "2024-09-24 15:45:39,471 - INFO - Checking Target \"nswvg_wps_18_Mar_2024.zip\"\n",
      "2024-09-24 15:45:39,471 - INFO - Checking Target \"nswvg_wps_25_Mar_2024.zip\"\n",
      "2024-09-24 15:45:39,471 - INFO - Checking Target \"nswvg_wps_01_Apr_2024.zip\"\n",
      "2024-09-24 15:45:39,472 - INFO - Checking Target \"nswvg_wps_08_Apr_2024.zip\"\n",
      "2024-09-24 15:45:39,472 - INFO - Checking Target \"nswvg_wps_15_Apr_2024.zip\"\n",
      "2024-09-24 15:45:39,472 - INFO - Checking Target \"nswvg_wps_22_Apr_2024.zip\"\n",
      "2024-09-24 15:45:39,472 - INFO - Checking Target \"nswvg_wps_29_Apr_2024.zip\"\n",
      "2024-09-24 15:45:39,473 - INFO - Checking Target \"nswvg_wps_06_May_2024.zip\"\n",
      "2024-09-24 15:45:39,473 - INFO - Checking Target \"nswvg_wps_13_May_2024.zip\"\n",
      "2024-09-24 15:45:39,473 - INFO - Checking Target \"nswvg_wps_20_May_2024.zip\"\n",
      "2024-09-24 15:45:39,473 - INFO - Checking Target \"nswvg_wps_27_May_2024.zip\"\n",
      "2024-09-24 15:45:39,474 - INFO - Checking Target \"nswvg_wps_03_Jun_2024.zip\"\n",
      "2024-09-24 15:45:39,474 - INFO - Checking Target \"nswvg_wps_10_Jun_2024.zip\"\n",
      "2024-09-24 15:45:39,474 - INFO - Checking Target \"nswvg_wps_17_Jun_2024.zip\"\n",
      "2024-09-24 15:45:39,474 - INFO - Checking Target \"nswvg_wps_24_Jun_2024.zip\"\n",
      "2024-09-24 15:45:39,475 - INFO - Checking Target \"nswvg_wps_01_Jul_2024.zip\"\n",
      "2024-09-24 15:45:39,475 - INFO - Checking Target \"nswvg_wps_08_Jul_2024.zip\"\n",
      "2024-09-24 15:45:39,475 - INFO - Checking Target \"nswvg_wps_15_Jul_2024.zip\"\n",
      "2024-09-24 15:45:39,475 - INFO - Checking Target \"nswvg_wps_22_Jul_2024.zip\"\n",
      "2024-09-24 15:45:39,476 - INFO - Checking Target \"nswvg_wps_29_Jul_2024.zip\"\n",
      "2024-09-24 15:45:39,476 - INFO - Checking Target \"nswvg_wps_05_Aug_2024.zip\"\n",
      "2024-09-24 15:45:39,476 - INFO - Checking Target \"nswvg_wps_12_Aug_2024.zip\"\n",
      "2024-09-24 15:45:39,476 - INFO - Checking Target \"nswvg_wps_19_Aug_2024.zip\"\n",
      "2024-09-24 15:45:39,476 - INFO - Checking Target \"nswvg_wps_26_Aug_2024.zip\"\n",
      "2024-09-24 15:45:39,477 - INFO - Checking Target \"nswvg_wps_02_Sep_2024.zip\"\n",
      "2024-09-24 15:45:39,477 - INFO - Checking Target \"nswvg_wps_09_Sep_2024.zip\"\n",
      "2024-09-24 15:45:39,477 - INFO - Checking Target \"nswvg_wps_16_Sep_2024.zip\"\n",
      "2024-09-24 15:45:39,478 - INFO - Checking Target \"nswvg_wps_23_Sep_2024.zip\"\n",
      "2024-09-24 15:45:39,479 - INFO - Checking Target \"nswvg_aps_1990.zip\"\n",
      "2024-09-24 15:45:39,479 - INFO - Checking Target \"nswvg_aps_1991.zip\"\n",
      "2024-09-24 15:45:39,479 - INFO - Checking Target \"nswvg_aps_1992.zip\"\n",
      "2024-09-24 15:45:39,480 - INFO - Checking Target \"nswvg_aps_1993.zip\"\n",
      "2024-09-24 15:45:39,480 - INFO - Checking Target \"nswvg_aps_1994.zip\"\n",
      "2024-09-24 15:45:39,480 - INFO - Checking Target \"nswvg_aps_1995.zip\"\n",
      "2024-09-24 15:45:39,480 - INFO - Checking Target \"nswvg_aps_1996.zip\"\n",
      "2024-09-24 15:45:39,480 - INFO - Checking Target \"nswvg_aps_1997.zip\"\n",
      "2024-09-24 15:45:39,481 - INFO - Checking Target \"nswvg_aps_1998.zip\"\n",
      "2024-09-24 15:45:39,481 - INFO - Checking Target \"nswvg_aps_1999.zip\"\n",
      "2024-09-24 15:45:39,482 - INFO - Checking Target \"nswvg_aps_2000.zip\"\n",
      "2024-09-24 15:45:39,482 - INFO - Checking Target \"nswvg_aps_2001.zip\"\n",
      "2024-09-24 15:45:39,483 - INFO - Checking Target \"nswvg_aps_2002.zip\"\n",
      "2024-09-24 15:45:39,483 - INFO - Checking Target \"nswvg_aps_2003.zip\"\n",
      "2024-09-24 15:45:39,483 - INFO - Checking Target \"nswvg_aps_2004.zip\"\n",
      "2024-09-24 15:45:39,484 - INFO - Checking Target \"nswvg_aps_2005.zip\"\n",
      "2024-09-24 15:45:39,484 - INFO - Checking Target \"nswvg_aps_2006.zip\"\n",
      "2024-09-24 15:45:39,485 - INFO - Checking Target \"nswvg_aps_2007.zip\"\n",
      "2024-09-24 15:45:39,485 - INFO - Checking Target \"nswvg_aps_2008.zip\"\n",
      "2024-09-24 15:45:39,485 - INFO - Checking Target \"nswvg_aps_2009.zip\"\n",
      "2024-09-24 15:45:39,486 - INFO - Checking Target \"nswvg_aps_2010.zip\"\n",
      "2024-09-24 15:45:39,486 - INFO - Checking Target \"nswvg_aps_2011.zip\"\n",
      "2024-09-24 15:45:39,486 - INFO - Checking Target \"nswvg_aps_2012.zip\"\n",
      "2024-09-24 15:45:39,487 - INFO - Checking Target \"nswvg_aps_2013.zip\"\n",
      "2024-09-24 15:45:39,487 - INFO - Checking Target \"nswvg_aps_2014.zip\"\n",
      "2024-09-24 15:45:39,487 - INFO - Checking Target \"nswvg_aps_2015.zip\"\n",
      "2024-09-24 15:45:39,487 - INFO - Checking Target \"nswvg_aps_2016.zip\"\n",
      "2024-09-24 15:45:39,488 - INFO - Checking Target \"nswvg_aps_2017.zip\"\n",
      "2024-09-24 15:45:39,488 - INFO - Checking Target \"nswvg_aps_2018.zip\"\n",
      "2024-09-24 15:45:39,488 - INFO - Checking Target \"nswvg_aps_2019.zip\"\n",
      "2024-09-24 15:45:39,488 - INFO - Checking Target \"nswvg_aps_2020.zip\"\n",
      "2024-09-24 15:45:39,489 - INFO - Checking Target \"nswvg_aps_2021.zip\"\n",
      "2024-09-24 15:45:39,489 - INFO - Checking Target \"nswvg_aps_2022.zip\"\n",
      "2024-09-24 15:45:39,489 - INFO - Checking Target \"nswvg_aps_2023.zip\"\n"
     ]
    }
   ],
   "source": [
    "import logging\n",
    "from lib.gnaf_db import GnafDb\n",
    "from lib.service.io import IoService\n",
    "from lib.tasks.fetch_static_files import initialise, get_session\n",
    "\n",
    "logging.basicConfig(level=logging.INFO, format='%(asctime)s - %(levelname)s - %(message)s')\n",
    "\n",
    "io = IoService.create(None)\n",
    "\n",
    "async with get_session(io) as session:\n",
    "    environment = await initialise(io, session)\n",
    "\n",
    "gnaf = GnafDb.create()\n",
    "gnaf.wait_till_running()"
   ]
  },
  {
   "cell_type": "code",
   "execution_count": null,
   "id": "58d47caf-ca80-4f24-8965-579c8995a3c5",
   "metadata": {},
   "outputs": [
    {
     "name": "stderr",
     "output_type": "stream",
     "text": [
      "2024-09-24 15:45:43,080 - INFO - Parsed 1990, parsed 331877 records so far\n",
      "2024-09-24 15:45:44,999 - INFO - Parsed 1991, parsed 543487 records so far\n",
      "2024-09-24 15:45:46,362 - INFO - Parsed 1992, parsed 694345 records so far\n",
      "2024-09-24 15:45:47,708 - INFO - Parsed 1993, parsed 842863 records so far\n",
      "2024-09-24 15:45:49,146 - INFO - Parsed 1994, parsed 1001621 records so far\n",
      "2024-09-24 15:45:50,678 - INFO - Parsed 1995, parsed 1170047 records so far\n",
      "2024-09-24 15:45:52,522 - INFO - Parsed 1996, parsed 1371961 records so far\n",
      "2024-09-24 15:45:54,281 - INFO - Parsed 1997, parsed 1566823 records so far\n",
      "2024-09-24 15:45:56,261 - INFO - Parsed 1998, parsed 1783485 records so far\n",
      "2024-09-24 15:45:57,939 - INFO - Parsed 1999, parsed 1967395 records so far\n",
      "2024-09-24 15:45:58,140 - INFO - Parsed 2000, parsed 1989040 records so far\n"
     ]
    }
   ],
   "source": [
    "from lib.tasks.ingest_nswvg_property_sales import ingest as ingest_sale_prices\n",
    "\n",
    "await ingest_sale_prices(environment, io)"
   ]
  },
  {
   "cell_type": "code",
   "execution_count": null,
   "id": "24222008-787a-4613-aa99-1095e2091dc1",
   "metadata": {},
   "outputs": [],
   "source": []
  }
 ],
 "metadata": {
  "kernelspec": {
   "display_name": "Python 3 (ipykernel)",
   "language": "python",
   "name": "python3"
  },
  "language_info": {
   "codemirror_mode": {
    "name": "ipython",
    "version": 3
   },
   "file_extension": ".py",
   "mimetype": "text/x-python",
   "name": "python",
   "nbconvert_exporter": "python",
   "pygments_lexer": "ipython3",
   "version": "3.12.5"
  }
 },
 "nbformat": 4,
 "nbformat_minor": 5
}
