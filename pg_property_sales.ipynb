{
 "cells": [
  {
   "cell_type": "code",
   "execution_count": 1,
   "id": "5b865a17-dc54-4d1b-9e0a-720359a516e8",
   "metadata": {
    "scrolled": true
   },
   "outputs": [
    {
     "name": "stderr",
     "output_type": "stream",
     "text": [
      "2024-09-30 15:30:14,325 - INFO - Checking Target \"non_abs_shape.zip\"\n",
      "2024-09-30 15:30:14,326 - INFO - Checking Target \"cities.zip\"\n",
      "2024-09-30 15:30:14,326 - INFO - Checking Target \"g-naf_aug24_allstates_gda2020_psv_1016.zip\"\n",
      "2024-09-30 15:30:14,326 - INFO - Checking Target \"nswvg_lv_01_Sep_2024.zip\"\n",
      "2024-09-30 15:30:14,327 - INFO - Checking Target \"nswvg_wps_01_Jan_2024.zip\"\n",
      "2024-09-30 15:30:14,327 - INFO - Checking Target \"nswvg_wps_08_Jan_2024.zip\"\n",
      "2024-09-30 15:30:14,327 - INFO - Checking Target \"nswvg_wps_15_Jan_2024.zip\"\n",
      "2024-09-30 15:30:14,327 - INFO - Checking Target \"nswvg_wps_22_Jan_2024.zip\"\n",
      "2024-09-30 15:30:14,328 - INFO - Checking Target \"nswvg_wps_29_Jan_2024.zip\"\n",
      "2024-09-30 15:30:14,328 - INFO - Checking Target \"nswvg_wps_05_Feb_2024.zip\"\n",
      "2024-09-30 15:30:14,328 - INFO - Checking Target \"nswvg_wps_12_Feb_2024.zip\"\n",
      "2024-09-30 15:30:14,328 - INFO - Checking Target \"nswvg_wps_19_Feb_2024.zip\"\n",
      "2024-09-30 15:30:14,329 - INFO - Checking Target \"nswvg_wps_26_Feb_2024.zip\"\n",
      "2024-09-30 15:30:14,329 - INFO - Checking Target \"nswvg_wps_04_Mar_2024.zip\"\n",
      "2024-09-30 15:30:14,329 - INFO - Checking Target \"nswvg_wps_11_Mar_2024.zip\"\n",
      "2024-09-30 15:30:14,329 - INFO - Checking Target \"nswvg_wps_18_Mar_2024.zip\"\n",
      "2024-09-30 15:30:14,330 - INFO - Checking Target \"nswvg_wps_25_Mar_2024.zip\"\n",
      "2024-09-30 15:30:14,330 - INFO - Checking Target \"nswvg_wps_01_Apr_2024.zip\"\n",
      "2024-09-30 15:30:14,330 - INFO - Checking Target \"nswvg_wps_08_Apr_2024.zip\"\n",
      "2024-09-30 15:30:14,331 - INFO - Checking Target \"nswvg_wps_15_Apr_2024.zip\"\n",
      "2024-09-30 15:30:14,331 - INFO - Checking Target \"nswvg_wps_22_Apr_2024.zip\"\n",
      "2024-09-30 15:30:14,331 - INFO - Checking Target \"nswvg_wps_29_Apr_2024.zip\"\n",
      "2024-09-30 15:30:14,331 - INFO - Checking Target \"nswvg_wps_06_May_2024.zip\"\n",
      "2024-09-30 15:30:14,332 - INFO - Checking Target \"nswvg_wps_13_May_2024.zip\"\n",
      "2024-09-30 15:30:14,332 - INFO - Checking Target \"nswvg_wps_20_May_2024.zip\"\n",
      "2024-09-30 15:30:14,332 - INFO - Checking Target \"nswvg_wps_27_May_2024.zip\"\n",
      "2024-09-30 15:30:14,332 - INFO - Checking Target \"nswvg_wps_03_Jun_2024.zip\"\n",
      "2024-09-30 15:30:14,333 - INFO - Checking Target \"nswvg_wps_10_Jun_2024.zip\"\n",
      "2024-09-30 15:30:14,333 - INFO - Checking Target \"nswvg_wps_17_Jun_2024.zip\"\n",
      "2024-09-30 15:30:14,333 - INFO - Checking Target \"nswvg_wps_24_Jun_2024.zip\"\n",
      "2024-09-30 15:30:14,333 - INFO - Checking Target \"nswvg_wps_01_Jul_2024.zip\"\n",
      "2024-09-30 15:30:14,334 - INFO - Checking Target \"nswvg_wps_08_Jul_2024.zip\"\n",
      "2024-09-30 15:30:14,334 - INFO - Checking Target \"nswvg_wps_15_Jul_2024.zip\"\n",
      "2024-09-30 15:30:14,334 - INFO - Checking Target \"nswvg_wps_22_Jul_2024.zip\"\n",
      "2024-09-30 15:30:14,334 - INFO - Checking Target \"nswvg_wps_29_Jul_2024.zip\"\n",
      "2024-09-30 15:30:14,335 - INFO - Checking Target \"nswvg_wps_05_Aug_2024.zip\"\n",
      "2024-09-30 15:30:14,335 - INFO - Checking Target \"nswvg_wps_12_Aug_2024.zip\"\n",
      "2024-09-30 15:30:14,335 - INFO - Checking Target \"nswvg_wps_19_Aug_2024.zip\"\n",
      "2024-09-30 15:30:14,336 - INFO - Checking Target \"nswvg_wps_26_Aug_2024.zip\"\n",
      "2024-09-30 15:30:14,336 - INFO - Checking Target \"nswvg_wps_02_Sep_2024.zip\"\n",
      "2024-09-30 15:30:14,336 - INFO - Checking Target \"nswvg_wps_09_Sep_2024.zip\"\n",
      "2024-09-30 15:30:14,336 - INFO - Checking Target \"nswvg_wps_16_Sep_2024.zip\"\n",
      "2024-09-30 15:30:14,337 - INFO - Checking Target \"nswvg_wps_23_Sep_2024.zip\"\n",
      "2024-09-30 15:30:14,337 - INFO - Checking Target \"nswvg_aps_1990.zip\"\n",
      "2024-09-30 15:30:14,338 - INFO - Checking Target \"nswvg_aps_1991.zip\"\n",
      "2024-09-30 15:30:14,338 - INFO - Checking Target \"nswvg_aps_1992.zip\"\n",
      "2024-09-30 15:30:14,339 - INFO - Checking Target \"nswvg_aps_1993.zip\"\n",
      "2024-09-30 15:30:14,339 - INFO - Checking Target \"nswvg_aps_1994.zip\"\n",
      "2024-09-30 15:30:14,339 - INFO - Checking Target \"nswvg_aps_1995.zip\"\n",
      "2024-09-30 15:30:14,340 - INFO - Checking Target \"nswvg_aps_1996.zip\"\n",
      "2024-09-30 15:30:14,340 - INFO - Checking Target \"nswvg_aps_1997.zip\"\n",
      "2024-09-30 15:30:14,340 - INFO - Checking Target \"nswvg_aps_1998.zip\"\n",
      "2024-09-30 15:30:14,341 - INFO - Checking Target \"nswvg_aps_1999.zip\"\n",
      "2024-09-30 15:30:14,341 - INFO - Checking Target \"nswvg_aps_2000.zip\"\n",
      "2024-09-30 15:30:14,341 - INFO - Checking Target \"nswvg_aps_2001.zip\"\n",
      "2024-09-30 15:30:14,342 - INFO - Checking Target \"nswvg_aps_2002.zip\"\n",
      "2024-09-30 15:30:14,342 - INFO - Checking Target \"nswvg_aps_2003.zip\"\n",
      "2024-09-30 15:30:14,342 - INFO - Checking Target \"nswvg_aps_2004.zip\"\n",
      "2024-09-30 15:30:14,343 - INFO - Checking Target \"nswvg_aps_2005.zip\"\n",
      "2024-09-30 15:30:14,343 - INFO - Checking Target \"nswvg_aps_2006.zip\"\n",
      "2024-09-30 15:30:14,343 - INFO - Checking Target \"nswvg_aps_2007.zip\"\n",
      "2024-09-30 15:30:14,344 - INFO - Checking Target \"nswvg_aps_2008.zip\"\n",
      "2024-09-30 15:30:14,344 - INFO - Checking Target \"nswvg_aps_2009.zip\"\n",
      "2024-09-30 15:30:14,345 - INFO - Checking Target \"nswvg_aps_2010.zip\"\n",
      "2024-09-30 15:30:14,345 - INFO - Checking Target \"nswvg_aps_2011.zip\"\n",
      "2024-09-30 15:30:14,345 - INFO - Checking Target \"nswvg_aps_2012.zip\"\n",
      "2024-09-30 15:30:14,346 - INFO - Checking Target \"nswvg_aps_2013.zip\"\n",
      "2024-09-30 15:30:14,346 - INFO - Checking Target \"nswvg_aps_2014.zip\"\n",
      "2024-09-30 15:30:14,346 - INFO - Checking Target \"nswvg_aps_2015.zip\"\n",
      "2024-09-30 15:30:14,347 - INFO - Checking Target \"nswvg_aps_2016.zip\"\n",
      "2024-09-30 15:30:14,347 - INFO - Checking Target \"nswvg_aps_2017.zip\"\n",
      "2024-09-30 15:30:14,347 - INFO - Checking Target \"nswvg_aps_2018.zip\"\n",
      "2024-09-30 15:30:14,348 - INFO - Checking Target \"nswvg_aps_2019.zip\"\n",
      "2024-09-30 15:30:14,348 - INFO - Checking Target \"nswvg_aps_2020.zip\"\n",
      "2024-09-30 15:30:14,348 - INFO - Checking Target \"nswvg_aps_2021.zip\"\n",
      "2024-09-30 15:30:14,349 - INFO - Checking Target \"nswvg_aps_2022.zip\"\n",
      "2024-09-30 15:30:14,349 - INFO - Checking Target \"nswvg_aps_2023.zip\"\n"
     ]
    }
   ],
   "source": [
    "import logging\n",
    "from lib.gnaf_db import GnafDb\n",
    "from lib.service.io import IoService\n",
    "from lib.tasks.fetch_static_files import initialise, get_session\n",
    "\n",
    "logging.basicConfig(level=logging.INFO, format='%(asctime)s - %(levelname)s - %(message)s')\n",
    "\n",
    "io = IoService.create(None)\n",
    "\n",
    "async with get_session(io) as session:\n",
    "    environment = await initialise(io, session)\n",
    "\n",
    "gnaf = GnafDb.create()\n",
    "gnaf.wait_till_running()"
   ]
  },
  {
   "cell_type": "code",
   "execution_count": 2,
   "id": "58d47caf-ca80-4f24-8965-579c8995a3c5",
   "metadata": {},
   "outputs": [
    {
     "name": "stderr",
     "output_type": "stream",
     "text": [
      "2024-09-30 15:30:14,885 - INFO - queuing files for worker\n",
      "2024-09-30 15:30:30,024 - INFO - Parsed 6 (total 6) (0h 0m 15s) (published: 2020 downloaded: 2020-04-13 00:00:00)\n",
      "2024-09-30 15:30:31,137 - INFO - Parsed 8 (total 14) (0h 0m 16s) (published: 2019 downloaded: 2019-12-16 00:00:00)\n",
      "2024-09-30 15:30:32,251 - INFO - Parsed 10 (total 24) (0h 0m 17s) (published: 2012 downloaded: 2012-05-28 00:00:00)\n",
      "2024-09-30 15:30:34,185 - INFO - Parsed 7 (total 31) (0h 0m 19s) (published: 2016 downloaded: 2016-07-11 00:00:00)\n",
      "2024-09-30 15:30:34,264 - INFO - Parsed 6 (total 37) (0h 0m 19s) (published: 2017 downloaded: 2017-05-15 00:00:00)\n",
      "2024-09-30 15:30:36,045 - INFO - Parsed 12 (total 49) (0h 0m 21s) (published: 2014 downloaded: 2014-06-23 00:00:00)\n",
      "2024-09-30 15:30:37,675 - INFO - Parsed 14 (total 63) (0h 0m 22s) (published: 2018 downloaded: 2018-10-15 00:00:00)\n",
      "2024-09-30 15:30:37,835 - INFO - Parsed 6 (total 69) (0h 0m 22s) (published: 2012 downloaded: 2012-05-28 00:00:00)\n"
     ]
    },
    {
     "ename": "CancelledError",
     "evalue": "",
     "output_type": "error",
     "traceback": [
      "\u001b[0;31m---------------------------------------------------------------------------\u001b[0m",
      "\u001b[0;31mCancelledError\u001b[0m                            Traceback (most recent call last)",
      "Cell \u001b[0;32mIn[2], line 3\u001b[0m\n\u001b[1;32m      1\u001b[0m \u001b[38;5;28;01mfrom\u001b[39;00m \u001b[38;5;21;01mlib\u001b[39;00m\u001b[38;5;21;01m.\u001b[39;00m\u001b[38;5;21;01mtasks\u001b[39;00m\u001b[38;5;21;01m.\u001b[39;00m\u001b[38;5;21;01mingest_nswvg_property_sales\u001b[39;00m \u001b[38;5;28;01mimport\u001b[39;00m ingest \u001b[38;5;28;01mas\u001b[39;00m ingest_sale_prices\n\u001b[0;32m----> 3\u001b[0m \u001b[38;5;28;01mawait\u001b[39;00m ingest_sale_prices(environment, io)\n",
      "File \u001b[0;32m~/code/jupyter/notebooks/20240907, vg/lib/tasks/ingest_nswvg_property_sales.py:55\u001b[0m, in \u001b[0;36mingest\u001b[0;34m(env, io)\u001b[0m\n\u001b[1;32m     52\u001b[0m state \u001b[38;5;241m=\u001b[39m State()\n\u001b[1;32m     53\u001b[0m all_links \u001b[38;5;241m=\u001b[39m [\u001b[38;5;241m*\u001b[39menv\u001b[38;5;241m.\u001b[39msale_price_annual\u001b[38;5;241m.\u001b[39mlinks, \u001b[38;5;241m*\u001b[39menv\u001b[38;5;241m.\u001b[39msale_price_weekly\u001b[38;5;241m.\u001b[39mlinks]\n\u001b[0;32m---> 55\u001b[0m \u001b[38;5;28;01masync\u001b[39;00m \u001b[38;5;28;01mfor\u001b[39;00m task, item \u001b[38;5;129;01min\u001b[39;00m producer\u001b[38;5;241m.\u001b[39mget_rows(all_links):\n\u001b[1;32m     56\u001b[0m     \u001b[38;5;28;01mif\u001b[39;00m \u001b[38;5;28misinstance\u001b[39m(item, SaleDataFileSummary):\n\u001b[1;32m     57\u001b[0m         state\u001b[38;5;241m.\u001b[39macknowledge_summary(item, task)\n",
      "File \u001b[0;32m~/code/jupyter/notebooks/20240907, vg/lib/nsw_vg/property_sales/producer.py:62\u001b[0m, in \u001b[0;36mPropertySaleProducer.get_rows\u001b[0;34m(self, targets)\u001b[0m\n\u001b[1;32m     59\u001b[0m     \u001b[38;5;28;01mawait\u001b[39;00m asyncio\u001b[38;5;241m.\u001b[39mgather(\u001b[38;5;241m*\u001b[39mrunning)\n\u001b[1;32m     60\u001b[0m     \u001b[38;5;28;01mawait\u001b[39;00m queue\u001b[38;5;241m.\u001b[39mput(\u001b[38;5;28;01mNone\u001b[39;00m)\n\u001b[0;32m---> 62\u001b[0m \u001b[38;5;28;01masync\u001b[39;00m \u001b[38;5;28;01mwith\u001b[39;00m TaskGroup() \u001b[38;5;28;01mas\u001b[39;00m tg:\n\u001b[1;32m     63\u001b[0m     worker_task \u001b[38;5;241m=\u001b[39m tg\u001b[38;5;241m.\u001b[39mcreate_task(queue_work(tg))\n\u001b[1;32m     65\u001b[0m     \u001b[38;5;28;01mwhile\u001b[39;00m \u001b[38;5;28;01mTrue\u001b[39;00m:\n",
      "File \u001b[0;32m/usr/local/Caskroom/miniconda/base/lib/python3.12/asyncio/taskgroups.py:134\u001b[0m, in \u001b[0;36mTaskGroup.__aexit__\u001b[0;34m(self, et, exc, tb)\u001b[0m\n\u001b[1;32m    131\u001b[0m \u001b[38;5;66;03m# Propagate CancelledError if there is one, except if there\u001b[39;00m\n\u001b[1;32m    132\u001b[0m \u001b[38;5;66;03m# are other errors -- those have priority.\u001b[39;00m\n\u001b[1;32m    133\u001b[0m \u001b[38;5;28;01mif\u001b[39;00m propagate_cancellation_error \u001b[38;5;129;01mand\u001b[39;00m \u001b[38;5;129;01mnot\u001b[39;00m \u001b[38;5;28mself\u001b[39m\u001b[38;5;241m.\u001b[39m_errors:\n\u001b[0;32m--> 134\u001b[0m     \u001b[38;5;28;01mraise\u001b[39;00m propagate_cancellation_error\n\u001b[1;32m    136\u001b[0m \u001b[38;5;28;01mif\u001b[39;00m et \u001b[38;5;129;01mis\u001b[39;00m \u001b[38;5;129;01mnot\u001b[39;00m \u001b[38;5;28;01mNone\u001b[39;00m \u001b[38;5;129;01mand\u001b[39;00m et \u001b[38;5;129;01mis\u001b[39;00m \u001b[38;5;129;01mnot\u001b[39;00m exceptions\u001b[38;5;241m.\u001b[39mCancelledError:\n\u001b[1;32m    137\u001b[0m     \u001b[38;5;28mself\u001b[39m\u001b[38;5;241m.\u001b[39m_errors\u001b[38;5;241m.\u001b[39mappend(exc)\n",
      "File \u001b[0;32m~/code/jupyter/notebooks/20240907, vg/lib/nsw_vg/property_sales/producer.py:66\u001b[0m, in \u001b[0;36mPropertySaleProducer.get_rows\u001b[0;34m(self, targets)\u001b[0m\n\u001b[1;32m     63\u001b[0m worker_task \u001b[38;5;241m=\u001b[39m tg\u001b[38;5;241m.\u001b[39mcreate_task(queue_work(tg))\n\u001b[1;32m     65\u001b[0m \u001b[38;5;28;01mwhile\u001b[39;00m \u001b[38;5;28;01mTrue\u001b[39;00m:\n\u001b[0;32m---> 66\u001b[0m     result \u001b[38;5;241m=\u001b[39m \u001b[38;5;28;01mawait\u001b[39;00m tg\u001b[38;5;241m.\u001b[39mcreate_task(queue\u001b[38;5;241m.\u001b[39mget())\n\u001b[1;32m     67\u001b[0m     \u001b[38;5;28;01mif\u001b[39;00m result \u001b[38;5;129;01mis\u001b[39;00m \u001b[38;5;28;01mNone\u001b[39;00m:\n\u001b[1;32m     68\u001b[0m         \u001b[38;5;28;01mbreak\u001b[39;00m\n",
      "File \u001b[0;32m/usr/local/Caskroom/miniconda/base/lib/python3.12/asyncio/queues.py:149\u001b[0m, in \u001b[0;36mQueue.get\u001b[0;34m(self)\u001b[0m\n\u001b[1;32m    146\u001b[0m     \u001b[38;5;28mself\u001b[39m\u001b[38;5;241m.\u001b[39m_finished\u001b[38;5;241m.\u001b[39mclear()\n\u001b[1;32m    147\u001b[0m     \u001b[38;5;28mself\u001b[39m\u001b[38;5;241m.\u001b[39m_wakeup_next(\u001b[38;5;28mself\u001b[39m\u001b[38;5;241m.\u001b[39m_getters)\n\u001b[0;32m--> 149\u001b[0m \u001b[38;5;28;01masync\u001b[39;00m \u001b[38;5;28;01mdef\u001b[39;00m \u001b[38;5;21mget\u001b[39m(\u001b[38;5;28mself\u001b[39m):\n\u001b[1;32m    150\u001b[0m \u001b[38;5;250m    \u001b[39m\u001b[38;5;124;03m\"\"\"Remove and return an item from the queue.\u001b[39;00m\n\u001b[1;32m    151\u001b[0m \n\u001b[1;32m    152\u001b[0m \u001b[38;5;124;03m    If queue is empty, wait until an item is available.\u001b[39;00m\n\u001b[1;32m    153\u001b[0m \u001b[38;5;124;03m    \"\"\"\u001b[39;00m\n\u001b[1;32m    154\u001b[0m     \u001b[38;5;28;01mwhile\u001b[39;00m \u001b[38;5;28mself\u001b[39m\u001b[38;5;241m.\u001b[39mempty():\n",
      "\u001b[0;31mCancelledError\u001b[0m: "
     ]
    }
   ],
   "source": [
    "from lib.tasks.ingest_nswvg_property_sales import ingest as ingest_sale_prices\n",
    "\n",
    "await ingest_sale_prices(environment, io)"
   ]
  },
  {
   "cell_type": "code",
   "execution_count": null,
   "id": "24222008-787a-4613-aa99-1095e2091dc1",
   "metadata": {},
   "outputs": [],
   "source": []
  }
 ],
 "metadata": {
  "kernelspec": {
   "display_name": "Python 3 (ipykernel)",
   "language": "python",
   "name": "python3"
  },
  "language_info": {
   "codemirror_mode": {
    "name": "ipython",
    "version": 3
   },
   "file_extension": ".py",
   "mimetype": "text/x-python",
   "name": "python",
   "nbconvert_exporter": "python",
   "pygments_lexer": "ipython3",
   "version": "3.12.5"
  }
 },
 "nbformat": 4,
 "nbformat_minor": 5
}
